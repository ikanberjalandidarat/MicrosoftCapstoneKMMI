{
  "nbformat": 4,
  "nbformat_minor": 0,
  "metadata": {
    "colab": {
      "name": "MariBisnis - Microsoft Capstone Trial.ipynb",
      "provenance": [],
      "collapsed_sections": []
    },
    "kernelspec": {
      "display_name": "Python 3",
      "name": "python3"
    },
    "language_info": {
      "name": "python"
    }
  },
  "cells": [
    {
      "cell_type": "markdown",
      "metadata": {
        "id": "eb4J18xCzv-r"
      },
      "source": [
        "# Microsoft Capstone Project\n",
        "### Mari Bisnis Dataset\n",
        "### Subtheme: **Business** \n",
        "\n",
        "\n",
        "By: Zhafira E. Fawnia - DAI007 - Data & AI "
      ]
    },
    {
      "cell_type": "code",
      "metadata": {
        "colab": {
          "base_uri": "https://localhost:8080/"
        },
        "id": "qNtXC3NdP66L",
        "outputId": "42c87b83-b67b-471a-c3ad-825c4d220a1d"
      },
      "source": [
        "from google.colab import drive\n",
        "drive.mount('/content/drive')"
      ],
      "execution_count": 65,
      "outputs": [
        {
          "output_type": "stream",
          "name": "stdout",
          "text": [
            "Drive already mounted at /content/drive; to attempt to forcibly remount, call drive.mount(\"/content/drive\", force_remount=True).\n"
          ]
        }
      ]
    },
    {
      "cell_type": "code",
      "metadata": {
        "id": "dycg25buP-lm"
      },
      "source": [
        "import numpy as np\n",
        "import pandas as pd\n",
        "import seaborn as sns\n",
        "import matplotlib.pyplot as plt\n",
        "%matplotlib inline"
      ],
      "execution_count": 2,
      "outputs": []
    },
    {
      "cell_type": "code",
      "metadata": {
        "id": "0fC7YRPzQABp"
      },
      "source": [
        "# Loading the dataset\n",
        "df = pd.read_csv('/content/drive/My Drive/MariBisnis/MariBisnis.csv')"
      ],
      "execution_count": 3,
      "outputs": []
    },
    {
      "cell_type": "code",
      "metadata": {
        "colab": {
          "base_uri": "https://localhost:8080/",
          "height": 222
        },
        "id": "6pqkuzAUQdSo",
        "outputId": "92a70f0a-89ea-4737-e213-d853f676e9ec"
      },
      "source": [
        "df.head()"
      ],
      "execution_count": 4,
      "outputs": [
        {
          "output_type": "execute_result",
          "data": {
            "text/html": [
              "<div>\n",
              "<style scoped>\n",
              "    .dataframe tbody tr th:only-of-type {\n",
              "        vertical-align: middle;\n",
              "    }\n",
              "\n",
              "    .dataframe tbody tr th {\n",
              "        vertical-align: top;\n",
              "    }\n",
              "\n",
              "    .dataframe thead th {\n",
              "        text-align: right;\n",
              "    }\n",
              "</style>\n",
              "<table border=\"1\" class=\"dataframe\">\n",
              "  <thead>\n",
              "    <tr style=\"text-align: right;\">\n",
              "      <th></th>\n",
              "      <th>id</th>\n",
              "      <th>date</th>\n",
              "      <th>price</th>\n",
              "      <th>bedrooms</th>\n",
              "      <th>bathrooms</th>\n",
              "      <th>sqft_living</th>\n",
              "      <th>sqft_lot</th>\n",
              "      <th>floors</th>\n",
              "      <th>waterfront</th>\n",
              "      <th>view</th>\n",
              "      <th>condition</th>\n",
              "      <th>grade</th>\n",
              "      <th>sqft_above</th>\n",
              "      <th>sqft_basement</th>\n",
              "      <th>yr_built</th>\n",
              "      <th>yr_renovated</th>\n",
              "      <th>zipcode</th>\n",
              "      <th>lat</th>\n",
              "      <th>long</th>\n",
              "      <th>sqft_living15</th>\n",
              "      <th>sqft_lot15</th>\n",
              "    </tr>\n",
              "  </thead>\n",
              "  <tbody>\n",
              "    <tr>\n",
              "      <th>0</th>\n",
              "      <td>7129300520</td>\n",
              "      <td>20141013T000000</td>\n",
              "      <td>221900.0</td>\n",
              "      <td>3</td>\n",
              "      <td>1.00</td>\n",
              "      <td>1180</td>\n",
              "      <td>5650</td>\n",
              "      <td>1.0</td>\n",
              "      <td>0</td>\n",
              "      <td>0</td>\n",
              "      <td>3</td>\n",
              "      <td>7</td>\n",
              "      <td>1180</td>\n",
              "      <td>0</td>\n",
              "      <td>1955</td>\n",
              "      <td>0</td>\n",
              "      <td>98178</td>\n",
              "      <td>47.5112</td>\n",
              "      <td>-122.257</td>\n",
              "      <td>1340</td>\n",
              "      <td>5650</td>\n",
              "    </tr>\n",
              "    <tr>\n",
              "      <th>1</th>\n",
              "      <td>6414100192</td>\n",
              "      <td>20141209T000000</td>\n",
              "      <td>538000.0</td>\n",
              "      <td>3</td>\n",
              "      <td>2.25</td>\n",
              "      <td>2570</td>\n",
              "      <td>7242</td>\n",
              "      <td>2.0</td>\n",
              "      <td>0</td>\n",
              "      <td>0</td>\n",
              "      <td>3</td>\n",
              "      <td>7</td>\n",
              "      <td>2170</td>\n",
              "      <td>400</td>\n",
              "      <td>1951</td>\n",
              "      <td>1991</td>\n",
              "      <td>98125</td>\n",
              "      <td>47.7210</td>\n",
              "      <td>-122.319</td>\n",
              "      <td>1690</td>\n",
              "      <td>7639</td>\n",
              "    </tr>\n",
              "    <tr>\n",
              "      <th>2</th>\n",
              "      <td>5631500400</td>\n",
              "      <td>20150225T000000</td>\n",
              "      <td>180000.0</td>\n",
              "      <td>2</td>\n",
              "      <td>1.00</td>\n",
              "      <td>770</td>\n",
              "      <td>10000</td>\n",
              "      <td>1.0</td>\n",
              "      <td>0</td>\n",
              "      <td>0</td>\n",
              "      <td>3</td>\n",
              "      <td>6</td>\n",
              "      <td>770</td>\n",
              "      <td>0</td>\n",
              "      <td>1933</td>\n",
              "      <td>0</td>\n",
              "      <td>98028</td>\n",
              "      <td>47.7379</td>\n",
              "      <td>-122.233</td>\n",
              "      <td>2720</td>\n",
              "      <td>8062</td>\n",
              "    </tr>\n",
              "    <tr>\n",
              "      <th>3</th>\n",
              "      <td>2487200875</td>\n",
              "      <td>20141209T000000</td>\n",
              "      <td>604000.0</td>\n",
              "      <td>4</td>\n",
              "      <td>3.00</td>\n",
              "      <td>1960</td>\n",
              "      <td>5000</td>\n",
              "      <td>1.0</td>\n",
              "      <td>0</td>\n",
              "      <td>0</td>\n",
              "      <td>5</td>\n",
              "      <td>7</td>\n",
              "      <td>1050</td>\n",
              "      <td>910</td>\n",
              "      <td>1965</td>\n",
              "      <td>0</td>\n",
              "      <td>98136</td>\n",
              "      <td>47.5208</td>\n",
              "      <td>-122.393</td>\n",
              "      <td>1360</td>\n",
              "      <td>5000</td>\n",
              "    </tr>\n",
              "    <tr>\n",
              "      <th>4</th>\n",
              "      <td>1954400510</td>\n",
              "      <td>20150218T000000</td>\n",
              "      <td>510000.0</td>\n",
              "      <td>3</td>\n",
              "      <td>2.00</td>\n",
              "      <td>1680</td>\n",
              "      <td>8080</td>\n",
              "      <td>1.0</td>\n",
              "      <td>0</td>\n",
              "      <td>0</td>\n",
              "      <td>3</td>\n",
              "      <td>8</td>\n",
              "      <td>1680</td>\n",
              "      <td>0</td>\n",
              "      <td>1987</td>\n",
              "      <td>0</td>\n",
              "      <td>98074</td>\n",
              "      <td>47.6168</td>\n",
              "      <td>-122.045</td>\n",
              "      <td>1800</td>\n",
              "      <td>7503</td>\n",
              "    </tr>\n",
              "  </tbody>\n",
              "</table>\n",
              "</div>"
            ],
            "text/plain": [
              "           id             date     price  ...     long  sqft_living15  sqft_lot15\n",
              "0  7129300520  20141013T000000  221900.0  ... -122.257           1340        5650\n",
              "1  6414100192  20141209T000000  538000.0  ... -122.319           1690        7639\n",
              "2  5631500400  20150225T000000  180000.0  ... -122.233           2720        8062\n",
              "3  2487200875  20141209T000000  604000.0  ... -122.393           1360        5000\n",
              "4  1954400510  20150218T000000  510000.0  ... -122.045           1800        7503\n",
              "\n",
              "[5 rows x 21 columns]"
            ]
          },
          "metadata": {},
          "execution_count": 4
        }
      ]
    },
    {
      "cell_type": "markdown",
      "metadata": {
        "id": "9ZU1ntEag9zz"
      },
      "source": [
        "- Id - Unique ID for each home sold\n",
        "- date - Date of the home sale\n",
        "- price - Price of each home sold\n",
        "- bedrooms - Number of bedrooms\n",
        "- bathrooms - Number of bathrooms, where .5 accounts for a room with a toilet but no shower\n",
        "- sqft_living - Square footage of the apartments interior living space\n",
        "- sqft_lot - Square footage of the land space\n",
        "- floors - Number of floors\n",
        "- waterfront - A dummy variable for whether the apartment was overlooking the waterfront or not\n",
        "- view - An index from 0 to 4 of how good the view of the property was\n",
        "condition - An index from 1 to 5 on the condition of the apartment,\n",
        "- grade - An index from 1 to 13, where 1-3 falls short of building construction and design, 7 has an average level of construction and design, and 11-13 have a high quality level of construction and design.\n",
        "- sqft_above - The square footage of the interior housing space that is above ground level\n",
        "- sqft_basement - The square footage of the interior housing space that is below ground level\n",
        "- yr_built - The year the house was initially built\n",
        "- yr_renovated - The year of the house’s last renovation\n",
        "- zipcode - What zipcode area the house is in\n",
        "- lat - Lattitude\n",
        "- long - Longitude\n",
        "- sqft_living15 - The square footage of interior housing living space for the nearest 15 neighbors\n",
        "- sqft_lot15 - The square footage of the land lots of the nearest 15 neighbors\n",
        "\n",
        "\n"
      ]
    },
    {
      "cell_type": "code",
      "metadata": {
        "colab": {
          "base_uri": "https://localhost:8080/"
        },
        "id": "DkcSFyMzQoWE",
        "outputId": "ae19d5a7-2f55-4bd8-baf7-29ef9688f529"
      },
      "source": [
        "df.isnull().sum()"
      ],
      "execution_count": 5,
      "outputs": [
        {
          "output_type": "execute_result",
          "data": {
            "text/plain": [
              "id               0\n",
              "date             0\n",
              "price            0\n",
              "bedrooms         0\n",
              "bathrooms        0\n",
              "sqft_living      0\n",
              "sqft_lot         0\n",
              "floors           0\n",
              "waterfront       0\n",
              "view             0\n",
              "condition        0\n",
              "grade            0\n",
              "sqft_above       0\n",
              "sqft_basement    0\n",
              "yr_built         0\n",
              "yr_renovated     0\n",
              "zipcode          0\n",
              "lat              0\n",
              "long             0\n",
              "sqft_living15    0\n",
              "sqft_lot15       0\n",
              "dtype: int64"
            ]
          },
          "metadata": {},
          "execution_count": 5
        }
      ]
    },
    {
      "cell_type": "code",
      "metadata": {
        "colab": {
          "base_uri": "https://localhost:8080/"
        },
        "id": "dRq5weO3QrjZ",
        "outputId": "aa7b2c92-8137-4790-98f2-ec9515b18d20"
      },
      "source": [
        "df.shape"
      ],
      "execution_count": 6,
      "outputs": [
        {
          "output_type": "execute_result",
          "data": {
            "text/plain": [
              "(21613, 21)"
            ]
          },
          "metadata": {},
          "execution_count": 6
        }
      ]
    },
    {
      "cell_type": "code",
      "metadata": {
        "colab": {
          "base_uri": "https://localhost:8080/"
        },
        "id": "QMAa_wjxQtoA",
        "outputId": "68c24201-21d8-4f1f-88ce-d8c2fb16232c"
      },
      "source": [
        "df.info()"
      ],
      "execution_count": 7,
      "outputs": [
        {
          "output_type": "stream",
          "name": "stdout",
          "text": [
            "<class 'pandas.core.frame.DataFrame'>\n",
            "RangeIndex: 21613 entries, 0 to 21612\n",
            "Data columns (total 21 columns):\n",
            " #   Column         Non-Null Count  Dtype  \n",
            "---  ------         --------------  -----  \n",
            " 0   id             21613 non-null  int64  \n",
            " 1   date           21613 non-null  object \n",
            " 2   price          21613 non-null  float64\n",
            " 3   bedrooms       21613 non-null  int64  \n",
            " 4   bathrooms      21613 non-null  float64\n",
            " 5   sqft_living    21613 non-null  int64  \n",
            " 6   sqft_lot       21613 non-null  int64  \n",
            " 7   floors         21613 non-null  float64\n",
            " 8   waterfront     21613 non-null  int64  \n",
            " 9   view           21613 non-null  int64  \n",
            " 10  condition      21613 non-null  int64  \n",
            " 11  grade          21613 non-null  int64  \n",
            " 12  sqft_above     21613 non-null  int64  \n",
            " 13  sqft_basement  21613 non-null  int64  \n",
            " 14  yr_built       21613 non-null  int64  \n",
            " 15  yr_renovated   21613 non-null  int64  \n",
            " 16  zipcode        21613 non-null  int64  \n",
            " 17  lat            21613 non-null  float64\n",
            " 18  long           21613 non-null  float64\n",
            " 19  sqft_living15  21613 non-null  int64  \n",
            " 20  sqft_lot15     21613 non-null  int64  \n",
            "dtypes: float64(5), int64(15), object(1)\n",
            "memory usage: 3.5+ MB\n"
          ]
        }
      ]
    },
    {
      "cell_type": "markdown",
      "metadata": {
        "id": "JXiwbZF1RVEf"
      },
      "source": [
        "Only one categorical variable (object type) which is the date column. \n",
        "The rest are numerical, this is sufficient for predictions using machine learning algorithms. But first, we must do feature engineering on these columns. "
      ]
    },
    {
      "cell_type": "code",
      "metadata": {
        "id": "wtxM6N3SQwol"
      },
      "source": [
        "numerical = ['id', 'price','bedrooms',  'bathrooms',  'sqft_living','sqft_lot',\n",
        "           'floors', 'waterfront','view', 'condition',  'grade','sqft_above','sqft_basement','yr_built','yr_renovated','zipcode','lat','long','sqft_living15','sqft_lot15']\n",
        "# Since only categorical = ['date'], we will just omit the date feature column as it holds no significance in prediction goals."
      ],
      "execution_count": 8,
      "outputs": []
    },
    {
      "cell_type": "code",
      "metadata": {
        "id": "IvYt7caVQ9RP"
      },
      "source": [
        "df_original = df\n",
        "df = df[numerical]"
      ],
      "execution_count": 9,
      "outputs": []
    },
    {
      "cell_type": "markdown",
      "metadata": {
        "id": "Z9rlfJrve-4c"
      },
      "source": [
        "## Outlier Detection"
      ]
    },
    {
      "cell_type": "code",
      "metadata": {
        "id": "7EGkwmsxfggx"
      },
      "source": [
        "from sklearn.decomposition import PCA\n",
        "from matplotlib import rcParams\n",
        "from sklearn.preprocessing import QuantileTransformer\n",
        "import scipy.stats as stats\n",
        "from sklearn.cluster import DBSCAN"
      ],
      "execution_count": 10,
      "outputs": []
    },
    {
      "cell_type": "code",
      "metadata": {
        "colab": {
          "base_uri": "https://localhost:8080/"
        },
        "id": "GjIg6_Yfia8i",
        "outputId": "f4ff1206-cfda-498d-b527-8e7ce0ab7bf8"
      },
      "source": [
        "# Detecting outliers of price with Z-Score\n",
        "out=[]\n",
        "def Zscore_outlier(df):\n",
        "    m = np.mean(df)\n",
        "    sd = np.std(df)\n",
        "    for i in df: \n",
        "        z = (i-m)/sd\n",
        "        if np.abs(z) > 3: \n",
        "            out.append(i)\n",
        "    print(\"Outliers:\",out)\n",
        "Zscore_outlier(df_original['price'])"
      ],
      "execution_count": 11,
      "outputs": [
        {
          "output_type": "stream",
          "name": "stdout",
          "text": [
            "Outliers: [2000000.0, 2250000.0, 2400000.0, 2900000.0, 2050000.0, 3075000.0, 2384000.0, 2250000.0, 2125000.0, 1950000.0, 3070000.0, 2250000.0, 2400000.0, 2450000.0, 1955000.0, 1750000.0, 5110800.0, 1875000.0, 2300000.0, 2260000.0, 5300000.0, 2200000.0, 1700000.0, 2537000.0, 5350000.0, 2250000.0, 1679000.0, 1928000.0, 2350000.0, 1715000.0, 2400000.0, 2532000.0, 3850000.0, 1735000.0, 1700000.0, 1650000.0, 1680000.0, 1760000.0, 2750000.0, 1810000.0, 3278000.0, 1700000.0, 1865000.0, 1650000.0, 4500000.0, 1835000.0, 3600000.0, 3000000.0, 2950000.0, 2525000.0, 1799000.0, 2298000.0, 2288000.0, 1899000.0, 1901000.0, 1900000.0, 1965000.0, 1675000.0, 2075000.0, 2544750.0, 2095000.0, 2453500.0, 2450000.0, 1905000.0, 1740000.0, 1650000.0, 2890000.0, 2200000.0, 2950000.0, 7062500.0, 2400000.0, 2500000.0, 2150000.0, 4000000.0, 2880500.0, 1875000.0, 2400000.0, 2125000.0, 2050000.0, 1705000.0, 5570000.0, 1670000.0, 2000000.0, 2485000.0, 1850000.0, 2479000.0, 2048000.0, 1895000.0, 1940000.0, 1740000.0, 2850000.0, 1780000.0, 1880000.0, 1691000.0, 2400000.0, 2466350.0, 1850000.0, 1697000.0, 1795000.0, 1727000.0, 3418800.0, 2725000.0, 2385000.0, 2196000.0, 2400000.0, 1695000.0, 2200000.0, 1965220.0, 2903000.0, 1925000.0, 1940000.0, 3650000.0, 1998000.0, 2650000.0, 1875000.0, 2700000.0, 2250000.0, 1900000.0, 2175000.0, 3800000.0, 1650000.0, 1735000.0, 3200000.0, 7700000.0, 2500000.0, 3100000.0, 1775000.0, 1975000.0, 2575000.0, 2500000.0, 1700000.0, 2538000.0, 2150000.0, 1646000.0, 1900000.0, 3200000.0, 1824100.0, 2900000.0, 3400000.0, 1851000.0, 4668000.0, 1865000.0, 2450000.0, 2193000.0, 1655000.0, 2140000.0, 4489000.0, 1800000.0, 1910000.0, 1955000.0, 1680000.0, 6885000.0, 1680000.0, 2575000.0, 1925000.0, 1698000.0, 2375000.0, 1795000.0, 1780000.0, 1755000.0, 1695000.0, 1648000.0, 1730000.0, 1738000.0, 1695000.0, 1900000.0, 2700000.0, 2983000.0, 3400000.0, 3120000.0, 2000000.0, 1700000.0, 1700000.0, 1688000.0, 1769000.0, 1650000.0, 1662000.0, 1820000.0, 2555000.0, 1699000.0, 3000000.0, 2100000.0, 1800000.0, 1705000.0, 2300000.0, 2750000.0, 1655000.0, 3200000.0, 1750000.0, 2795000.0, 1730000.0, 2200000.0, 1850000.0, 1785000.0, 1950000.0, 2575000.0, 3000000.0, 2135000.0, 1665000.0, 1959000.0, 1650000.0, 1712750.0, 1650000.0, 4208000.0, 1900000.0, 1890000.0, 1960000.0, 2000000.0, 2535000.0, 1850000.0, 2408000.0, 2280000.0, 1749000.0, 3100000.0, 2300000.0, 1698890.0, 2250000.0, 1700000.0, 1651000.0, 2546000.0, 1800000.0, 2000000.0, 1999000.0, 1688000.0, 1822500.0, 2415000.0, 1650000.0, 3168750.0, 1775000.0, 1762000.0, 1900000.0, 2340000.0, 2600000.0, 1712500.0, 1810000.0, 1795000.0, 1886700.0, 3395000.0, 1815000.0, 2885000.0, 1680000.0, 2750000.0, 3300000.0, 2110000.0, 2225000.0, 2200000.0, 1950000.0, 1690000.0, 1800000.0, 2200000.0, 2400000.0, 1989000.0, 2888000.0, 2230000.0, 1900000.0, 2600000.0, 2450000.0, 2000000.0, 1770000.0, 2152500.0, 1950000.0, 1755000.0, 2200000.0, 1900000.0, 2300000.0, 3640900.0, 3065000.0, 1675000.0, 1950000.0, 1650000.0, 3200000.0, 1800000.0, 2300000.0, 1825000.0, 1681000.0, 2271150.0, 1715000.0, 1680000.0, 1850000.0, 1675000.0, 1690000.0, 2480000.0, 1925000.0, 1815000.0, 1950000.0, 2328000.0, 3710000.0, 1660000.0, 1750000.0, 1875000.0, 1980000.0, 1810000.0, 2195000.0, 2140000.0, 1920000.0, 1650000.0, 2574000.0, 2500000.0, 2300000.0, 3100000.0, 2187730.0, 1776000.0, 2500000.0, 1880000.0, 1970000.0, 2250000.0, 1735000.0, 2225000.0, 1802750.0, 1870000.0, 2510000.0, 1650000.0, 2005000.0, 2050000.0, 1650000.0, 2458000.0, 2027000.0, 1990000.0, 1735000.0, 1695000.0, 1680000.0, 1702500.0, 3300000.0, 1855000.0, 2367000.0, 2475000.0, 1862000.0, 3300000.0, 2920000.0, 2630000.0, 1728000.0, 2700000.0, 3300000.0, 3650000.0, 1650000.0, 2950000.0, 2147500.0, 1700000.0, 2680000.0, 1675000.0, 1945000.0, 2180000.0, 1920000.0, 3800000.0, 3635000.0, 2000000.0, 2720000.0, 1800000.0, 2160000.0, 1950000.0, 1900000.0, 2395000.0, 1980000.0, 1850000.0, 2205000.0, 1680000.0, 2250000.0, 2641100.0, 2320000.0, 1710000.0, 2700000.0, 1695000.0, 1898000.0, 2700000.0, 1750000.0, 2250000.0, 2945000.0, 1750000.0, 1789950.0, 2150000.0, 2225000.0, 3204000.0, 3000000.0, 2350000.0, 1800000.0, 2998000.0, 3345000.0, 1800000.0, 1699990.0, 1898000.0, 2950000.0, 2321000.0, 2300000.0, 1900000.0, 1750000.0, 1940000.0, 1830000.0, 2900000.0, 1880000.0, 1800000.0, 1839900.0, 2230000.0, 2351960.0, 1698000.0, 1999950.0, 2065000.0, 1765000.0, 1987500.0, 1750000.0, 1720000.0, 2238890.0, 1865000.0, 3000000.0, 1881580.0, 1700000.0, 3567000.0]\n"
          ]
        }
      ]
    },
    {
      "cell_type": "code",
      "metadata": {
        "colab": {
          "base_uri": "https://localhost:8080/",
          "height": 842
        },
        "id": "-tLbCQicgTNB",
        "outputId": "ee1b5c92-0398-4d27-c985-9d78a3f28542"
      },
      "source": [
        "sns.boxplot(df['price'])\n",
        "plt.title(\"Box Plot before outlier removing\")\n",
        "plt.show()\n",
        "def drop_outliers(df, field_name):\n",
        "    iqr = 1.5 * (np.percentile(df[field_name], 75) - np.percentile(df[field_name], 25))\n",
        "    df.drop(df[df[field_name] > (iqr + np.percentile(df[field_name], 75))].index, inplace=True)\n",
        "    df.drop(df[df[field_name] < (np.percentile(df[field_name], 25) - iqr)].index, inplace=True)\n",
        "drop_outliers(df, 'price')\n",
        "sns.boxplot(df['price'])\n",
        "plt.title(\"Box Plot after outlier removing\")\n",
        "plt.show()"
      ],
      "execution_count": 12,
      "outputs": [
        {
          "output_type": "stream",
          "name": "stderr",
          "text": [
            "/usr/local/lib/python3.7/dist-packages/seaborn/_decorators.py:43: FutureWarning: Pass the following variable as a keyword arg: x. From version 0.12, the only valid positional argument will be `data`, and passing other arguments without an explicit keyword will result in an error or misinterpretation.\n",
            "  FutureWarning\n"
          ]
        },
        {
          "output_type": "display_data",
          "data": {
            "image/png": "[encoded data removed]",
            "text/plain": [
              "<Figure size 432x288 with 1 Axes>"
            ]
          },
          "metadata": {
            "needs_background": "light"
          }
        },
        {
          "output_type": "stream",
          "name": "stderr",
          "text": [
            "/usr/local/lib/python3.7/dist-packages/pandas/core/frame.py:4174: SettingWithCopyWarning: \n",
            "A value is trying to be set on a copy of a slice from a DataFrame\n",
            "\n",
            "See the caveats in the documentation: https://pandas.pydata.org/pandas-docs/stable/user_guide/indexing.html#returning-a-view-versus-a-copy\n",
            "  errors=errors,\n",
            "/usr/local/lib/python3.7/dist-packages/pandas/core/frame.py:4174: SettingWithCopyWarning: \n",
            "A value is trying to be set on a copy of a slice from a DataFrame\n",
            "\n",
            "See the caveats in the documentation: https://pandas.pydata.org/pandas-docs/stable/user_guide/indexing.html#returning-a-view-versus-a-copy\n",
            "  errors=errors,\n",
            "/usr/local/lib/python3.7/dist-packages/seaborn/_decorators.py:43: FutureWarning: Pass the following variable as a keyword arg: x. From version 0.12, the only valid positional argument will be `data`, and passing other arguments without an explicit keyword will result in an error or misinterpretation.\n",
            "  FutureWarning\n"
          ]
        },
        {
          "output_type": "display_data",
          "data": {
            "image/png": "[encoded data removed]",
            "text/plain": [
              "<Figure size 432x288 with 1 Axes>"
            ]
          },
          "metadata": {
            "needs_background": "light"
          }
        }
      ]
    },
    {
      "cell_type": "code",
      "metadata": {
        "colab": {
          "base_uri": "https://localhost:8080/"
        },
        "id": "T1uB4KPCiTFd",
        "outputId": "6de97a96-ff59-4d8b-80ce-d28b193c8e3e"
      },
      "source": [
        "df.shape # After removing"
      ],
      "execution_count": 13,
      "outputs": [
        {
          "output_type": "execute_result",
          "data": {
            "text/plain": [
              "(20467, 20)"
            ]
          },
          "metadata": {},
          "execution_count": 13
        }
      ]
    },
    {
      "cell_type": "code",
      "metadata": {
        "colab": {
          "base_uri": "https://localhost:8080/"
        },
        "id": "In9D2tLxiUmQ",
        "outputId": "ec56a9a5-2c88-41b7-a5de-09032927adf1"
      },
      "source": [
        "df_original.shape # Before removing"
      ],
      "execution_count": 14,
      "outputs": [
        {
          "output_type": "execute_result",
          "data": {
            "text/plain": [
              "(21613, 21)"
            ]
          },
          "metadata": {},
          "execution_count": 14
        }
      ]
    },
    {
      "cell_type": "markdown",
      "metadata": {
        "id": "ydSe_LTafBbh"
      },
      "source": [
        "## Feature Analysis & Engineering"
      ]
    },
    {
      "cell_type": "code",
      "metadata": {
        "id": "Br_5otoZxiNP"
      },
      "source": [
        "features = df.columns\n",
        "traindf = df.dropna()"
      ],
      "execution_count": 15,
      "outputs": []
    },
    {
      "cell_type": "code",
      "metadata": {
        "id": "5IPRTxQ1Sr0g"
      },
      "source": [
        "traindf = pd.DataFrame(traindf,columns=features)"
      ],
      "execution_count": 16,
      "outputs": []
    },
    {
      "cell_type": "code",
      "metadata": {
        "id": "hFHwcVGOSu7Y",
        "colab": {
          "base_uri": "https://localhost:8080/",
          "height": 434
        },
        "outputId": "4ebba532-7fee-4ca8-e42b-49c9e01f307d"
      },
      "source": [
        "traindf"
      ],
      "execution_count": 17,
      "outputs": [
        {
          "output_type": "execute_result",
          "data": {
            "text/html": [
              "<div>\n",
              "<style scoped>\n",
              "    .dataframe tbody tr th:only-of-type {\n",
              "        vertical-align: middle;\n",
              "    }\n",
              "\n",
              "    .dataframe tbody tr th {\n",
              "        vertical-align: top;\n",
              "    }\n",
              "\n",
              "    .dataframe thead th {\n",
              "        text-align: right;\n",
              "    }\n",
              "</style>\n",
              "<table border=\"1\" class=\"dataframe\">\n",
              "  <thead>\n",
              "    <tr style=\"text-align: right;\">\n",
              "      <th></th>\n",
              "      <th>id</th>\n",
              "      <th>price</th>\n",
              "      <th>bedrooms</th>\n",
              "      <th>bathrooms</th>\n",
              "      <th>sqft_living</th>\n",
              "      <th>sqft_lot</th>\n",
              "      <th>floors</th>\n",
              "      <th>waterfront</th>\n",
              "      <th>view</th>\n",
              "      <th>condition</th>\n",
              "      <th>grade</th>\n",
              "      <th>sqft_above</th>\n",
              "      <th>sqft_basement</th>\n",
              "      <th>yr_built</th>\n",
              "      <th>yr_renovated</th>\n",
              "      <th>zipcode</th>\n",
              "      <th>lat</th>\n",
              "      <th>long</th>\n",
              "      <th>sqft_living15</th>\n",
              "      <th>sqft_lot15</th>\n",
              "    </tr>\n",
              "  </thead>\n",
              "  <tbody>\n",
              "    <tr>\n",
              "      <th>0</th>\n",
              "      <td>7129300520</td>\n",
              "      <td>221900.0</td>\n",
              "      <td>3</td>\n",
              "      <td>1.00</td>\n",
              "      <td>1180</td>\n",
              "      <td>5650</td>\n",
              "      <td>1.0</td>\n",
              "      <td>0</td>\n",
              "      <td>0</td>\n",
              "      <td>3</td>\n",
              "      <td>7</td>\n",
              "      <td>1180</td>\n",
              "      <td>0</td>\n",
              "      <td>1955</td>\n",
              "      <td>0</td>\n",
              "      <td>98178</td>\n",
              "      <td>47.5112</td>\n",
              "      <td>-122.257</td>\n",
              "      <td>1340</td>\n",
              "      <td>5650</td>\n",
              "    </tr>\n",
              "    <tr>\n",
              "      <th>1</th>\n",
              "      <td>6414100192</td>\n",
              "      <td>538000.0</td>\n",
              "      <td>3</td>\n",
              "      <td>2.25</td>\n",
              "      <td>2570</td>\n",
              "      <td>7242</td>\n",
              "      <td>2.0</td>\n",
              "      <td>0</td>\n",
              "      <td>0</td>\n",
              "      <td>3</td>\n",
              "      <td>7</td>\n",
              "      <td>2170</td>\n",
              "      <td>400</td>\n",
              "      <td>1951</td>\n",
              "      <td>1991</td>\n",
              "      <td>98125</td>\n",
              "      <td>47.7210</td>\n",
              "      <td>-122.319</td>\n",
              "      <td>1690</td>\n",
              "      <td>7639</td>\n",
              "    </tr>\n",
              "    <tr>\n",
              "      <th>2</th>\n",
              "      <td>5631500400</td>\n",
              "      <td>180000.0</td>\n",
              "      <td>2</td>\n",
              "      <td>1.00</td>\n",
              "      <td>770</td>\n",
              "      <td>10000</td>\n",
              "      <td>1.0</td>\n",
              "      <td>0</td>\n",
              "      <td>0</td>\n",
              "      <td>3</td>\n",
              "      <td>6</td>\n",
              "      <td>770</td>\n",
              "      <td>0</td>\n",
              "      <td>1933</td>\n",
              "      <td>0</td>\n",
              "      <td>98028</td>\n",
              "      <td>47.7379</td>\n",
              "      <td>-122.233</td>\n",
              "      <td>2720</td>\n",
              "      <td>8062</td>\n",
              "    </tr>\n",
              "    <tr>\n",
              "      <th>3</th>\n",
              "      <td>2487200875</td>\n",
              "      <td>604000.0</td>\n",
              "      <td>4</td>\n",
              "      <td>3.00</td>\n",
              "      <td>1960</td>\n",
              "      <td>5000</td>\n",
              "      <td>1.0</td>\n",
              "      <td>0</td>\n",
              "      <td>0</td>\n",
              "      <td>5</td>\n",
              "      <td>7</td>\n",
              "      <td>1050</td>\n",
              "      <td>910</td>\n",
              "      <td>1965</td>\n",
              "      <td>0</td>\n",
              "      <td>98136</td>\n",
              "      <td>47.5208</td>\n",
              "      <td>-122.393</td>\n",
              "      <td>1360</td>\n",
              "      <td>5000</td>\n",
              "    </tr>\n",
              "    <tr>\n",
              "      <th>4</th>\n",
              "      <td>1954400510</td>\n",
              "      <td>510000.0</td>\n",
              "      <td>3</td>\n",
              "      <td>2.00</td>\n",
              "      <td>1680</td>\n",
              "      <td>8080</td>\n",
              "      <td>1.0</td>\n",
              "      <td>0</td>\n",
              "      <td>0</td>\n",
              "      <td>3</td>\n",
              "      <td>8</td>\n",
              "      <td>1680</td>\n",
              "      <td>0</td>\n",
              "      <td>1987</td>\n",
              "      <td>0</td>\n",
              "      <td>98074</td>\n",
              "      <td>47.6168</td>\n",
              "      <td>-122.045</td>\n",
              "      <td>1800</td>\n",
              "      <td>7503</td>\n",
              "    </tr>\n",
              "    <tr>\n",
              "      <th>...</th>\n",
              "      <td>...</td>\n",
              "      <td>...</td>\n",
              "      <td>...</td>\n",
              "      <td>...</td>\n",
              "      <td>...</td>\n",
              "      <td>...</td>\n",
              "      <td>...</td>\n",
              "      <td>...</td>\n",
              "      <td>...</td>\n",
              "      <td>...</td>\n",
              "      <td>...</td>\n",
              "      <td>...</td>\n",
              "      <td>...</td>\n",
              "      <td>...</td>\n",
              "      <td>...</td>\n",
              "      <td>...</td>\n",
              "      <td>...</td>\n",
              "      <td>...</td>\n",
              "      <td>...</td>\n",
              "      <td>...</td>\n",
              "    </tr>\n",
              "    <tr>\n",
              "      <th>21608</th>\n",
              "      <td>263000018</td>\n",
              "      <td>360000.0</td>\n",
              "      <td>3</td>\n",
              "      <td>2.50</td>\n",
              "      <td>1530</td>\n",
              "      <td>1131</td>\n",
              "      <td>3.0</td>\n",
              "      <td>0</td>\n",
              "      <td>0</td>\n",
              "      <td>3</td>\n",
              "      <td>8</td>\n",
              "      <td>1530</td>\n",
              "      <td>0</td>\n",
              "      <td>2009</td>\n",
              "      <td>0</td>\n",
              "      <td>98103</td>\n",
              "      <td>47.6993</td>\n",
              "      <td>-122.346</td>\n",
              "      <td>1530</td>\n",
              "      <td>1509</td>\n",
              "    </tr>\n",
              "    <tr>\n",
              "      <th>21609</th>\n",
              "      <td>6600060120</td>\n",
              "      <td>400000.0</td>\n",
              "      <td>4</td>\n",
              "      <td>2.50</td>\n",
              "      <td>2310</td>\n",
              "      <td>5813</td>\n",
              "      <td>2.0</td>\n",
              "      <td>0</td>\n",
              "      <td>0</td>\n",
              "      <td>3</td>\n",
              "      <td>8</td>\n",
              "      <td>2310</td>\n",
              "      <td>0</td>\n",
              "      <td>2014</td>\n",
              "      <td>0</td>\n",
              "      <td>98146</td>\n",
              "      <td>47.5107</td>\n",
              "      <td>-122.362</td>\n",
              "      <td>1830</td>\n",
              "      <td>7200</td>\n",
              "    </tr>\n",
              "    <tr>\n",
              "      <th>21610</th>\n",
              "      <td>1523300141</td>\n",
              "      <td>402101.0</td>\n",
              "      <td>2</td>\n",
              "      <td>0.75</td>\n",
              "      <td>1020</td>\n",
              "      <td>1350</td>\n",
              "      <td>2.0</td>\n",
              "      <td>0</td>\n",
              "      <td>0</td>\n",
              "      <td>3</td>\n",
              "      <td>7</td>\n",
              "      <td>1020</td>\n",
              "      <td>0</td>\n",
              "      <td>2009</td>\n",
              "      <td>0</td>\n",
              "      <td>98144</td>\n",
              "      <td>47.5944</td>\n",
              "      <td>-122.299</td>\n",
              "      <td>1020</td>\n",
              "      <td>2007</td>\n",
              "    </tr>\n",
              "    <tr>\n",
              "      <th>21611</th>\n",
              "      <td>291310100</td>\n",
              "      <td>400000.0</td>\n",
              "      <td>3</td>\n",
              "      <td>2.50</td>\n",
              "      <td>1600</td>\n",
              "      <td>2388</td>\n",
              "      <td>2.0</td>\n",
              "      <td>0</td>\n",
              "      <td>0</td>\n",
              "      <td>3</td>\n",
              "      <td>8</td>\n",
              "      <td>1600</td>\n",
              "      <td>0</td>\n",
              "      <td>2004</td>\n",
              "      <td>0</td>\n",
              "      <td>98027</td>\n",
              "      <td>47.5345</td>\n",
              "      <td>-122.069</td>\n",
              "      <td>1410</td>\n",
              "      <td>1287</td>\n",
              "    </tr>\n",
              "    <tr>\n",
              "      <th>21612</th>\n",
              "      <td>1523300157</td>\n",
              "      <td>325000.0</td>\n",
              "      <td>2</td>\n",
              "      <td>0.75</td>\n",
              "      <td>1020</td>\n",
              "      <td>1076</td>\n",
              "      <td>2.0</td>\n",
              "      <td>0</td>\n",
              "      <td>0</td>\n",
              "      <td>3</td>\n",
              "      <td>7</td>\n",
              "      <td>1020</td>\n",
              "      <td>0</td>\n",
              "      <td>2008</td>\n",
              "      <td>0</td>\n",
              "      <td>98144</td>\n",
              "      <td>47.5941</td>\n",
              "      <td>-122.299</td>\n",
              "      <td>1020</td>\n",
              "      <td>1357</td>\n",
              "    </tr>\n",
              "  </tbody>\n",
              "</table>\n",
              "<p>20467 rows × 20 columns</p>\n",
              "</div>"
            ],
            "text/plain": [
              "               id     price  bedrooms  ...     long  sqft_living15  sqft_lot15\n",
              "0      7129300520  221900.0         3  ... -122.257           1340        5650\n",
              "1      6414100192  538000.0         3  ... -122.319           1690        7639\n",
              "2      5631500400  180000.0         2  ... -122.233           2720        8062\n",
              "3      2487200875  604000.0         4  ... -122.393           1360        5000\n",
              "4      1954400510  510000.0         3  ... -122.045           1800        7503\n",
              "...           ...       ...       ...  ...      ...            ...         ...\n",
              "21608   263000018  360000.0         3  ... -122.346           1530        1509\n",
              "21609  6600060120  400000.0         4  ... -122.362           1830        7200\n",
              "21610  1523300141  402101.0         2  ... -122.299           1020        2007\n",
              "21611   291310100  400000.0         3  ... -122.069           1410        1287\n",
              "21612  1523300157  325000.0         2  ... -122.299           1020        1357\n",
              "\n",
              "[20467 rows x 20 columns]"
            ]
          },
          "metadata": {},
          "execution_count": 17
        }
      ]
    },
    {
      "cell_type": "code",
      "metadata": {
        "colab": {
          "base_uri": "https://localhost:8080/",
          "height": 513
        },
        "id": "gzys5XG2f-iK",
        "outputId": "5bc2403d-43ea-4be6-a1e0-b7723c948c18"
      },
      "source": [
        "plt.subplots(figsize=(9,7))\n",
        "corr=traindf.drop(['id'],1).corr()\n",
        "sns.heatmap(corr,square=True)"
      ],
      "execution_count": 18,
      "outputs": [
        {
          "output_type": "execute_result",
          "data": {
            "text/plain": [
              "<matplotlib.axes._subplots.AxesSubplot at 0x7fb39fc5ab90>"
            ]
          },
          "metadata": {},
          "execution_count": 18
        },
        {
          "output_type": "display_data",
          "data": {
            "image/png": "[encoded data removed]",
            "text/plain": [
              "<Figure size 648x504 with 2 Axes>"
            ]
          },
          "metadata": {
            "needs_background": "light"
          }
        }
      ]
    },
    {
      "cell_type": "code",
      "metadata": {
        "id": "Nkm7uSHcSvyE"
      },
      "source": [
        "# Okay, let's assume a good house would have a price of >200000\n",
        "y = traindf['price']>=200000\n",
        "X = traindf.copy()\n",
        "del X['price']"
      ],
      "execution_count": 19,
      "outputs": []
    },
    {
      "cell_type": "code",
      "metadata": {
        "colab": {
          "base_uri": "https://localhost:8080/",
          "height": 222
        },
        "id": "yrEUYBkqS6lh",
        "outputId": "19a88330-0b30-4116-84a0-b94a22c59e8b"
      },
      "source": [
        "X.head()"
      ],
      "execution_count": 20,
      "outputs": [
        {
          "output_type": "execute_result",
          "data": {
            "text/html": [
              "<div>\n",
              "<style scoped>\n",
              "    .dataframe tbody tr th:only-of-type {\n",
              "        vertical-align: middle;\n",
              "    }\n",
              "\n",
              "    .dataframe tbody tr th {\n",
              "        vertical-align: top;\n",
              "    }\n",
              "\n",
              "    .dataframe thead th {\n",
              "        text-align: right;\n",
              "    }\n",
              "</style>\n",
              "<table border=\"1\" class=\"dataframe\">\n",
              "  <thead>\n",
              "    <tr style=\"text-align: right;\">\n",
              "      <th></th>\n",
              "      <th>id</th>\n",
              "      <th>bedrooms</th>\n",
              "      <th>bathrooms</th>\n",
              "      <th>sqft_living</th>\n",
              "      <th>sqft_lot</th>\n",
              "      <th>floors</th>\n",
              "      <th>waterfront</th>\n",
              "      <th>view</th>\n",
              "      <th>condition</th>\n",
              "      <th>grade</th>\n",
              "      <th>sqft_above</th>\n",
              "      <th>sqft_basement</th>\n",
              "      <th>yr_built</th>\n",
              "      <th>yr_renovated</th>\n",
              "      <th>zipcode</th>\n",
              "      <th>lat</th>\n",
              "      <th>long</th>\n",
              "      <th>sqft_living15</th>\n",
              "      <th>sqft_lot15</th>\n",
              "    </tr>\n",
              "  </thead>\n",
              "  <tbody>\n",
              "    <tr>\n",
              "      <th>0</th>\n",
              "      <td>7129300520</td>\n",
              "      <td>3</td>\n",
              "      <td>1.00</td>\n",
              "      <td>1180</td>\n",
              "      <td>5650</td>\n",
              "      <td>1.0</td>\n",
              "      <td>0</td>\n",
              "      <td>0</td>\n",
              "      <td>3</td>\n",
              "      <td>7</td>\n",
              "      <td>1180</td>\n",
              "      <td>0</td>\n",
              "      <td>1955</td>\n",
              "      <td>0</td>\n",
              "      <td>98178</td>\n",
              "      <td>47.5112</td>\n",
              "      <td>-122.257</td>\n",
              "      <td>1340</td>\n",
              "      <td>5650</td>\n",
              "    </tr>\n",
              "    <tr>\n",
              "      <th>1</th>\n",
              "      <td>6414100192</td>\n",
              "      <td>3</td>\n",
              "      <td>2.25</td>\n",
              "      <td>2570</td>\n",
              "      <td>7242</td>\n",
              "      <td>2.0</td>\n",
              "      <td>0</td>\n",
              "      <td>0</td>\n",
              "      <td>3</td>\n",
              "      <td>7</td>\n",
              "      <td>2170</td>\n",
              "      <td>400</td>\n",
              "      <td>1951</td>\n",
              "      <td>1991</td>\n",
              "      <td>98125</td>\n",
              "      <td>47.7210</td>\n",
              "      <td>-122.319</td>\n",
              "      <td>1690</td>\n",
              "      <td>7639</td>\n",
              "    </tr>\n",
              "    <tr>\n",
              "      <th>2</th>\n",
              "      <td>5631500400</td>\n",
              "      <td>2</td>\n",
              "      <td>1.00</td>\n",
              "      <td>770</td>\n",
              "      <td>10000</td>\n",
              "      <td>1.0</td>\n",
              "      <td>0</td>\n",
              "      <td>0</td>\n",
              "      <td>3</td>\n",
              "      <td>6</td>\n",
              "      <td>770</td>\n",
              "      <td>0</td>\n",
              "      <td>1933</td>\n",
              "      <td>0</td>\n",
              "      <td>98028</td>\n",
              "      <td>47.7379</td>\n",
              "      <td>-122.233</td>\n",
              "      <td>2720</td>\n",
              "      <td>8062</td>\n",
              "    </tr>\n",
              "    <tr>\n",
              "      <th>3</th>\n",
              "      <td>2487200875</td>\n",
              "      <td>4</td>\n",
              "      <td>3.00</td>\n",
              "      <td>1960</td>\n",
              "      <td>5000</td>\n",
              "      <td>1.0</td>\n",
              "      <td>0</td>\n",
              "      <td>0</td>\n",
              "      <td>5</td>\n",
              "      <td>7</td>\n",
              "      <td>1050</td>\n",
              "      <td>910</td>\n",
              "      <td>1965</td>\n",
              "      <td>0</td>\n",
              "      <td>98136</td>\n",
              "      <td>47.5208</td>\n",
              "      <td>-122.393</td>\n",
              "      <td>1360</td>\n",
              "      <td>5000</td>\n",
              "    </tr>\n",
              "    <tr>\n",
              "      <th>4</th>\n",
              "      <td>1954400510</td>\n",
              "      <td>3</td>\n",
              "      <td>2.00</td>\n",
              "      <td>1680</td>\n",
              "      <td>8080</td>\n",
              "      <td>1.0</td>\n",
              "      <td>0</td>\n",
              "      <td>0</td>\n",
              "      <td>3</td>\n",
              "      <td>8</td>\n",
              "      <td>1680</td>\n",
              "      <td>0</td>\n",
              "      <td>1987</td>\n",
              "      <td>0</td>\n",
              "      <td>98074</td>\n",
              "      <td>47.6168</td>\n",
              "      <td>-122.045</td>\n",
              "      <td>1800</td>\n",
              "      <td>7503</td>\n",
              "    </tr>\n",
              "  </tbody>\n",
              "</table>\n",
              "</div>"
            ],
            "text/plain": [
              "           id  bedrooms  bathrooms  ...     long  sqft_living15  sqft_lot15\n",
              "0  7129300520         3       1.00  ... -122.257           1340        5650\n",
              "1  6414100192         3       2.25  ... -122.319           1690        7639\n",
              "2  5631500400         2       1.00  ... -122.233           2720        8062\n",
              "3  2487200875         4       3.00  ... -122.393           1360        5000\n",
              "4  1954400510         3       2.00  ... -122.045           1800        7503\n",
              "\n",
              "[5 rows x 19 columns]"
            ]
          },
          "metadata": {},
          "execution_count": 20
        }
      ]
    },
    {
      "cell_type": "code",
      "metadata": {
        "colab": {
          "base_uri": "https://localhost:8080/"
        },
        "id": "tAb9ysbRT9fZ",
        "outputId": "14f6550c-8f6d-44ea-d244-5febeab9c4cc"
      },
      "source": [
        "len(X.columns)"
      ],
      "execution_count": 21,
      "outputs": [
        {
          "output_type": "execute_result",
          "data": {
            "text/plain": [
              "19"
            ]
          },
          "metadata": {},
          "execution_count": 21
        }
      ]
    },
    {
      "cell_type": "code",
      "metadata": {
        "id": "qdeHqliSUAp_"
      },
      "source": [
        "feature_name = list(X.columns)\n",
        "# no of maximum features I need to select \n",
        "num_feats=10 # So from 19 -> 10 only"
      ],
      "execution_count": 22,
      "outputs": []
    },
    {
      "cell_type": "code",
      "metadata": {
        "colab": {
          "base_uri": "https://localhost:8080/"
        },
        "id": "FckHaPOWUdBV",
        "outputId": "11bfc8e3-b11c-4710-cfa9-6bc7b81510b3"
      },
      "source": [
        "def cor_selector(X, y,num_feats):\n",
        "    cor_list = []\n",
        "    feature_name = X.columns.tolist()\n",
        "    # calculate the correlation with y for each feature\n",
        "    for i in X.columns.tolist():\n",
        "        cor = np.corrcoef(X[i], y)[0, 1]\n",
        "        cor_list.append(cor)\n",
        "    # replace NaN with 0\n",
        "    cor_list = [0 if np.isnan(i) else i for i in cor_list]\n",
        "    # feature name\n",
        "    cor_feature = X.iloc[:,np.argsort(np.abs(cor_list))[-num_feats:]].columns.tolist()\n",
        "    # feature selection? 0 for not select, 1 for select\n",
        "    cor_support = [True if i in cor_feature else False for i in feature_name]\n",
        "    return cor_support, cor_feature\n",
        "\n",
        "# Pearson Correlation:\n",
        "cor_support, cor_feature = cor_selector(X, y,num_feats)\n",
        "print(str(len(cor_feature)), 'selected features')"
      ],
      "execution_count": 23,
      "outputs": [
        {
          "output_type": "stream",
          "name": "stdout",
          "text": [
            "10 selected features\n"
          ]
        }
      ]
    },
    {
      "cell_type": "code",
      "metadata": {
        "colab": {
          "base_uri": "https://localhost:8080/"
        },
        "id": "vRvKluKXUlyF",
        "outputId": "ef11c00a-c8b6-48e8-cf4a-c9d0d57893e8"
      },
      "source": [
        "# Chi Squared:\n",
        "from sklearn.feature_selection import SelectKBest\n",
        "from sklearn.feature_selection import chi2\n",
        "from sklearn.preprocessing import MinMaxScaler\n",
        "X_norm = MinMaxScaler().fit_transform(X)\n",
        "chi_selector = SelectKBest(chi2, k=num_feats)\n",
        "chi_selector.fit(X_norm, y)\n",
        "chi_support = chi_selector.get_support()\n",
        "chi_feature = X.loc[:,chi_support].columns.tolist()\n",
        "print(str(len(chi_feature)), 'selected features')"
      ],
      "execution_count": 24,
      "outputs": [
        {
          "output_type": "stream",
          "name": "stdout",
          "text": [
            "10 selected features\n"
          ]
        }
      ]
    },
    {
      "cell_type": "code",
      "metadata": {
        "colab": {
          "base_uri": "https://localhost:8080/"
        },
        "id": "P3NhrKKDUoEs",
        "outputId": "1c6d1108-16b0-4347-96ac-2c4a2c8ccf9b"
      },
      "source": [
        "# Recursive Feature Elimination\n",
        "from sklearn.feature_selection import RFE\n",
        "from sklearn.linear_model import LogisticRegression\n",
        "rfe_selector = RFE(estimator=LogisticRegression(), n_features_to_select=num_feats, step=10, verbose=5)\n",
        "rfe_selector.fit(X_norm, y)"
      ],
      "execution_count": 25,
      "outputs": [
        {
          "output_type": "stream",
          "name": "stdout",
          "text": [
            "Fitting estimator with 19 features.\n"
          ]
        },
        {
          "output_type": "execute_result",
          "data": {
            "text/plain": [
              "RFE(estimator=LogisticRegression(), n_features_to_select=10, step=10, verbose=5)"
            ]
          },
          "metadata": {},
          "execution_count": 25
        }
      ]
    },
    {
      "cell_type": "code",
      "metadata": {
        "colab": {
          "base_uri": "https://localhost:8080/"
        },
        "id": "pdnNCLVLUyyX",
        "outputId": "2d621344-58e2-4279-c6ba-76f47463d4e0"
      },
      "source": [
        "rfe_support = rfe_selector.get_support()\n",
        "rfe_feature = X.loc[:,rfe_support].columns.tolist()\n",
        "print(str(len(rfe_feature)), 'selected features')"
      ],
      "execution_count": 26,
      "outputs": [
        {
          "output_type": "stream",
          "name": "stdout",
          "text": [
            "10 selected features\n"
          ]
        }
      ]
    },
    {
      "cell_type": "code",
      "metadata": {
        "colab": {
          "base_uri": "https://localhost:8080/"
        },
        "id": "TrlN0wGUfBzG",
        "outputId": "b0615262-5a6c-40e9-9536-d5c467781ef4"
      },
      "source": [
        "# Embedded Method\n",
        "from sklearn.feature_selection import SelectFromModel\n",
        "from sklearn.ensemble import RandomForestClassifier\n",
        "\n",
        "embeded_rf_selector = SelectFromModel(RandomForestClassifier(n_estimators=100), max_features=num_feats)\n",
        "embeded_rf_selector.fit(X, y)\n",
        "\n",
        "embeded_rf_support = embeded_rf_selector.get_support()\n",
        "embeded_rf_feature = X.loc[:,embeded_rf_support].columns.tolist()\n",
        "print(str(len(embeded_rf_feature)), 'selected features')"
      ],
      "execution_count": 27,
      "outputs": [
        {
          "output_type": "stream",
          "name": "stdout",
          "text": [
            "10 selected features\n"
          ]
        }
      ]
    },
    {
      "cell_type": "code",
      "metadata": {
        "colab": {
          "base_uri": "https://localhost:8080/"
        },
        "id": "5HmabBDtfR8i",
        "outputId": "552894fa-76bb-4cea-c9eb-8b0650fbabaf"
      },
      "source": [
        "embeded_rf_support = embeded_rf_selector.get_support()\n",
        "embeded_rf_feature = X.loc[:,embeded_rf_support].columns.tolist()\n",
        "print(str(len(embeded_rf_feature)), 'selected features')"
      ],
      "execution_count": 28,
      "outputs": [
        {
          "output_type": "stream",
          "name": "stdout",
          "text": [
            "10 selected features\n"
          ]
        }
      ]
    },
    {
      "cell_type": "code",
      "metadata": {
        "colab": {
          "base_uri": "https://localhost:8080/",
          "height": 355
        },
        "id": "kkAWeB31UGeN",
        "outputId": "770a0e39-1308-462b-a3ed-f4462effc61e"
      },
      "source": [
        "pd.set_option('display.max_rows', None)\n",
        "# put all selection together\n",
        "feature_selection_df = pd.DataFrame({'Feature':feature_name, 'Pearson':cor_support, 'Chi-2':chi_support, 'RFE':rfe_support,'Random Forest':embeded_rf_support})\n",
        "# count the selected times for each feature\n",
        "feature_selection_df['Total'] = np.sum(feature_selection_df, axis=1)\n",
        "# display the top 100\n",
        "feature_selection_df = feature_selection_df.sort_values(['Total','Feature'] , ascending=False)\n",
        "feature_selection_df.index = range(1, len(feature_selection_df)+1)\n",
        "feature_selection_df.head(num_feats)"
      ],
      "execution_count": 29,
      "outputs": [
        {
          "output_type": "execute_result",
          "data": {
            "text/html": [
              "<div>\n",
              "<style scoped>\n",
              "    .dataframe tbody tr th:only-of-type {\n",
              "        vertical-align: middle;\n",
              "    }\n",
              "\n",
              "    .dataframe tbody tr th {\n",
              "        vertical-align: top;\n",
              "    }\n",
              "\n",
              "    .dataframe thead th {\n",
              "        text-align: right;\n",
              "    }\n",
              "</style>\n",
              "<table border=\"1\" class=\"dataframe\">\n",
              "  <thead>\n",
              "    <tr style=\"text-align: right;\">\n",
              "      <th></th>\n",
              "      <th>Feature</th>\n",
              "      <th>Pearson</th>\n",
              "      <th>Chi-2</th>\n",
              "      <th>RFE</th>\n",
              "      <th>Random Forest</th>\n",
              "      <th>Total</th>\n",
              "    </tr>\n",
              "  </thead>\n",
              "  <tbody>\n",
              "    <tr>\n",
              "      <th>1</th>\n",
              "      <td>sqft_living15</td>\n",
              "      <td>True</td>\n",
              "      <td>True</td>\n",
              "      <td>True</td>\n",
              "      <td>True</td>\n",
              "      <td>4</td>\n",
              "    </tr>\n",
              "    <tr>\n",
              "      <th>2</th>\n",
              "      <td>sqft_living</td>\n",
              "      <td>True</td>\n",
              "      <td>True</td>\n",
              "      <td>True</td>\n",
              "      <td>True</td>\n",
              "      <td>4</td>\n",
              "    </tr>\n",
              "    <tr>\n",
              "      <th>3</th>\n",
              "      <td>sqft_above</td>\n",
              "      <td>True</td>\n",
              "      <td>True</td>\n",
              "      <td>True</td>\n",
              "      <td>True</td>\n",
              "      <td>4</td>\n",
              "    </tr>\n",
              "    <tr>\n",
              "      <th>4</th>\n",
              "      <td>lat</td>\n",
              "      <td>True</td>\n",
              "      <td>True</td>\n",
              "      <td>True</td>\n",
              "      <td>True</td>\n",
              "      <td>4</td>\n",
              "    </tr>\n",
              "    <tr>\n",
              "      <th>5</th>\n",
              "      <td>yr_built</td>\n",
              "      <td>True</td>\n",
              "      <td>True</td>\n",
              "      <td>False</td>\n",
              "      <td>True</td>\n",
              "      <td>3</td>\n",
              "    </tr>\n",
              "    <tr>\n",
              "      <th>6</th>\n",
              "      <td>sqft_basement</td>\n",
              "      <td>True</td>\n",
              "      <td>True</td>\n",
              "      <td>True</td>\n",
              "      <td>False</td>\n",
              "      <td>3</td>\n",
              "    </tr>\n",
              "    <tr>\n",
              "      <th>7</th>\n",
              "      <td>grade</td>\n",
              "      <td>True</td>\n",
              "      <td>True</td>\n",
              "      <td>True</td>\n",
              "      <td>False</td>\n",
              "      <td>3</td>\n",
              "    </tr>\n",
              "    <tr>\n",
              "      <th>8</th>\n",
              "      <td>floors</td>\n",
              "      <td>True</td>\n",
              "      <td>True</td>\n",
              "      <td>True</td>\n",
              "      <td>False</td>\n",
              "      <td>3</td>\n",
              "    </tr>\n",
              "    <tr>\n",
              "      <th>9</th>\n",
              "      <td>bathrooms</td>\n",
              "      <td>True</td>\n",
              "      <td>True</td>\n",
              "      <td>True</td>\n",
              "      <td>False</td>\n",
              "      <td>3</td>\n",
              "    </tr>\n",
              "    <tr>\n",
              "      <th>10</th>\n",
              "      <td>view</td>\n",
              "      <td>False</td>\n",
              "      <td>True</td>\n",
              "      <td>True</td>\n",
              "      <td>False</td>\n",
              "      <td>2</td>\n",
              "    </tr>\n",
              "  </tbody>\n",
              "</table>\n",
              "</div>"
            ],
            "text/plain": [
              "          Feature  Pearson  Chi-2    RFE  Random Forest  Total\n",
              "1   sqft_living15     True   True   True           True      4\n",
              "2     sqft_living     True   True   True           True      4\n",
              "3      sqft_above     True   True   True           True      4\n",
              "4             lat     True   True   True           True      4\n",
              "5        yr_built     True   True  False           True      3\n",
              "6   sqft_basement     True   True   True          False      3\n",
              "7           grade     True   True   True          False      3\n",
              "8          floors     True   True   True          False      3\n",
              "9       bathrooms     True   True   True          False      3\n",
              "10           view    False   True   True          False      2"
            ]
          },
          "metadata": {},
          "execution_count": 29
        }
      ]
    },
    {
      "cell_type": "markdown",
      "metadata": {
        "id": "ldSno3qUjFC_"
      },
      "source": [
        "So we will be taking these features for regression ML models:"
      ]
    },
    {
      "cell_type": "code",
      "metadata": {
        "id": "adYSNu21UWOJ"
      },
      "source": [
        "features_selected = ['sqft_living15','sqft_living','sqft_above','lat','grade','sqft_basement','bathrooms','view','floors','bedrooms']"
      ],
      "execution_count": 30,
      "outputs": []
    },
    {
      "cell_type": "code",
      "metadata": {
        "colab": {
          "base_uri": "https://localhost:8080/"
        },
        "id": "245I1TQYjZee",
        "outputId": "d7417620-3196-4ce7-d940-9d6568eee6f6"
      },
      "source": [
        "print(\"The distinct values of grade: \", df['grade'].unique())\n",
        "print(\"The distinct values of view: \", df['view'].unique())"
      ],
      "execution_count": 31,
      "outputs": [
        {
          "output_type": "stream",
          "name": "stdout",
          "text": [
            "The distinct values of grade:  [ 7  6  8  9  5 10 11  4 12  3  1]\n",
            "The distinct values of view:  [0 3 4 2 1]\n"
          ]
        }
      ]
    },
    {
      "cell_type": "markdown",
      "metadata": {
        "id": "oOUioNvwHh7w"
      },
      "source": [
        "## Linear Regression "
      ]
    },
    {
      "cell_type": "code",
      "metadata": {
        "id": "dSIxxSG3jsTN"
      },
      "source": [
        "X = df[features_selected]\n",
        "y = df['price']"
      ],
      "execution_count": 32,
      "outputs": []
    },
    {
      "cell_type": "code",
      "metadata": {
        "id": "Oqcgg9FyipGA"
      },
      "source": [
        "from sklearn.model_selection import train_test_split\n",
        "\n",
        "X_train, X_test, y_train, y_test = train_test_split(X, y, test_size=0.3, random_state=42)"
      ],
      "execution_count": 33,
      "outputs": []
    },
    {
      "cell_type": "code",
      "metadata": {
        "id": "zmZG8yrYiqHX"
      },
      "source": [
        "from sklearn import metrics\n",
        "from sklearn.model_selection import cross_val_score\n",
        "\n",
        "def cross_val(model):\n",
        "    pred = cross_val_score(model, X, y, cv=10)\n",
        "    return pred.mean()\n",
        "\n",
        "def print_evaluate(true, predicted):  \n",
        "    mae = metrics.mean_absolute_error(true, predicted)\n",
        "    mse = metrics.mean_squared_error(true, predicted)\n",
        "    rmse = np.sqrt(metrics.mean_squared_error(true, predicted))\n",
        "    r2_square = metrics.r2_score(true, predicted)\n",
        "    print('MAE:', mae)\n",
        "    print('MSE:', mse)\n",
        "    print('RMSE:', rmse)\n",
        "    print('R2 Square', r2_square)\n",
        "    print('__________________________________')\n",
        "    \n",
        "def evaluate(true, predicted):\n",
        "    mae = metrics.mean_absolute_error(true, predicted)\n",
        "    mse = metrics.mean_squared_error(true, predicted)\n",
        "    rmse = np.sqrt(metrics.mean_squared_error(true, predicted))\n",
        "    r2_square = metrics.r2_score(true, predicted)\n",
        "    return mae, mse, rmse, r2_square"
      ],
      "execution_count": 34,
      "outputs": []
    },
    {
      "cell_type": "code",
      "metadata": {
        "id": "sPPKI-grivSB"
      },
      "source": [
        "from sklearn.preprocessing import StandardScaler\n",
        "from sklearn.pipeline import Pipeline\n",
        "\n",
        "pipeline = Pipeline([\n",
        "    ('std_scalar', StandardScaler())\n",
        "])\n",
        "\n",
        "X_train = pipeline.fit_transform(X_train)\n",
        "X_test = pipeline.transform(X_test)"
      ],
      "execution_count": 35,
      "outputs": []
    },
    {
      "cell_type": "code",
      "metadata": {
        "colab": {
          "base_uri": "https://localhost:8080/"
        },
        "id": "EEes9FVviyAc",
        "outputId": "09b1c6fc-8dc7-4252-9139-d53e2af090c2"
      },
      "source": [
        "# Importing Linear Regression from sklearn\n",
        "from sklearn.linear_model import LinearRegression\n",
        "\n",
        "lin_reg = LinearRegression(normalize=True)\n",
        "lin_reg.fit(X_train,y_train)"
      ],
      "execution_count": 36,
      "outputs": [
        {
          "output_type": "stream",
          "name": "stderr",
          "text": [
            "/usr/local/lib/python3.7/dist-packages/sklearn/linear_model/_base.py:145: FutureWarning: 'normalize' was deprecated in version 1.0 and will be removed in 1.2.\n",
            "If you wish to scale the data, use Pipeline with a StandardScaler in a preprocessing stage. To reproduce the previous behavior:\n",
            "\n",
            "from sklearn.pipeline import make_pipeline\n",
            "\n",
            "model = make_pipeline(StandardScaler(with_mean=False), LinearRegression())\n",
            "\n",
            "If you wish to pass a sample_weight parameter, you need to pass it as a fit parameter to each step of the pipeline as follows:\n",
            "\n",
            "kwargs = {s[0] + '__sample_weight': sample_weight for s in model.steps}\n",
            "model.fit(X, y, **kwargs)\n",
            "\n",
            "\n",
            "  FutureWarning,\n"
          ]
        },
        {
          "output_type": "execute_result",
          "data": {
            "text/plain": [
              "LinearRegression(normalize=True)"
            ]
          },
          "metadata": {},
          "execution_count": 36
        }
      ]
    },
    {
      "cell_type": "code",
      "metadata": {
        "colab": {
          "base_uri": "https://localhost:8080/"
        },
        "id": "jzOHUtfLiz4c",
        "outputId": "9553a2a6-06d8-4263-8894-aeadfb7f52b8"
      },
      "source": [
        "# print the intercept\n",
        "print(lin_reg.intercept_)"
      ],
      "execution_count": 37,
      "outputs": [
        {
          "output_type": "stream",
          "name": "stdout",
          "text": [
            "478506.8028060853\n"
          ]
        }
      ]
    },
    {
      "cell_type": "code",
      "metadata": {
        "colab": {
          "base_uri": "https://localhost:8080/",
          "height": 355
        },
        "id": "gN6tXqxfi4Fe",
        "outputId": "ae379861-0503-4da4-e377-9e903cc034a2"
      },
      "source": [
        "coeff_df = pd.DataFrame(lin_reg.coef_, X.columns, columns=['Coefficient'])\n",
        "coeff_df"
      ],
      "execution_count": 38,
      "outputs": [
        {
          "output_type": "execute_result",
          "data": {
            "text/html": [
              "<div>\n",
              "<style scoped>\n",
              "    .dataframe tbody tr th:only-of-type {\n",
              "        vertical-align: middle;\n",
              "    }\n",
              "\n",
              "    .dataframe tbody tr th {\n",
              "        vertical-align: top;\n",
              "    }\n",
              "\n",
              "    .dataframe thead th {\n",
              "        text-align: right;\n",
              "    }\n",
              "</style>\n",
              "<table border=\"1\" class=\"dataframe\">\n",
              "  <thead>\n",
              "    <tr style=\"text-align: right;\">\n",
              "      <th></th>\n",
              "      <th>Coefficient</th>\n",
              "    </tr>\n",
              "  </thead>\n",
              "  <tbody>\n",
              "    <tr>\n",
              "      <th>sqft_living15</th>\n",
              "      <td>22489.659237</td>\n",
              "    </tr>\n",
              "    <tr>\n",
              "      <th>sqft_living</th>\n",
              "      <td>37712.414925</td>\n",
              "    </tr>\n",
              "    <tr>\n",
              "      <th>sqft_above</th>\n",
              "      <td>27826.609413</td>\n",
              "    </tr>\n",
              "    <tr>\n",
              "      <th>lat</th>\n",
              "      <td>83208.087460</td>\n",
              "    </tr>\n",
              "    <tr>\n",
              "      <th>grade</th>\n",
              "      <td>62296.096415</td>\n",
              "    </tr>\n",
              "    <tr>\n",
              "      <th>sqft_basement</th>\n",
              "      <td>21914.845229</td>\n",
              "    </tr>\n",
              "    <tr>\n",
              "      <th>bathrooms</th>\n",
              "      <td>-3904.734845</td>\n",
              "    </tr>\n",
              "    <tr>\n",
              "      <th>view</th>\n",
              "      <td>27209.327686</td>\n",
              "    </tr>\n",
              "    <tr>\n",
              "      <th>floors</th>\n",
              "      <td>2100.263567</td>\n",
              "    </tr>\n",
              "    <tr>\n",
              "      <th>bedrooms</th>\n",
              "      <td>-5163.418336</td>\n",
              "    </tr>\n",
              "  </tbody>\n",
              "</table>\n",
              "</div>"
            ],
            "text/plain": [
              "                Coefficient\n",
              "sqft_living15  22489.659237\n",
              "sqft_living    37712.414925\n",
              "sqft_above     27826.609413\n",
              "lat            83208.087460\n",
              "grade          62296.096415\n",
              "sqft_basement  21914.845229\n",
              "bathrooms      -3904.734845\n",
              "view           27209.327686\n",
              "floors          2100.263567\n",
              "bedrooms       -5163.418336"
            ]
          },
          "metadata": {},
          "execution_count": 38
        }
      ]
    },
    {
      "cell_type": "code",
      "metadata": {
        "id": "VMlVAqFbi505"
      },
      "source": [
        "pred = lin_reg.predict(X_test)"
      ],
      "execution_count": 39,
      "outputs": []
    },
    {
      "cell_type": "code",
      "metadata": {
        "colab": {
          "base_uri": "https://localhost:8080/"
        },
        "id": "43o2ztKNjBtq",
        "outputId": "76e05d9c-9a39-4a85-ddf3-4adc4fc4c867"
      },
      "source": [
        "test_pred = lin_reg.predict(X_test)\n",
        "train_pred = lin_reg.predict(X_train)\n",
        "\n",
        "print('Test set evaluation:\\n_____________________________________')\n",
        "print_evaluate(y_test, test_pred)\n",
        "print('Train set evaluation:\\n_____________________________________')\n",
        "print_evaluate(y_train, train_pred)"
      ],
      "execution_count": 40,
      "outputs": [
        {
          "output_type": "stream",
          "name": "stdout",
          "text": [
            "Test set evaluation:\n",
            "_____________________________________\n",
            "MAE: 93100.38426113466\n",
            "MSE: 15415048335.497396\n",
            "RMSE: 124157.35312697914\n",
            "R2 Square 0.6342048065788062\n",
            "__________________________________\n",
            "Train set evaluation:\n",
            "_____________________________________\n",
            "MAE: 94088.13132198396\n",
            "MSE: 15535427169.486328\n",
            "RMSE: 124641.19371013071\n",
            "R2 Square 0.6465638012428226\n",
            "__________________________________\n"
          ]
        }
      ]
    },
    {
      "cell_type": "code",
      "metadata": {
        "colab": {
          "base_uri": "https://localhost:8080/",
          "height": 355
        },
        "id": "Dfi3A_6G7oko",
        "outputId": "cd0eec7f-6094-46ac-f0f6-8707d889221c"
      },
      "source": [
        "comparison_linreg = y_test.to_frame()\n",
        "comparison_linreg.columns = ['Actual value']\n",
        "comparison_linreg['Predicted value'] = test_pred\n",
        "comparison_linreg.head(10)"
      ],
      "execution_count": 41,
      "outputs": [
        {
          "output_type": "execute_result",
          "data": {
            "text/html": [
              "<div>\n",
              "<style scoped>\n",
              "    .dataframe tbody tr th:only-of-type {\n",
              "        vertical-align: middle;\n",
              "    }\n",
              "\n",
              "    .dataframe tbody tr th {\n",
              "        vertical-align: top;\n",
              "    }\n",
              "\n",
              "    .dataframe thead th {\n",
              "        text-align: right;\n",
              "    }\n",
              "</style>\n",
              "<table border=\"1\" class=\"dataframe\">\n",
              "  <thead>\n",
              "    <tr style=\"text-align: right;\">\n",
              "      <th></th>\n",
              "      <th>Actual value</th>\n",
              "      <th>Predicted value</th>\n",
              "    </tr>\n",
              "  </thead>\n",
              "  <tbody>\n",
              "    <tr>\n",
              "      <th>16607</th>\n",
              "      <td>420000.0</td>\n",
              "      <td>653495.587574</td>\n",
              "    </tr>\n",
              "    <tr>\n",
              "      <th>15557</th>\n",
              "      <td>230000.0</td>\n",
              "      <td>208534.287497</td>\n",
              "    </tr>\n",
              "    <tr>\n",
              "      <th>1285</th>\n",
              "      <td>270000.0</td>\n",
              "      <td>322862.900359</td>\n",
              "    </tr>\n",
              "    <tr>\n",
              "      <th>5964</th>\n",
              "      <td>807000.0</td>\n",
              "      <td>592691.668321</td>\n",
              "    </tr>\n",
              "    <tr>\n",
              "      <th>7051</th>\n",
              "      <td>225000.0</td>\n",
              "      <td>252148.344770</td>\n",
              "    </tr>\n",
              "    <tr>\n",
              "      <th>4322</th>\n",
              "      <td>410000.0</td>\n",
              "      <td>531309.145126</td>\n",
              "    </tr>\n",
              "    <tr>\n",
              "      <th>12742</th>\n",
              "      <td>135000.0</td>\n",
              "      <td>190677.344313</td>\n",
              "    </tr>\n",
              "    <tr>\n",
              "      <th>10100</th>\n",
              "      <td>550000.0</td>\n",
              "      <td>536441.915446</td>\n",
              "    </tr>\n",
              "    <tr>\n",
              "      <th>9222</th>\n",
              "      <td>289000.0</td>\n",
              "      <td>308553.589872</td>\n",
              "    </tr>\n",
              "    <tr>\n",
              "      <th>12925</th>\n",
              "      <td>575000.0</td>\n",
              "      <td>491083.358442</td>\n",
              "    </tr>\n",
              "  </tbody>\n",
              "</table>\n",
              "</div>"
            ],
            "text/plain": [
              "       Actual value  Predicted value\n",
              "16607      420000.0    653495.587574\n",
              "15557      230000.0    208534.287497\n",
              "1285       270000.0    322862.900359\n",
              "5964       807000.0    592691.668321\n",
              "7051       225000.0    252148.344770\n",
              "4322       410000.0    531309.145126\n",
              "12742      135000.0    190677.344313\n",
              "10100      550000.0    536441.915446\n",
              "9222       289000.0    308553.589872\n",
              "12925      575000.0    491083.358442"
            ]
          },
          "metadata": {},
          "execution_count": 41
        }
      ]
    },
    {
      "cell_type": "code",
      "metadata": {
        "colab": {
          "base_uri": "https://localhost:8080/",
          "height": 78
        },
        "id": "MxXRcDZvZK2o",
        "outputId": "08f3048f-5b7e-46b7-ecf0-c2b1fda8e7c1"
      },
      "source": [
        "# Making a combined df for all the results\n",
        "\n",
        "results_df = pd.DataFrame(data=[[\"Linear Regression\", *evaluate(y_test, test_pred) , cross_val(LinearRegression())]], \n",
        "                          columns=['Model', 'MAE', 'MSE', 'RMSE', 'R2 Square', \"Cross Validation\"])\n",
        "results_df"
      ],
      "execution_count": 42,
      "outputs": [
        {
          "output_type": "execute_result",
          "data": {
            "text/html": [
              "<div>\n",
              "<style scoped>\n",
              "    .dataframe tbody tr th:only-of-type {\n",
              "        vertical-align: middle;\n",
              "    }\n",
              "\n",
              "    .dataframe tbody tr th {\n",
              "        vertical-align: top;\n",
              "    }\n",
              "\n",
              "    .dataframe thead th {\n",
              "        text-align: right;\n",
              "    }\n",
              "</style>\n",
              "<table border=\"1\" class=\"dataframe\">\n",
              "  <thead>\n",
              "    <tr style=\"text-align: right;\">\n",
              "      <th></th>\n",
              "      <th>Model</th>\n",
              "      <th>MAE</th>\n",
              "      <th>MSE</th>\n",
              "      <th>RMSE</th>\n",
              "      <th>R2 Square</th>\n",
              "      <th>Cross Validation</th>\n",
              "    </tr>\n",
              "  </thead>\n",
              "  <tbody>\n",
              "    <tr>\n",
              "      <th>0</th>\n",
              "      <td>Linear Regression</td>\n",
              "      <td>93100.384261</td>\n",
              "      <td>1.541505e+10</td>\n",
              "      <td>124157.353127</td>\n",
              "      <td>0.634205</td>\n",
              "      <td>0.640626</td>\n",
              "    </tr>\n",
              "  </tbody>\n",
              "</table>\n",
              "</div>"
            ],
            "text/plain": [
              "               Model           MAE  ...  R2 Square  Cross Validation\n",
              "0  Linear Regression  93100.384261  ...   0.634205          0.640626\n",
              "\n",
              "[1 rows x 6 columns]"
            ]
          },
          "metadata": {},
          "execution_count": 42
        }
      ]
    },
    {
      "cell_type": "markdown",
      "metadata": {
        "id": "5BMcJMv_HlvA"
      },
      "source": [
        "## Random Forest Regression"
      ]
    },
    {
      "cell_type": "code",
      "metadata": {
        "colab": {
          "base_uri": "https://localhost:8080/",
          "height": 350
        },
        "id": "lpmZDvCyjTvH",
        "outputId": "6e488534-9b22-4ef3-f40c-7cc24711d279"
      },
      "source": [
        "from sklearn import metrics\n",
        "from sklearn import preprocessing\n",
        "from sklearn.neighbors import KNeighborsRegressor\n",
        "from sklearn.ensemble import RandomForestRegressor\n",
        "from sklearn.model_selection import train_test_split\n",
        "model = RandomForestRegressor(n_jobs=-1)\n",
        "\n",
        "# Try different numbers of n_estimators - this will take a minute or so\n",
        "estimators = np.arange(10, 450, 10)\n",
        "scores = []\n",
        "for n in estimators:\n",
        "    model.set_params(n_estimators=n)\n",
        "    model.fit(X_train, y_train)\n",
        "    scores.append(model.score(X_test, y_test))\n",
        "plt.figure(figsize=(7, 5))\n",
        "plt.title(\"Effect of Estimators\")\n",
        "plt.xlabel(\"no. estimator\")\n",
        "plt.ylabel(\"score\")\n",
        "plt.plot(estimators, scores)\n",
        "results = list(zip(estimators,scores))"
      ],
      "execution_count": 43,
      "outputs": [
        {
          "output_type": "display_data",
          "data": {
            "image/png": "[encoded data removed]",
            "text/plain": [
              "<Figure size 504x360 with 1 Axes>"
            ]
          },
          "metadata": {
            "needs_background": "light"
          }
        }
      ]
    },
    {
      "cell_type": "code",
      "metadata": {
        "colab": {
          "base_uri": "https://localhost:8080/",
          "height": 355
        },
        "id": "BVYWAeDoDOWx",
        "outputId": "f4b0db14-4a98-4471-b538-91476da67c9b"
      },
      "source": [
        "predictions = model.predict(X_test)\n",
        "'Mean Absolute Error:', metrics.mean_absolute_error(y_test, predictions)\n",
        "\n",
        "'Mean Squared Error:', metrics.mean_squared_error(y_test, predictions)\n",
        "\n",
        "'Root Mean Squared Error:', np.sqrt(metrics.mean_squared_error(y_test, predictions))\n",
        "\n",
        "\n",
        "model = RandomForestRegressor(n_estimators=200, \n",
        "                               bootstrap = True)\n",
        "# Fit on training data\n",
        "model.fit(X_train, y_train)\n",
        "\n",
        "# Actual class predictions\n",
        "rf_predictions = model.predict(X_test)\n",
        "\n",
        "comparison_fy21= y_test.to_frame()\n",
        "comparison_fy21.columns = ['Actual Price']\n",
        "comparison_fy21['Predicted Price'] = rf_predictions\n",
        "comparison_fy21.head(10)\n"
      ],
      "execution_count": 44,
      "outputs": [
        {
          "output_type": "execute_result",
          "data": {
            "text/html": [
              "<div>\n",
              "<style scoped>\n",
              "    .dataframe tbody tr th:only-of-type {\n",
              "        vertical-align: middle;\n",
              "    }\n",
              "\n",
              "    .dataframe tbody tr th {\n",
              "        vertical-align: top;\n",
              "    }\n",
              "\n",
              "    .dataframe thead th {\n",
              "        text-align: right;\n",
              "    }\n",
              "</style>\n",
              "<table border=\"1\" class=\"dataframe\">\n",
              "  <thead>\n",
              "    <tr style=\"text-align: right;\">\n",
              "      <th></th>\n",
              "      <th>Actual Price</th>\n",
              "      <th>Predicted Price</th>\n",
              "    </tr>\n",
              "  </thead>\n",
              "  <tbody>\n",
              "    <tr>\n",
              "      <th>16607</th>\n",
              "      <td>420000.0</td>\n",
              "      <td>529151.000000</td>\n",
              "    </tr>\n",
              "    <tr>\n",
              "      <th>15557</th>\n",
              "      <td>230000.0</td>\n",
              "      <td>239753.500000</td>\n",
              "    </tr>\n",
              "    <tr>\n",
              "      <th>1285</th>\n",
              "      <td>270000.0</td>\n",
              "      <td>269924.581429</td>\n",
              "    </tr>\n",
              "    <tr>\n",
              "      <th>5964</th>\n",
              "      <td>807000.0</td>\n",
              "      <td>772818.597500</td>\n",
              "    </tr>\n",
              "    <tr>\n",
              "      <th>7051</th>\n",
              "      <td>225000.0</td>\n",
              "      <td>249009.250000</td>\n",
              "    </tr>\n",
              "    <tr>\n",
              "      <th>4322</th>\n",
              "      <td>410000.0</td>\n",
              "      <td>391063.750000</td>\n",
              "    </tr>\n",
              "    <tr>\n",
              "      <th>12742</th>\n",
              "      <td>135000.0</td>\n",
              "      <td>216743.655000</td>\n",
              "    </tr>\n",
              "    <tr>\n",
              "      <th>10100</th>\n",
              "      <td>550000.0</td>\n",
              "      <td>602062.560000</td>\n",
              "    </tr>\n",
              "    <tr>\n",
              "      <th>9222</th>\n",
              "      <td>289000.0</td>\n",
              "      <td>330614.000000</td>\n",
              "    </tr>\n",
              "    <tr>\n",
              "      <th>12925</th>\n",
              "      <td>575000.0</td>\n",
              "      <td>578317.145000</td>\n",
              "    </tr>\n",
              "  </tbody>\n",
              "</table>\n",
              "</div>"
            ],
            "text/plain": [
              "       Actual Price  Predicted Price\n",
              "16607      420000.0    529151.000000\n",
              "15557      230000.0    239753.500000\n",
              "1285       270000.0    269924.581429\n",
              "5964       807000.0    772818.597500\n",
              "7051       225000.0    249009.250000\n",
              "4322       410000.0    391063.750000\n",
              "12742      135000.0    216743.655000\n",
              "10100      550000.0    602062.560000\n",
              "9222       289000.0    330614.000000\n",
              "12925      575000.0    578317.145000"
            ]
          },
          "metadata": {},
          "execution_count": 44
        }
      ]
    },
    {
      "cell_type": "code",
      "metadata": {
        "id": "IGPggjlf7KDK"
      },
      "source": [
        "train_predictions = model.predict(X_train)"
      ],
      "execution_count": 45,
      "outputs": []
    },
    {
      "cell_type": "code",
      "metadata": {
        "colab": {
          "base_uri": "https://localhost:8080/"
        },
        "id": "3j3V307MFtuL",
        "outputId": "cb7cd6ae-d006-4bb4-b29c-73536493f897"
      },
      "source": [
        "# Print RF evaluations: \n",
        "print_evaluate(y_test, predictions)"
      ],
      "execution_count": 46,
      "outputs": [
        {
          "output_type": "stream",
          "name": "stdout",
          "text": [
            "MAE: 65236.360948485904\n",
            "MSE: 8500775718.880493\n",
            "RMSE: 92199.65140324822\n",
            "R2 Square 0.7982787448575495\n",
            "__________________________________\n"
          ]
        }
      ]
    },
    {
      "cell_type": "code",
      "metadata": {
        "colab": {
          "base_uri": "https://localhost:8080/"
        },
        "id": "xdHu_Hur6Wkh",
        "outputId": "83b6f395-9dc7-497e-b03a-5cfbcc131b01"
      },
      "source": [
        "print('Test set evaluation:\\n_____________________________________')\n",
        "print_evaluate(y_test, predictions) # x test\n",
        "print('Train set evaluation:\\n_____________________________________')\n",
        "print_evaluate(y_train, train_predictions) # x train"
      ],
      "execution_count": 47,
      "outputs": [
        {
          "output_type": "stream",
          "name": "stdout",
          "text": [
            "Test set evaluation:\n",
            "_____________________________________\n",
            "MAE: 65236.360948485904\n",
            "MSE: 8500775718.880493\n",
            "RMSE: 92199.65140324822\n",
            "R2 Square 0.7982787448575495\n",
            "__________________________________\n",
            "Train set evaluation:\n",
            "_____________________________________\n",
            "MAE: 24602.812516245882\n",
            "MSE: 1251107942.1368933\n",
            "RMSE: 35371.00425683293\n",
            "R2 Square 0.9715368730785663\n",
            "__________________________________\n"
          ]
        }
      ]
    },
    {
      "cell_type": "code",
      "metadata": {
        "colab": {
          "base_uri": "https://localhost:8080/",
          "height": 110
        },
        "id": "RiRg9WKKZbfy",
        "outputId": "bdf1728f-bb47-4c69-b3f1-5d904c3229a9"
      },
      "source": [
        "results_df_2 = pd.DataFrame(data=[[\"Random Forest Regressor\", *evaluate(y_test, predictions), 0]], \n",
        "                            columns=['Model', 'MAE', 'MSE', 'RMSE', 'R2 Square', 'Cross Validation'])\n",
        "results_df = results_df.append(results_df_2, ignore_index=True)\n",
        "results_df"
      ],
      "execution_count": 48,
      "outputs": [
        {
          "output_type": "execute_result",
          "data": {
            "text/html": [
              "<div>\n",
              "<style scoped>\n",
              "    .dataframe tbody tr th:only-of-type {\n",
              "        vertical-align: middle;\n",
              "    }\n",
              "\n",
              "    .dataframe tbody tr th {\n",
              "        vertical-align: top;\n",
              "    }\n",
              "\n",
              "    .dataframe thead th {\n",
              "        text-align: right;\n",
              "    }\n",
              "</style>\n",
              "<table border=\"1\" class=\"dataframe\">\n",
              "  <thead>\n",
              "    <tr style=\"text-align: right;\">\n",
              "      <th></th>\n",
              "      <th>Model</th>\n",
              "      <th>MAE</th>\n",
              "      <th>MSE</th>\n",
              "      <th>RMSE</th>\n",
              "      <th>R2 Square</th>\n",
              "      <th>Cross Validation</th>\n",
              "    </tr>\n",
              "  </thead>\n",
              "  <tbody>\n",
              "    <tr>\n",
              "      <th>0</th>\n",
              "      <td>Linear Regression</td>\n",
              "      <td>93100.384261</td>\n",
              "      <td>1.541505e+10</td>\n",
              "      <td>124157.353127</td>\n",
              "      <td>0.634205</td>\n",
              "      <td>0.640626</td>\n",
              "    </tr>\n",
              "    <tr>\n",
              "      <th>1</th>\n",
              "      <td>Random Forest Regressor</td>\n",
              "      <td>65236.360948</td>\n",
              "      <td>8.500776e+09</td>\n",
              "      <td>92199.651403</td>\n",
              "      <td>0.798279</td>\n",
              "      <td>0.000000</td>\n",
              "    </tr>\n",
              "  </tbody>\n",
              "</table>\n",
              "</div>"
            ],
            "text/plain": [
              "                     Model           MAE  ...  R2 Square  Cross Validation\n",
              "0        Linear Regression  93100.384261  ...   0.634205          0.640626\n",
              "1  Random Forest Regressor  65236.360948  ...   0.798279          0.000000\n",
              "\n",
              "[2 rows x 6 columns]"
            ]
          },
          "metadata": {},
          "execution_count": 48
        }
      ]
    },
    {
      "cell_type": "markdown",
      "metadata": {
        "id": "m04x4BtN8KqK"
      },
      "source": [
        "## Robust Regression\n",
        "\n",
        "Robust regression is a form of regression analysis designed to overcome some limitations of traditional parametric and non-parametric methods. Robust regression methods are designed to be not overly affected by violations of assumptions by the underlying data-generating process.\n",
        "\n",
        "One instance in which robust estimation should be considered is when there is a strong suspicion of heteroscedasticity.\n",
        "\n",
        "A common situation in which robust estimation is used occurs when the data contain outliers. In the presence of outliers that do not come from the same data-generating process as the rest of the data, least squares estimation is inefficient and can be biased. Because the least squares predictions are dragged towards the outliers, and because the variance of the estimates is artificially inflated, the result is that outliers can be masked. (In many situations, including some areas of geostatistics and medical statistics, it is precisely the outliers that are of interest.)"
      ]
    },
    {
      "cell_type": "markdown",
      "metadata": {
        "id": "NZLo7FtV8UyO"
      },
      "source": [
        "### Using RANSAC:\n",
        "Random sample consensus (RANSAC) is an iterative method to estimate parameters of a mathematical model from a set of observed data that contains outliers, when outliers are to be accorded no influence on the values of the estimates. Therefore, it also can be interpreted as an outlier detection method.\n",
        "\n",
        "A basic assumption is that the data consists of \"inliers\", i.e., data whose distribution can be explained by some set of model parameters, though may be subject to noise, and \"outliers\" which are data that do not fit the model. The outliers can come, for example, from extreme values of the noise or from erroneous measurements or incorrect hypotheses about the interpretation of data. RANSAC also assumes that, given a (usually small) set of inliers, there exists a procedure which can estimate the parameters of a model that optimally explains or fits this data."
      ]
    },
    {
      "cell_type": "code",
      "metadata": {
        "colab": {
          "base_uri": "https://localhost:8080/"
        },
        "id": "NWibHc25G5VY",
        "outputId": "3f9065e0-f63d-4011-fcd0-29501546696d"
      },
      "source": [
        "from sklearn.linear_model import RANSACRegressor\n",
        "\n",
        "model = RANSACRegressor(base_estimator=LinearRegression(), max_trials=100)\n",
        "model.fit(X_train, y_train)\n",
        "\n",
        "test_pred = model.predict(X_test)\n",
        "train_pred = model.predict(X_train)\n",
        "\n",
        "print('Test set evaluation:\\n_____________________________________')\n",
        "print_evaluate(y_test, test_pred)\n",
        "print('====================================')\n",
        "print('Train set evaluation:\\n_____________________________________')\n",
        "print_evaluate(y_train, train_pred)\n"
      ],
      "execution_count": 49,
      "outputs": [
        {
          "output_type": "stream",
          "name": "stdout",
          "text": [
            "Test set evaluation:\n",
            "_____________________________________\n",
            "MAE: 101740.43529127826\n",
            "MSE: 18334693128.912533\n",
            "RMSE: 135405.66136211785\n",
            "R2 Square 0.5649223749779188\n",
            "__________________________________\n",
            "====================================\n",
            "Train set evaluation:\n",
            "_____________________________________\n",
            "MAE: 102385.41724872409\n",
            "MSE: 18545756301.458145\n",
            "RMSE: 136182.8047201927\n",
            "R2 Square 0.5780777999372472\n",
            "__________________________________\n"
          ]
        }
      ]
    },
    {
      "cell_type": "markdown",
      "metadata": {
        "id": "PeB6q-vD9-JA"
      },
      "source": [
        "To conclude, if we excluded feature engineering with RANSAC and Robust Linear Regression, it takes approximately 1000 trials to get to R squared of 54%, whereas with feature engineering it only took us 100 trials.\n"
      ]
    },
    {
      "cell_type": "code",
      "metadata": {
        "colab": {
          "base_uri": "https://localhost:8080/",
          "height": 355
        },
        "id": "s1W_XkboDzNl",
        "outputId": "7df313a1-4c2a-43eb-db0e-019e61c1d5e8"
      },
      "source": [
        "comparison_robust_regression= y_test.to_frame()\n",
        "comparison_robust_regression.columns = ['Actual Price']\n",
        "comparison_robust_regression['Predicted Price'] = test_pred\n",
        "comparison_robust_regression.head(10)"
      ],
      "execution_count": 50,
      "outputs": [
        {
          "output_type": "execute_result",
          "data": {
            "text/html": [
              "<div>\n",
              "<style scoped>\n",
              "    .dataframe tbody tr th:only-of-type {\n",
              "        vertical-align: middle;\n",
              "    }\n",
              "\n",
              "    .dataframe tbody tr th {\n",
              "        vertical-align: top;\n",
              "    }\n",
              "\n",
              "    .dataframe thead th {\n",
              "        text-align: right;\n",
              "    }\n",
              "</style>\n",
              "<table border=\"1\" class=\"dataframe\">\n",
              "  <thead>\n",
              "    <tr style=\"text-align: right;\">\n",
              "      <th></th>\n",
              "      <th>Actual Price</th>\n",
              "      <th>Predicted Price</th>\n",
              "    </tr>\n",
              "  </thead>\n",
              "  <tbody>\n",
              "    <tr>\n",
              "      <th>16607</th>\n",
              "      <td>420000.0</td>\n",
              "      <td>741424.153082</td>\n",
              "    </tr>\n",
              "    <tr>\n",
              "      <th>15557</th>\n",
              "      <td>230000.0</td>\n",
              "      <td>182681.049508</td>\n",
              "    </tr>\n",
              "    <tr>\n",
              "      <th>1285</th>\n",
              "      <td>270000.0</td>\n",
              "      <td>373851.549508</td>\n",
              "    </tr>\n",
              "    <tr>\n",
              "      <th>5964</th>\n",
              "      <td>807000.0</td>\n",
              "      <td>507542.532971</td>\n",
              "    </tr>\n",
              "    <tr>\n",
              "      <th>7051</th>\n",
              "      <td>225000.0</td>\n",
              "      <td>228775.549508</td>\n",
              "    </tr>\n",
              "    <tr>\n",
              "      <th>4322</th>\n",
              "      <td>410000.0</td>\n",
              "      <td>483940.334758</td>\n",
              "    </tr>\n",
              "    <tr>\n",
              "      <th>12742</th>\n",
              "      <td>135000.0</td>\n",
              "      <td>156624.299508</td>\n",
              "    </tr>\n",
              "    <tr>\n",
              "      <th>10100</th>\n",
              "      <td>550000.0</td>\n",
              "      <td>522456.747721</td>\n",
              "    </tr>\n",
              "    <tr>\n",
              "      <th>9222</th>\n",
              "      <td>289000.0</td>\n",
              "      <td>320814.334758</td>\n",
              "    </tr>\n",
              "    <tr>\n",
              "      <th>12925</th>\n",
              "      <td>575000.0</td>\n",
              "      <td>488100.834758</td>\n",
              "    </tr>\n",
              "  </tbody>\n",
              "</table>\n",
              "</div>"
            ],
            "text/plain": [
              "       Actual Price  Predicted Price\n",
              "16607      420000.0    741424.153082\n",
              "15557      230000.0    182681.049508\n",
              "1285       270000.0    373851.549508\n",
              "5964       807000.0    507542.532971\n",
              "7051       225000.0    228775.549508\n",
              "4322       410000.0    483940.334758\n",
              "12742      135000.0    156624.299508\n",
              "10100      550000.0    522456.747721\n",
              "9222       289000.0    320814.334758\n",
              "12925      575000.0    488100.834758"
            ]
          },
          "metadata": {},
          "execution_count": 50
        }
      ]
    },
    {
      "cell_type": "code",
      "metadata": {
        "colab": {
          "base_uri": "https://localhost:8080/",
          "height": 141
        },
        "id": "4KOBM5xJcoOl",
        "outputId": "d2cb41b0-ac8f-4133-c587-81c613a49a2c"
      },
      "source": [
        "results_df_2 = pd.DataFrame(data=[[\"Robust Regression\", *evaluate(y_test, test_pred) , cross_val(RANSACRegressor())]], \n",
        "                            columns=['Model', 'MAE', 'MSE', 'RMSE', 'R2 Square', \"Cross Validation\"])\n",
        "results_df = results_df.append(results_df_2, ignore_index=True)\n",
        "results_df"
      ],
      "execution_count": 51,
      "outputs": [
        {
          "output_type": "execute_result",
          "data": {
            "text/html": [
              "<div>\n",
              "<style scoped>\n",
              "    .dataframe tbody tr th:only-of-type {\n",
              "        vertical-align: middle;\n",
              "    }\n",
              "\n",
              "    .dataframe tbody tr th {\n",
              "        vertical-align: top;\n",
              "    }\n",
              "\n",
              "    .dataframe thead th {\n",
              "        text-align: right;\n",
              "    }\n",
              "</style>\n",
              "<table border=\"1\" class=\"dataframe\">\n",
              "  <thead>\n",
              "    <tr style=\"text-align: right;\">\n",
              "      <th></th>\n",
              "      <th>Model</th>\n",
              "      <th>MAE</th>\n",
              "      <th>MSE</th>\n",
              "      <th>RMSE</th>\n",
              "      <th>R2 Square</th>\n",
              "      <th>Cross Validation</th>\n",
              "    </tr>\n",
              "  </thead>\n",
              "  <tbody>\n",
              "    <tr>\n",
              "      <th>0</th>\n",
              "      <td>Linear Regression</td>\n",
              "      <td>93100.384261</td>\n",
              "      <td>1.541505e+10</td>\n",
              "      <td>124157.353127</td>\n",
              "      <td>0.634205</td>\n",
              "      <td>0.640626</td>\n",
              "    </tr>\n",
              "    <tr>\n",
              "      <th>1</th>\n",
              "      <td>Random Forest Regressor</td>\n",
              "      <td>65236.360948</td>\n",
              "      <td>8.500776e+09</td>\n",
              "      <td>92199.651403</td>\n",
              "      <td>0.798279</td>\n",
              "      <td>0.000000</td>\n",
              "    </tr>\n",
              "    <tr>\n",
              "      <th>2</th>\n",
              "      <td>Robust Regression</td>\n",
              "      <td>101740.435291</td>\n",
              "      <td>1.833469e+10</td>\n",
              "      <td>135405.661362</td>\n",
              "      <td>0.564922</td>\n",
              "      <td>0.541179</td>\n",
              "    </tr>\n",
              "  </tbody>\n",
              "</table>\n",
              "</div>"
            ],
            "text/plain": [
              "                     Model            MAE  ...  R2 Square  Cross Validation\n",
              "0        Linear Regression   93100.384261  ...   0.634205          0.640626\n",
              "1  Random Forest Regressor   65236.360948  ...   0.798279          0.000000\n",
              "2        Robust Regression  101740.435291  ...   0.564922          0.541179\n",
              "\n",
              "[3 rows x 6 columns]"
            ]
          },
          "metadata": {},
          "execution_count": 51
        }
      ]
    },
    {
      "cell_type": "markdown",
      "metadata": {
        "id": "yHOrj4kvDlTl"
      },
      "source": [
        "## Stochastic Gradient Descent\n",
        "\n",
        "Gradient Descent is a very generic optimization algorithm capable of finding optimal solutions to a wide range of problems. The general idea of Gradient Sescent is to tweak parameters iteratively in order to minimize a cost function. Gradient Descent measures the local gradient of the error function with regards to the parameters vector, and it goes in the direction of descending gradient. Once the gradient is zero, you have reached a minimum.\n",
        "\n"
      ]
    },
    {
      "cell_type": "code",
      "metadata": {
        "colab": {
          "base_uri": "https://localhost:8080/"
        },
        "id": "pXRNugbjDsMK",
        "outputId": "93ce2e02-b7c9-4973-ddd3-e94cb35abe85"
      },
      "source": [
        "from sklearn.linear_model import SGDRegressor\n",
        "\n",
        "sgd_reg = SGDRegressor(n_iter_no_change=300, penalty=None, eta0=0.0001, max_iter=100000)\n",
        "sgd_reg.fit(X_train, y_train)\n",
        "\n",
        "test_pred = sgd_reg.predict(X_test)\n",
        "train_pred = sgd_reg.predict(X_train)\n",
        "\n",
        "print('Test set evaluation:\\n_____________________________________')\n",
        "print_evaluate(y_test, test_pred)\n",
        "print('====================================')\n",
        "print('Train set evaluation:\\n_____________________________________')\n",
        "print_evaluate(y_train, train_pred)"
      ],
      "execution_count": 52,
      "outputs": [
        {
          "output_type": "stream",
          "name": "stdout",
          "text": [
            "Test set evaluation:\n",
            "_____________________________________\n",
            "MAE: 93100.33443454599\n",
            "MSE: 15415046488.564064\n",
            "RMSE: 124157.34568910558\n",
            "R2 Square 0.6342048504060664\n",
            "__________________________________\n",
            "====================================\n",
            "Train set evaluation:\n",
            "_____________________________________\n",
            "MAE: 94088.09919086861\n",
            "MSE: 15535427175.331451\n",
            "RMSE: 124641.19373357852\n",
            "R2 Square 0.646563801109844\n",
            "__________________________________\n"
          ]
        }
      ]
    },
    {
      "cell_type": "code",
      "metadata": {
        "colab": {
          "base_uri": "https://localhost:8080/",
          "height": 355
        },
        "id": "xygcrADrDu0m",
        "outputId": "9116c286-d3e0-4a26-898c-dd9fe9df3158"
      },
      "source": [
        "comparison_stochastic= y_test.to_frame()\n",
        "comparison_stochastic.columns = ['Actual Price']\n",
        "comparison_stochastic['Predicted Price'] = test_pred\n",
        "comparison_stochastic.head(10)"
      ],
      "execution_count": 53,
      "outputs": [
        {
          "output_type": "execute_result",
          "data": {
            "text/html": [
              "<div>\n",
              "<style scoped>\n",
              "    .dataframe tbody tr th:only-of-type {\n",
              "        vertical-align: middle;\n",
              "    }\n",
              "\n",
              "    .dataframe tbody tr th {\n",
              "        vertical-align: top;\n",
              "    }\n",
              "\n",
              "    .dataframe thead th {\n",
              "        text-align: right;\n",
              "    }\n",
              "</style>\n",
              "<table border=\"1\" class=\"dataframe\">\n",
              "  <thead>\n",
              "    <tr style=\"text-align: right;\">\n",
              "      <th></th>\n",
              "      <th>Actual Price</th>\n",
              "      <th>Predicted Price</th>\n",
              "    </tr>\n",
              "  </thead>\n",
              "  <tbody>\n",
              "    <tr>\n",
              "      <th>16607</th>\n",
              "      <td>420000.0</td>\n",
              "      <td>653496.371219</td>\n",
              "    </tr>\n",
              "    <tr>\n",
              "      <th>15557</th>\n",
              "      <td>230000.0</td>\n",
              "      <td>208536.541680</td>\n",
              "    </tr>\n",
              "    <tr>\n",
              "      <th>1285</th>\n",
              "      <td>270000.0</td>\n",
              "      <td>322864.605461</td>\n",
              "    </tr>\n",
              "    <tr>\n",
              "      <th>5964</th>\n",
              "      <td>807000.0</td>\n",
              "      <td>592689.185999</td>\n",
              "    </tr>\n",
              "    <tr>\n",
              "      <th>7051</th>\n",
              "      <td>225000.0</td>\n",
              "      <td>252149.145035</td>\n",
              "    </tr>\n",
              "    <tr>\n",
              "      <th>4322</th>\n",
              "      <td>410000.0</td>\n",
              "      <td>531307.041451</td>\n",
              "    </tr>\n",
              "    <tr>\n",
              "      <th>12742</th>\n",
              "      <td>135000.0</td>\n",
              "      <td>190680.246505</td>\n",
              "    </tr>\n",
              "    <tr>\n",
              "      <th>10100</th>\n",
              "      <td>550000.0</td>\n",
              "      <td>536443.485331</td>\n",
              "    </tr>\n",
              "    <tr>\n",
              "      <th>9222</th>\n",
              "      <td>289000.0</td>\n",
              "      <td>308551.837058</td>\n",
              "    </tr>\n",
              "    <tr>\n",
              "      <th>12925</th>\n",
              "      <td>575000.0</td>\n",
              "      <td>491080.888987</td>\n",
              "    </tr>\n",
              "  </tbody>\n",
              "</table>\n",
              "</div>"
            ],
            "text/plain": [
              "       Actual Price  Predicted Price\n",
              "16607      420000.0    653496.371219\n",
              "15557      230000.0    208536.541680\n",
              "1285       270000.0    322864.605461\n",
              "5964       807000.0    592689.185999\n",
              "7051       225000.0    252149.145035\n",
              "4322       410000.0    531307.041451\n",
              "12742      135000.0    190680.246505\n",
              "10100      550000.0    536443.485331\n",
              "9222       289000.0    308551.837058\n",
              "12925      575000.0    491080.888987"
            ]
          },
          "metadata": {},
          "execution_count": 53
        }
      ]
    },
    {
      "cell_type": "code",
      "metadata": {
        "colab": {
          "base_uri": "https://localhost:8080/",
          "height": 171
        },
        "id": "bbjcT3ADc1Gr",
        "outputId": "35415159-4e5b-4732-f6d4-3cbf773c20b4"
      },
      "source": [
        "results_df_2 = pd.DataFrame(data=[[\"Stochastic Gradient Descent\", *evaluate(y_test, test_pred), 0]], \n",
        "                            columns=['Model', 'MAE', 'MSE', 'RMSE', 'R2 Square', 'Cross Validation'])\n",
        "results_df = results_df.append(results_df_2, ignore_index=True)\n",
        "results_df"
      ],
      "execution_count": 54,
      "outputs": [
        {
          "output_type": "execute_result",
          "data": {
            "text/html": [
              "<div>\n",
              "<style scoped>\n",
              "    .dataframe tbody tr th:only-of-type {\n",
              "        vertical-align: middle;\n",
              "    }\n",
              "\n",
              "    .dataframe tbody tr th {\n",
              "        vertical-align: top;\n",
              "    }\n",
              "\n",
              "    .dataframe thead th {\n",
              "        text-align: right;\n",
              "    }\n",
              "</style>\n",
              "<table border=\"1\" class=\"dataframe\">\n",
              "  <thead>\n",
              "    <tr style=\"text-align: right;\">\n",
              "      <th></th>\n",
              "      <th>Model</th>\n",
              "      <th>MAE</th>\n",
              "      <th>MSE</th>\n",
              "      <th>RMSE</th>\n",
              "      <th>R2 Square</th>\n",
              "      <th>Cross Validation</th>\n",
              "    </tr>\n",
              "  </thead>\n",
              "  <tbody>\n",
              "    <tr>\n",
              "      <th>0</th>\n",
              "      <td>Linear Regression</td>\n",
              "      <td>93100.384261</td>\n",
              "      <td>1.541505e+10</td>\n",
              "      <td>124157.353127</td>\n",
              "      <td>0.634205</td>\n",
              "      <td>0.640626</td>\n",
              "    </tr>\n",
              "    <tr>\n",
              "      <th>1</th>\n",
              "      <td>Random Forest Regressor</td>\n",
              "      <td>65236.360948</td>\n",
              "      <td>8.500776e+09</td>\n",
              "      <td>92199.651403</td>\n",
              "      <td>0.798279</td>\n",
              "      <td>0.000000</td>\n",
              "    </tr>\n",
              "    <tr>\n",
              "      <th>2</th>\n",
              "      <td>Robust Regression</td>\n",
              "      <td>101740.435291</td>\n",
              "      <td>1.833469e+10</td>\n",
              "      <td>135405.661362</td>\n",
              "      <td>0.564922</td>\n",
              "      <td>0.541179</td>\n",
              "    </tr>\n",
              "    <tr>\n",
              "      <th>3</th>\n",
              "      <td>Stochastic Gradient Descent</td>\n",
              "      <td>93100.334435</td>\n",
              "      <td>1.541505e+10</td>\n",
              "      <td>124157.345689</td>\n",
              "      <td>0.634205</td>\n",
              "      <td>0.000000</td>\n",
              "    </tr>\n",
              "  </tbody>\n",
              "</table>\n",
              "</div>"
            ],
            "text/plain": [
              "                         Model            MAE  ...  R2 Square  Cross Validation\n",
              "0            Linear Regression   93100.384261  ...   0.634205          0.640626\n",
              "1      Random Forest Regressor   65236.360948  ...   0.798279          0.000000\n",
              "2            Robust Regression  101740.435291  ...   0.564922          0.541179\n",
              "3  Stochastic Gradient Descent   93100.334435  ...   0.634205          0.000000\n",
              "\n",
              "[4 rows x 6 columns]"
            ]
          },
          "metadata": {},
          "execution_count": 54
        }
      ]
    },
    {
      "cell_type": "markdown",
      "metadata": {
        "id": "gy51FAdAFDeq"
      },
      "source": [
        "## Elastic Net Regression\n",
        "A linear regression model trained with L1 and L2 prior as regularizer.\n",
        "\n",
        "This combination allows for learning a sparse model where few of the weights are non-zero like Lasso, while still maintaining the regularization properties of Ridge.\n",
        "\n",
        "Elastic-net is useful when there are multiple features which are correlated with one another. Lasso is likely to pick one of these at random, while elastic-net is likely to pick both.\n",
        "\n",
        "A practical advantage of trading-off between Lasso and Ridge is it allows Elastic-Net to inherit some of Ridge’s stability under rotation."
      ]
    },
    {
      "cell_type": "code",
      "metadata": {
        "colab": {
          "base_uri": "https://localhost:8080/"
        },
        "id": "QNweNOZRE3QH",
        "outputId": "4fdc5a2e-971b-4431-fbdb-ba13d181d53e"
      },
      "source": [
        "from sklearn.linear_model import ElasticNet\n",
        "\n",
        "model = ElasticNet(alpha=0.1, l1_ratio=0.9, selection='random', random_state=42)\n",
        "model.fit(X_train, y_train)\n",
        "\n",
        "test_pred = model.predict(X_test)\n",
        "train_pred = model.predict(X_train)\n",
        "\n",
        "print('Test set evaluation:\\n_____________________________________')\n",
        "print_evaluate(y_test, test_pred)\n",
        "print('====================================')\n",
        "print('Train set evaluation:\\n_____________________________________')\n",
        "print_evaluate(y_train, train_pred)"
      ],
      "execution_count": 55,
      "outputs": [
        {
          "output_type": "stream",
          "name": "stdout",
          "text": [
            "Test set evaluation:\n",
            "_____________________________________\n",
            "MAE: 93143.70011819595\n",
            "MSE: 15415246585.739016\n",
            "RMSE: 124158.15150741821\n",
            "R2 Square 0.6342001021507757\n",
            "__________________________________\n",
            "====================================\n",
            "Train set evaluation:\n",
            "_____________________________________\n",
            "MAE: 94138.16662809119\n",
            "MSE: 15536829241.321615\n",
            "RMSE: 124646.818015229\n",
            "R2 Square 0.6465319036365037\n",
            "__________________________________\n"
          ]
        },
        {
          "output_type": "stream",
          "name": "stderr",
          "text": [
            "/usr/local/lib/python3.7/dist-packages/sklearn/linear_model/_coordinate_descent.py:648: ConvergenceWarning: Objective did not converge. You might want to increase the number of iterations, check the scale of the features or consider increasing regularisation. Duality gap: 6.372e+11, tolerance: 6.297e+10\n",
            "  coef_, l1_reg, l2_reg, X, y, max_iter, tol, rng, random, positive\n"
          ]
        }
      ]
    },
    {
      "cell_type": "code",
      "metadata": {
        "colab": {
          "base_uri": "https://localhost:8080/",
          "height": 355
        },
        "id": "6TqqreujFFwm",
        "outputId": "7db48482-98d1-4286-e295-ab6f29cfdc03"
      },
      "source": [
        "comparison_stochastic= y_test.to_frame()\n",
        "comparison_stochastic.columns = ['Actual Price']\n",
        "comparison_stochastic['Predicted Price'] = test_pred\n",
        "comparison_stochastic.head(10)"
      ],
      "execution_count": 56,
      "outputs": [
        {
          "output_type": "execute_result",
          "data": {
            "text/html": [
              "<div>\n",
              "<style scoped>\n",
              "    .dataframe tbody tr th:only-of-type {\n",
              "        vertical-align: middle;\n",
              "    }\n",
              "\n",
              "    .dataframe tbody tr th {\n",
              "        vertical-align: top;\n",
              "    }\n",
              "\n",
              "    .dataframe thead th {\n",
              "        text-align: right;\n",
              "    }\n",
              "</style>\n",
              "<table border=\"1\" class=\"dataframe\">\n",
              "  <thead>\n",
              "    <tr style=\"text-align: right;\">\n",
              "      <th></th>\n",
              "      <th>Actual Price</th>\n",
              "      <th>Predicted Price</th>\n",
              "    </tr>\n",
              "  </thead>\n",
              "  <tbody>\n",
              "    <tr>\n",
              "      <th>16607</th>\n",
              "      <td>420000.0</td>\n",
              "      <td>653094.039095</td>\n",
              "    </tr>\n",
              "    <tr>\n",
              "      <th>15557</th>\n",
              "      <td>230000.0</td>\n",
              "      <td>209349.138613</td>\n",
              "    </tr>\n",
              "    <tr>\n",
              "      <th>1285</th>\n",
              "      <td>270000.0</td>\n",
              "      <td>323467.295117</td>\n",
              "    </tr>\n",
              "    <tr>\n",
              "      <th>5964</th>\n",
              "      <td>807000.0</td>\n",
              "      <td>591085.018989</td>\n",
              "    </tr>\n",
              "    <tr>\n",
              "      <th>7051</th>\n",
              "      <td>225000.0</td>\n",
              "      <td>253669.382961</td>\n",
              "    </tr>\n",
              "    <tr>\n",
              "      <th>4322</th>\n",
              "      <td>410000.0</td>\n",
              "      <td>530473.429215</td>\n",
              "    </tr>\n",
              "    <tr>\n",
              "      <th>12742</th>\n",
              "      <td>135000.0</td>\n",
              "      <td>192003.925217</td>\n",
              "    </tr>\n",
              "    <tr>\n",
              "      <th>10100</th>\n",
              "      <td>550000.0</td>\n",
              "      <td>535035.414700</td>\n",
              "    </tr>\n",
              "    <tr>\n",
              "      <th>9222</th>\n",
              "      <td>289000.0</td>\n",
              "      <td>310922.601396</td>\n",
              "    </tr>\n",
              "    <tr>\n",
              "      <th>12925</th>\n",
              "      <td>575000.0</td>\n",
              "      <td>491505.064171</td>\n",
              "    </tr>\n",
              "  </tbody>\n",
              "</table>\n",
              "</div>"
            ],
            "text/plain": [
              "       Actual Price  Predicted Price\n",
              "16607      420000.0    653094.039095\n",
              "15557      230000.0    209349.138613\n",
              "1285       270000.0    323467.295117\n",
              "5964       807000.0    591085.018989\n",
              "7051       225000.0    253669.382961\n",
              "4322       410000.0    530473.429215\n",
              "12742      135000.0    192003.925217\n",
              "10100      550000.0    535035.414700\n",
              "9222       289000.0    310922.601396\n",
              "12925      575000.0    491505.064171"
            ]
          },
          "metadata": {},
          "execution_count": 56
        }
      ]
    },
    {
      "cell_type": "code",
      "metadata": {
        "colab": {
          "base_uri": "https://localhost:8080/",
          "height": 202
        },
        "id": "Kd0M2ZT9lXUk",
        "outputId": "b6b6d32c-e7a3-4d8a-e3a0-7d388f329270"
      },
      "source": [
        "results_df_2 = pd.DataFrame(data=[[\"Elastic Net Regression\", *evaluate(y_test, test_pred), 0]], \n",
        "                            columns=['Model', 'MAE', 'MSE', 'RMSE', 'R2 Square', 'Cross Validation'])\n",
        "results_df = results_df.append(results_df_2, ignore_index=True)\n",
        "results_df"
      ],
      "execution_count": 57,
      "outputs": [
        {
          "output_type": "execute_result",
          "data": {
            "text/html": [
              "<div>\n",
              "<style scoped>\n",
              "    .dataframe tbody tr th:only-of-type {\n",
              "        vertical-align: middle;\n",
              "    }\n",
              "\n",
              "    .dataframe tbody tr th {\n",
              "        vertical-align: top;\n",
              "    }\n",
              "\n",
              "    .dataframe thead th {\n",
              "        text-align: right;\n",
              "    }\n",
              "</style>\n",
              "<table border=\"1\" class=\"dataframe\">\n",
              "  <thead>\n",
              "    <tr style=\"text-align: right;\">\n",
              "      <th></th>\n",
              "      <th>Model</th>\n",
              "      <th>MAE</th>\n",
              "      <th>MSE</th>\n",
              "      <th>RMSE</th>\n",
              "      <th>R2 Square</th>\n",
              "      <th>Cross Validation</th>\n",
              "    </tr>\n",
              "  </thead>\n",
              "  <tbody>\n",
              "    <tr>\n",
              "      <th>0</th>\n",
              "      <td>Linear Regression</td>\n",
              "      <td>93100.384261</td>\n",
              "      <td>1.541505e+10</td>\n",
              "      <td>124157.353127</td>\n",
              "      <td>0.634205</td>\n",
              "      <td>0.640626</td>\n",
              "    </tr>\n",
              "    <tr>\n",
              "      <th>1</th>\n",
              "      <td>Random Forest Regressor</td>\n",
              "      <td>65236.360948</td>\n",
              "      <td>8.500776e+09</td>\n",
              "      <td>92199.651403</td>\n",
              "      <td>0.798279</td>\n",
              "      <td>0.000000</td>\n",
              "    </tr>\n",
              "    <tr>\n",
              "      <th>2</th>\n",
              "      <td>Robust Regression</td>\n",
              "      <td>101740.435291</td>\n",
              "      <td>1.833469e+10</td>\n",
              "      <td>135405.661362</td>\n",
              "      <td>0.564922</td>\n",
              "      <td>0.541179</td>\n",
              "    </tr>\n",
              "    <tr>\n",
              "      <th>3</th>\n",
              "      <td>Stochastic Gradient Descent</td>\n",
              "      <td>93100.334435</td>\n",
              "      <td>1.541505e+10</td>\n",
              "      <td>124157.345689</td>\n",
              "      <td>0.634205</td>\n",
              "      <td>0.000000</td>\n",
              "    </tr>\n",
              "    <tr>\n",
              "      <th>4</th>\n",
              "      <td>Elastic Net Regression</td>\n",
              "      <td>93143.700118</td>\n",
              "      <td>1.541525e+10</td>\n",
              "      <td>124158.151507</td>\n",
              "      <td>0.634200</td>\n",
              "      <td>0.000000</td>\n",
              "    </tr>\n",
              "  </tbody>\n",
              "</table>\n",
              "</div>"
            ],
            "text/plain": [
              "                         Model            MAE  ...  R2 Square  Cross Validation\n",
              "0            Linear Regression   93100.384261  ...   0.634205          0.640626\n",
              "1      Random Forest Regressor   65236.360948  ...   0.798279          0.000000\n",
              "2            Robust Regression  101740.435291  ...   0.564922          0.541179\n",
              "3  Stochastic Gradient Descent   93100.334435  ...   0.634205          0.000000\n",
              "4       Elastic Net Regression   93143.700118  ...   0.634200          0.000000\n",
              "\n",
              "[5 rows x 6 columns]"
            ]
          },
          "metadata": {},
          "execution_count": 57
        }
      ]
    },
    {
      "cell_type": "markdown",
      "metadata": {
        "id": "u4aWoPNTFTVJ"
      },
      "source": [
        "## Artificial Neural Network\n",
        "Due to the low R squared values from the regressions, we will try using Artificial Neural Network approaches in hopes of increasing its accuracy parameter."
      ]
    },
    {
      "cell_type": "code",
      "metadata": {
        "colab": {
          "base_uri": "https://localhost:8080/"
        },
        "id": "y_QRjeu3FM2B",
        "outputId": "60cd66de-8bd5-46dc-dcbc-7d8212cf6d4a"
      },
      "source": [
        "from tensorflow.keras.models import Sequential\n",
        "from tensorflow.keras.layers import Input, Dense, Activation, Dropout\n",
        "from tensorflow.keras.optimizers import Adam\n",
        "\n",
        "X_train = np.array(X_train)\n",
        "X_test = np.array(X_test)\n",
        "y_train = np.array(y_train)\n",
        "y_test = np.array(y_test)\n",
        "\n",
        "model = Sequential()\n",
        "\n",
        "model.add(Dense(X_train.shape[1], activation='relu'))\n",
        "model.add(Dense(32, activation='relu'))\n",
        "# model.add(Dropout(0.2))\n",
        "\n",
        "model.add(Dense(64, activation='relu'))\n",
        "# model.add(Dropout(0.2))\n",
        "\n",
        "model.add(Dense(128, activation='relu'))\n",
        "# model.add(Dropout(0.2))\n",
        "\n",
        "model.add(Dense(512, activation='relu'))\n",
        "model.add(Dropout(0.1))\n",
        "model.add(Dense(1))\n",
        "\n",
        "model.compile(optimizer=Adam(0.00001), loss='mse')\n",
        "\n",
        "r = model.fit(X_train, y_train,\n",
        "              validation_data=(X_test,y_test),\n",
        "              batch_size=1,\n",
        "              epochs=100)"
      ],
      "execution_count": 58,
      "outputs": [
        {
          "output_type": "stream",
          "name": "stdout",
          "text": [
            "Epoch 1/100\n",
            "14326/14326 [==============================] - 39s 3ms/step - loss: 270321991680.0000 - val_loss: 252546727936.0000\n",
            "Epoch 2/100\n",
            "14326/14326 [==============================] - 39s 3ms/step - loss: 181579005952.0000 - val_loss: 63668543488.0000\n",
            "Epoch 3/100\n",
            "14326/14326 [==============================] - 38s 3ms/step - loss: 37629505536.0000 - val_loss: 33862787072.0000\n",
            "Epoch 4/100\n",
            "14326/14326 [==============================] - 39s 3ms/step - loss: 31403929600.0000 - val_loss: 31133843456.0000\n",
            "Epoch 5/100\n",
            "14326/14326 [==============================] - 39s 3ms/step - loss: 29079986176.0000 - val_loss: 28863307776.0000\n",
            "Epoch 6/100\n",
            "14326/14326 [==============================] - 34s 2ms/step - loss: 27237251072.0000 - val_loss: 27040190464.0000\n",
            "Epoch 7/100\n",
            "14326/14326 [==============================] - 34s 2ms/step - loss: 25672257536.0000 - val_loss: 25490880512.0000\n",
            "Epoch 8/100\n",
            "14326/14326 [==============================] - 39s 3ms/step - loss: 24433666048.0000 - val_loss: 24234471424.0000\n",
            "Epoch 9/100\n",
            "14326/14326 [==============================] - 35s 2ms/step - loss: 23432994816.0000 - val_loss: 23218489344.0000\n",
            "Epoch 10/100\n",
            "14326/14326 [==============================] - 34s 2ms/step - loss: 22562805760.0000 - val_loss: 22358906880.0000\n",
            "Epoch 11/100\n",
            "14326/14326 [==============================] - 38s 3ms/step - loss: 21771704320.0000 - val_loss: 21623633920.0000\n",
            "Epoch 12/100\n",
            "14326/14326 [==============================] - 38s 3ms/step - loss: 21188616192.0000 - val_loss: 21002041344.0000\n",
            "Epoch 13/100\n",
            "14326/14326 [==============================] - 38s 3ms/step - loss: 20598308864.0000 - val_loss: 20489154560.0000\n",
            "Epoch 14/100\n",
            "14326/14326 [==============================] - 34s 2ms/step - loss: 20190029824.0000 - val_loss: 20058411008.0000\n",
            "Epoch 15/100\n",
            "14326/14326 [==============================] - 40s 3ms/step - loss: 19797274624.0000 - val_loss: 19672467456.0000\n",
            "Epoch 16/100\n",
            "14326/14326 [==============================] - 34s 2ms/step - loss: 19469119488.0000 - val_loss: 19341369344.0000\n",
            "Epoch 17/100\n",
            "14326/14326 [==============================] - 38s 3ms/step - loss: 19132635136.0000 - val_loss: 19065403392.0000\n",
            "Epoch 18/100\n",
            "14326/14326 [==============================] - 34s 2ms/step - loss: 18901227520.0000 - val_loss: 18837882880.0000\n",
            "Epoch 19/100\n",
            "14326/14326 [==============================] - 36s 3ms/step - loss: 18663686144.0000 - val_loss: 18596321280.0000\n",
            "Epoch 20/100\n",
            "14326/14326 [==============================] - 35s 2ms/step - loss: 18474407936.0000 - val_loss: 18387621888.0000\n",
            "Epoch 21/100\n",
            "14326/14326 [==============================] - 39s 3ms/step - loss: 18279288832.0000 - val_loss: 18219192320.0000\n",
            "Epoch 22/100\n",
            "14326/14326 [==============================] - 40s 3ms/step - loss: 18094956544.0000 - val_loss: 18036310016.0000\n",
            "Epoch 23/100\n",
            "14326/14326 [==============================] - 36s 2ms/step - loss: 17930297344.0000 - val_loss: 17902127104.0000\n",
            "Epoch 24/100\n",
            "14326/14326 [==============================] - 42s 3ms/step - loss: 17787783168.0000 - val_loss: 17765756928.0000\n",
            "Epoch 25/100\n",
            "14326/14326 [==============================] - 53s 4ms/step - loss: 17707927552.0000 - val_loss: 17644275712.0000\n",
            "Epoch 26/100\n",
            "14326/14326 [==============================] - 40s 3ms/step - loss: 17573658624.0000 - val_loss: 17510078464.0000\n",
            "Epoch 27/100\n",
            "14326/14326 [==============================] - 35s 2ms/step - loss: 17492563968.0000 - val_loss: 17416323072.0000\n",
            "Epoch 28/100\n",
            "14326/14326 [==============================] - 35s 2ms/step - loss: 17344268288.0000 - val_loss: 17296713728.0000\n",
            "Epoch 29/100\n",
            "14326/14326 [==============================] - 40s 3ms/step - loss: 17295355904.0000 - val_loss: 17255981056.0000\n",
            "Epoch 30/100\n",
            "14326/14326 [==============================] - 40s 3ms/step - loss: 17217062912.0000 - val_loss: 17113930752.0000\n",
            "Epoch 31/100\n",
            "14326/14326 [==============================] - 36s 2ms/step - loss: 17142709248.0000 - val_loss: 17026861056.0000\n",
            "Epoch 32/100\n",
            "14326/14326 [==============================] - 36s 3ms/step - loss: 17021716480.0000 - val_loss: 16969435136.0000\n",
            "Epoch 33/100\n",
            "14326/14326 [==============================] - 35s 2ms/step - loss: 17000121344.0000 - val_loss: 16873289728.0000\n",
            "Epoch 34/100\n",
            "14326/14326 [==============================] - 39s 3ms/step - loss: 16898458624.0000 - val_loss: 16806530048.0000\n",
            "Epoch 35/100\n",
            "14326/14326 [==============================] - 37s 3ms/step - loss: 16863819776.0000 - val_loss: 16742265856.0000\n",
            "Epoch 36/100\n",
            "14326/14326 [==============================] - 38s 3ms/step - loss: 16761911296.0000 - val_loss: 16685571072.0000\n",
            "Epoch 37/100\n",
            "14326/14326 [==============================] - 46s 3ms/step - loss: 16765633536.0000 - val_loss: 16627982336.0000\n",
            "Epoch 38/100\n",
            "14326/14326 [==============================] - 48s 3ms/step - loss: 16655458304.0000 - val_loss: 16611897344.0000\n",
            "Epoch 39/100\n",
            "14326/14326 [==============================] - 45s 3ms/step - loss: 16619143168.0000 - val_loss: 16519728128.0000\n",
            "Epoch 40/100\n",
            "14326/14326 [==============================] - 55s 4ms/step - loss: 16598539264.0000 - val_loss: 16478133248.0000\n",
            "Epoch 41/100\n",
            "14326/14326 [==============================] - 56s 4ms/step - loss: 16547476480.0000 - val_loss: 16432373760.0000\n",
            "Epoch 42/100\n",
            "14326/14326 [==============================] - 48s 3ms/step - loss: 16488443904.0000 - val_loss: 16389249024.0000\n",
            "Epoch 43/100\n",
            "14326/14326 [==============================] - 53s 4ms/step - loss: 16433546240.0000 - val_loss: 16351262720.0000\n",
            "Epoch 44/100\n",
            "14326/14326 [==============================] - 58s 4ms/step - loss: 16430141440.0000 - val_loss: 16310661120.0000\n",
            "Epoch 45/100\n",
            "14326/14326 [==============================] - 47s 3ms/step - loss: 16397526016.0000 - val_loss: 16274430976.0000\n",
            "Epoch 46/100\n",
            "14326/14326 [==============================] - 51s 4ms/step - loss: 16363530240.0000 - val_loss: 16252162048.0000\n",
            "Epoch 47/100\n",
            "14326/14326 [==============================] - 56s 4ms/step - loss: 16375246848.0000 - val_loss: 16209902592.0000\n",
            "Epoch 48/100\n",
            "14326/14326 [==============================] - 56s 4ms/step - loss: 16311361536.0000 - val_loss: 16179958784.0000\n",
            "Epoch 49/100\n",
            "14326/14326 [==============================] - 54s 4ms/step - loss: 16252659712.0000 - val_loss: 16156621824.0000\n",
            "Epoch 50/100\n",
            "14326/14326 [==============================] - 54s 4ms/step - loss: 16271160320.0000 - val_loss: 16122691584.0000\n",
            "Epoch 51/100\n",
            "14326/14326 [==============================] - 63s 4ms/step - loss: 16221218816.0000 - val_loss: 16109314048.0000\n",
            "Epoch 52/100\n",
            "14326/14326 [==============================] - 49s 3ms/step - loss: 16218359808.0000 - val_loss: 16068098048.0000\n",
            "Epoch 53/100\n",
            "14326/14326 [==============================] - 46s 3ms/step - loss: 16155123712.0000 - val_loss: 16051428352.0000\n",
            "Epoch 54/100\n",
            "14326/14326 [==============================] - 51s 4ms/step - loss: 16180451328.0000 - val_loss: 16034428928.0000\n",
            "Epoch 55/100\n",
            "14326/14326 [==============================] - 46s 3ms/step - loss: 16164879360.0000 - val_loss: 15995541504.0000\n",
            "Epoch 56/100\n",
            "14326/14326 [==============================] - 43s 3ms/step - loss: 16105701376.0000 - val_loss: 15973581824.0000\n",
            "Epoch 57/100\n",
            "14326/14326 [==============================] - 48s 3ms/step - loss: 16081546240.0000 - val_loss: 15955987456.0000\n",
            "Epoch 58/100\n",
            "14326/14326 [==============================] - 56s 4ms/step - loss: 16091290624.0000 - val_loss: 15940846592.0000\n",
            "Epoch 59/100\n",
            "14326/14326 [==============================] - 48s 3ms/step - loss: 16072019968.0000 - val_loss: 15916948480.0000\n",
            "Epoch 60/100\n",
            "14326/14326 [==============================] - 59s 4ms/step - loss: 16057987072.0000 - val_loss: 15914727424.0000\n",
            "Epoch 61/100\n",
            "14326/14326 [==============================] - 62s 4ms/step - loss: 16037540864.0000 - val_loss: 15898518528.0000\n",
            "Epoch 62/100\n",
            "14326/14326 [==============================] - 60s 4ms/step - loss: 15993721856.0000 - val_loss: 15878428672.0000\n",
            "Epoch 63/100\n",
            "14326/14326 [==============================] - 58s 4ms/step - loss: 16015184896.0000 - val_loss: 15846919168.0000\n",
            "Epoch 64/100\n",
            "14326/14326 [==============================] - 35s 2ms/step - loss: 16019632128.0000 - val_loss: 15846185984.0000\n",
            "Epoch 65/100\n",
            "14326/14326 [==============================] - 37s 3ms/step - loss: 15983642624.0000 - val_loss: 15820252160.0000\n",
            "Epoch 66/100\n",
            "14326/14326 [==============================] - 36s 2ms/step - loss: 15931892736.0000 - val_loss: 15802435584.0000\n",
            "Epoch 67/100\n",
            "14326/14326 [==============================] - 36s 3ms/step - loss: 15891270656.0000 - val_loss: 15809242112.0000\n",
            "Epoch 68/100\n",
            "14326/14326 [==============================] - 39s 3ms/step - loss: 15918577664.0000 - val_loss: 15774483456.0000\n",
            "Epoch 69/100\n",
            "14326/14326 [==============================] - 36s 3ms/step - loss: 15930681344.0000 - val_loss: 15763301376.0000\n",
            "Epoch 70/100\n",
            "14326/14326 [==============================] - 41s 3ms/step - loss: 15920411648.0000 - val_loss: 15757796352.0000\n",
            "Epoch 71/100\n",
            "14326/14326 [==============================] - 42s 3ms/step - loss: 15844170752.0000 - val_loss: 15737659392.0000\n",
            "Epoch 72/100\n",
            "14326/14326 [==============================] - 42s 3ms/step - loss: 15873534976.0000 - val_loss: 15736051712.0000\n",
            "Epoch 73/100\n",
            "14326/14326 [==============================] - 34s 2ms/step - loss: 15882548224.0000 - val_loss: 15716900864.0000\n",
            "Epoch 74/100\n",
            "14326/14326 [==============================] - 35s 2ms/step - loss: 15820035072.0000 - val_loss: 15702639616.0000\n",
            "Epoch 75/100\n",
            "14326/14326 [==============================] - 38s 3ms/step - loss: 15808620544.0000 - val_loss: 15691517952.0000\n",
            "Epoch 76/100\n",
            "14326/14326 [==============================] - 39s 3ms/step - loss: 15818084352.0000 - val_loss: 15687276544.0000\n",
            "Epoch 77/100\n",
            "14326/14326 [==============================] - 39s 3ms/step - loss: 15781754880.0000 - val_loss: 15671475200.0000\n",
            "Epoch 78/100\n",
            "14326/14326 [==============================] - 39s 3ms/step - loss: 15763138560.0000 - val_loss: 15655604224.0000\n",
            "Epoch 79/100\n",
            "14326/14326 [==============================] - 34s 2ms/step - loss: 15754638336.0000 - val_loss: 15648022528.0000\n",
            "Epoch 80/100\n",
            "14326/14326 [==============================] - 34s 2ms/step - loss: 15727035392.0000 - val_loss: 15639918592.0000\n",
            "Epoch 81/100\n",
            "14326/14326 [==============================] - 35s 2ms/step - loss: 15706121216.0000 - val_loss: 15635895296.0000\n",
            "Epoch 82/100\n",
            "14326/14326 [==============================] - 40s 3ms/step - loss: 15711168512.0000 - val_loss: 15619701760.0000\n",
            "Epoch 83/100\n",
            "14326/14326 [==============================] - 37s 3ms/step - loss: 15715824640.0000 - val_loss: 15644433408.0000\n",
            "Epoch 84/100\n",
            "14326/14326 [==============================] - 39s 3ms/step - loss: 15693069312.0000 - val_loss: 15599372288.0000\n",
            "Epoch 85/100\n",
            "14326/14326 [==============================] - 35s 2ms/step - loss: 15737883648.0000 - val_loss: 15591019520.0000\n",
            "Epoch 86/100\n",
            "14326/14326 [==============================] - 36s 2ms/step - loss: 15653385216.0000 - val_loss: 15599482880.0000\n",
            "Epoch 87/100\n",
            "14326/14326 [==============================] - 39s 3ms/step - loss: 15681260544.0000 - val_loss: 15571952640.0000\n",
            "Epoch 88/100\n",
            "14326/14326 [==============================] - 41s 3ms/step - loss: 15675506688.0000 - val_loss: 15586017280.0000\n",
            "Epoch 89/100\n",
            "14326/14326 [==============================] - 42s 3ms/step - loss: 15647280128.0000 - val_loss: 15554667520.0000\n",
            "Epoch 90/100\n",
            "14326/14326 [==============================] - 34s 2ms/step - loss: 15668877312.0000 - val_loss: 15544171520.0000\n",
            "Epoch 91/100\n",
            "14326/14326 [==============================] - 39s 3ms/step - loss: 15592098816.0000 - val_loss: 15539525632.0000\n",
            "Epoch 92/100\n",
            "14326/14326 [==============================] - 34s 2ms/step - loss: 15589639168.0000 - val_loss: 15527207936.0000\n",
            "Epoch 93/100\n",
            "14326/14326 [==============================] - 39s 3ms/step - loss: 15597261824.0000 - val_loss: 15520998400.0000\n",
            "Epoch 94/100\n",
            "14326/14326 [==============================] - 40s 3ms/step - loss: 15580630016.0000 - val_loss: 15521932288.0000\n",
            "Epoch 95/100\n",
            "14326/14326 [==============================] - 48s 3ms/step - loss: 15586799616.0000 - val_loss: 15508387840.0000\n",
            "Epoch 96/100\n",
            "14326/14326 [==============================] - 42s 3ms/step - loss: 15552941056.0000 - val_loss: 15502074880.0000\n",
            "Epoch 97/100\n",
            "14326/14326 [==============================] - 45s 3ms/step - loss: 15583742976.0000 - val_loss: 15485624320.0000\n",
            "Epoch 98/100\n",
            "14326/14326 [==============================] - 81s 6ms/step - loss: 15591602176.0000 - val_loss: 15484017664.0000\n",
            "Epoch 99/100\n",
            "14326/14326 [==============================] - 76s 5ms/step - loss: 15510649856.0000 - val_loss: 15478824960.0000\n",
            "Epoch 100/100\n",
            "14326/14326 [==============================] - 76s 5ms/step - loss: 15578149888.0000 - val_loss: 15463407616.0000\n"
          ]
        }
      ]
    },
    {
      "cell_type": "markdown",
      "metadata": {
        "id": "1sDi0bbGVLsz"
      },
      "source": [
        ""
      ]
    },
    {
      "cell_type": "code",
      "metadata": {
        "id": "2ZFCzzRSHdT6"
      },
      "source": [
        "loss_df = pd.DataFrame(r.history)"
      ],
      "execution_count": 59,
      "outputs": []
    },
    {
      "cell_type": "code",
      "metadata": {
        "colab": {
          "base_uri": "https://localhost:8080/",
          "height": 348
        },
        "id": "BPiO8THqUd_h",
        "outputId": "92202eb8-570f-4ccf-d4af-b8100ef4431e"
      },
      "source": [
        "plt.figure(figsize=(10,5))\n",
        "sns.lineplot(data = loss_df[\"loss\"])\n",
        "sns.lineplot(data = loss_df[\"val_loss\"])"
      ],
      "execution_count": 60,
      "outputs": [
        {
          "output_type": "execute_result",
          "data": {
            "text/plain": [
              "<matplotlib.axes._subplots.AxesSubplot at 0x7fb32864a710>"
            ]
          },
          "metadata": {},
          "execution_count": 60
        },
        {
          "output_type": "display_data",
          "data": {
            "image/png": "[encoded data removed]",
            "text/plain": [
              "<Figure size 720x360 with 1 Axes>"
            ]
          },
          "metadata": {
            "needs_background": "light"
          }
        }
      ]
    },
    {
      "cell_type": "code",
      "metadata": {
        "colab": {
          "base_uri": "https://localhost:8080/"
        },
        "id": "PKSTAEGjHdZn",
        "outputId": "fb437122-b291-4962-9b1b-758561eaf88d"
      },
      "source": [
        "test_pred = model.predict(X_test)\n",
        "train_pred = model.predict(X_train)\n",
        "\n",
        "print('Test set evaluation:\\n_____________________________________')\n",
        "print_evaluate(y_test, test_pred)\n",
        "\n",
        "print('Train set evaluation:\\n_____________________________________')\n",
        "print_evaluate(y_train, train_pred)"
      ],
      "execution_count": 61,
      "outputs": [
        {
          "output_type": "stream",
          "name": "stdout",
          "text": [
            "Test set evaluation:\n",
            "_____________________________________\n",
            "MAE: 92298.55380587446\n",
            "MSE: 15463426214.714628\n",
            "RMSE: 124352.0253743968\n",
            "R2 Square 0.6330568117557978\n",
            "__________________________________\n",
            "Train set evaluation:\n",
            "_____________________________________\n",
            "MAE: 92675.13990079226\n",
            "MSE: 15404568117.009432\n",
            "RMSE: 124115.14056314577\n",
            "R2 Square 0.6495408887458455\n",
            "__________________________________\n"
          ]
        }
      ]
    },
    {
      "cell_type": "code",
      "metadata": {
        "colab": {
          "base_uri": "https://localhost:8080/",
          "height": 712
        },
        "id": "qcFHU2t7VhQ-",
        "outputId": "a9ca8e10-ed1d-47a2-ce90-21ac74c01c1e"
      },
      "source": [
        "plt.figure(figsize=(12, 10))\n",
        "\n",
        "ax1 = sns.distplot(df['price'], hist=False, color=\"r\", label=\"Actual Value\") # hist=True\n",
        "sns.distplot(test_pred, hist=False, color=\"b\", label=\"Predicted Values\" , ax=ax1)\n",
        "\n",
        "\n",
        "plt.title('Actual vs Predicted Values for House')\n",
        "plt.xlabel('Price')\n",
        "plt.ylabel('Proportion of House')\n",
        "\n",
        "plt.show()\n",
        "plt.close()"
      ],
      "execution_count": 62,
      "outputs": [
        {
          "output_type": "stream",
          "name": "stderr",
          "text": [
            "/usr/local/lib/python3.7/dist-packages/seaborn/distributions.py:2619: FutureWarning: `distplot` is a deprecated function and will be removed in a future version. Please adapt your code to use either `displot` (a figure-level function with similar flexibility) or `kdeplot` (an axes-level function for kernel density plots).\n",
            "  warnings.warn(msg, FutureWarning)\n",
            "/usr/local/lib/python3.7/dist-packages/seaborn/distributions.py:2619: FutureWarning: `distplot` is a deprecated function and will be removed in a future version. Please adapt your code to use either `displot` (a figure-level function with similar flexibility) or `kdeplot` (an axes-level function for kernel density plots).\n",
            "  warnings.warn(msg, FutureWarning)\n"
          ]
        },
        {
          "output_type": "display_data",
          "data": {
            "image/png": "[encoded data removed]",
            "text/plain": [
              "<Figure size 864x720 with 1 Axes>"
            ]
          },
          "metadata": {
            "needs_background": "light"
          }
        }
      ]
    },
    {
      "cell_type": "code",
      "metadata": {
        "colab": {
          "base_uri": "https://localhost:8080/",
          "height": 232
        },
        "id": "nIftumQ-T15b",
        "outputId": "d53a14cd-6d8f-41d7-b0b7-31a42be3b806"
      },
      "source": [
        "results_df_2 = pd.DataFrame(data=[[\"Artficial Neural Network\", *evaluate(y_test, test_pred), 0]], \n",
        "                            columns=['Model', 'MAE', 'MSE', 'RMSE', 'R2 Square', 'Cross Validation'])\n",
        "results_df = results_df.append(results_df_2, ignore_index=True)\n",
        "results_df"
      ],
      "execution_count": 63,
      "outputs": [
        {
          "output_type": "execute_result",
          "data": {
            "text/html": [
              "<div>\n",
              "<style scoped>\n",
              "    .dataframe tbody tr th:only-of-type {\n",
              "        vertical-align: middle;\n",
              "    }\n",
              "\n",
              "    .dataframe tbody tr th {\n",
              "        vertical-align: top;\n",
              "    }\n",
              "\n",
              "    .dataframe thead th {\n",
              "        text-align: right;\n",
              "    }\n",
              "</style>\n",
              "<table border=\"1\" class=\"dataframe\">\n",
              "  <thead>\n",
              "    <tr style=\"text-align: right;\">\n",
              "      <th></th>\n",
              "      <th>Model</th>\n",
              "      <th>MAE</th>\n",
              "      <th>MSE</th>\n",
              "      <th>RMSE</th>\n",
              "      <th>R2 Square</th>\n",
              "      <th>Cross Validation</th>\n",
              "    </tr>\n",
              "  </thead>\n",
              "  <tbody>\n",
              "    <tr>\n",
              "      <th>0</th>\n",
              "      <td>Linear Regression</td>\n",
              "      <td>93100.384261</td>\n",
              "      <td>1.541505e+10</td>\n",
              "      <td>124157.353127</td>\n",
              "      <td>0.634205</td>\n",
              "      <td>0.640626</td>\n",
              "    </tr>\n",
              "    <tr>\n",
              "      <th>1</th>\n",
              "      <td>Random Forest Regressor</td>\n",
              "      <td>65236.360948</td>\n",
              "      <td>8.500776e+09</td>\n",
              "      <td>92199.651403</td>\n",
              "      <td>0.798279</td>\n",
              "      <td>0.000000</td>\n",
              "    </tr>\n",
              "    <tr>\n",
              "      <th>2</th>\n",
              "      <td>Robust Regression</td>\n",
              "      <td>101740.435291</td>\n",
              "      <td>1.833469e+10</td>\n",
              "      <td>135405.661362</td>\n",
              "      <td>0.564922</td>\n",
              "      <td>0.541179</td>\n",
              "    </tr>\n",
              "    <tr>\n",
              "      <th>3</th>\n",
              "      <td>Stochastic Gradient Descent</td>\n",
              "      <td>93100.334435</td>\n",
              "      <td>1.541505e+10</td>\n",
              "      <td>124157.345689</td>\n",
              "      <td>0.634205</td>\n",
              "      <td>0.000000</td>\n",
              "    </tr>\n",
              "    <tr>\n",
              "      <th>4</th>\n",
              "      <td>Elastic Net Regression</td>\n",
              "      <td>93143.700118</td>\n",
              "      <td>1.541525e+10</td>\n",
              "      <td>124158.151507</td>\n",
              "      <td>0.634200</td>\n",
              "      <td>0.000000</td>\n",
              "    </tr>\n",
              "    <tr>\n",
              "      <th>5</th>\n",
              "      <td>Artficial Neural Network</td>\n",
              "      <td>92298.553806</td>\n",
              "      <td>1.546343e+10</td>\n",
              "      <td>124352.025374</td>\n",
              "      <td>0.633057</td>\n",
              "      <td>0.000000</td>\n",
              "    </tr>\n",
              "  </tbody>\n",
              "</table>\n",
              "</div>"
            ],
            "text/plain": [
              "                         Model            MAE  ...  R2 Square  Cross Validation\n",
              "0            Linear Regression   93100.384261  ...   0.634205          0.640626\n",
              "1      Random Forest Regressor   65236.360948  ...   0.798279          0.000000\n",
              "2            Robust Regression  101740.435291  ...   0.564922          0.541179\n",
              "3  Stochastic Gradient Descent   93100.334435  ...   0.634205          0.000000\n",
              "4       Elastic Net Regression   93143.700118  ...   0.634200          0.000000\n",
              "5     Artficial Neural Network   92298.553806  ...   0.633057          0.000000\n",
              "\n",
              "[6 rows x 6 columns]"
            ]
          },
          "metadata": {},
          "execution_count": 63
        }
      ]
    },
    {
      "cell_type": "code",
      "metadata": {
        "id": "6XO7VAztXFEI"
      },
      "source": [
        "# Convert the results_df to an excel\n",
        "results_df.to_excel(\"results_df_regression.xlsx\")\n"
      ],
      "execution_count": 64,
      "outputs": []
    }
  ]
}