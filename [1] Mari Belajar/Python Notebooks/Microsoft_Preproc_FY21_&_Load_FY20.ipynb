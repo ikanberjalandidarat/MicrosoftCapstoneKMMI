{
  "nbformat": 4,
  "nbformat_minor": 0,
  "metadata": {
    "colab": {
      "name": "Microsoft - Preproc FY21 & Load FY20",
      "provenance": [],
      "collapsed_sections": []
    },
    "kernelspec": {
      "name": "python3",
      "display_name": "Python 3"
    },
    "language_info": {
      "name": "python"
    }
  },
  "cells": [
    {
      "cell_type": "markdown",
      "metadata": {
        "id": "wE-bU0JGe084"
      },
      "source": [
        "# Microsoft Capstone Project\n",
        "### MariBelajar.org Non-open source Dataset\n",
        "### Subtheme: **Education** \n",
        "\n",
        "\n",
        "By: Zhafira E. Fawnia - DAI007 - Data & AI "
      ]
    },
    {
      "cell_type": "code",
      "metadata": {
        "id": "nBUQd680evfH",
        "colab": {
          "base_uri": "https://localhost:8080/"
        },
        "outputId": "d345c45e-0eac-4956-a1cf-5a67c51d7775"
      },
      "source": [
        "from google.colab import drive\n",
        "drive.mount('/content/drive')"
      ],
      "execution_count": 1,
      "outputs": [
        {
          "output_type": "stream",
          "name": "stdout",
          "text": [
            "Mounted at /content/drive\n"
          ]
        }
      ]
    },
    {
      "cell_type": "code",
      "metadata": {
        "id": "ZmXJGYBKipzy"
      },
      "source": [
        "import numpy as np\n",
        "import pandas as pd\n",
        "import seaborn as sns\n",
        "import matplotlib.pyplot as plt\n",
        "%matplotlib inline"
      ],
      "execution_count": 2,
      "outputs": []
    },
    {
      "cell_type": "code",
      "metadata": {
        "id": "7m4W_nVZfC0A"
      },
      "source": [
        "# They have three datases\n",
        "# One is the catalog, but we will not need. We will just need their course activities and scorecard from 2020 and 2021\n",
        "fy20 = pd.read_excel('/content/drive/My Drive/MariBelajar/FY20.xlsx')\n",
        "fy21 = pd.read_excel('/content/drive/My Drive/MariBelajar/FY21.xlsx')"
      ],
      "execution_count": 3,
      "outputs": []
    },
    {
      "cell_type": "markdown",
      "metadata": {
        "id": "Tbqf87JymG2J"
      },
      "source": [
        "## Preprocessing FY21 Data"
      ]
    },
    {
      "cell_type": "code",
      "metadata": {
        "colab": {
          "base_uri": "https://localhost:8080/",
          "height": 302
        },
        "id": "1ATXB3FcitjJ",
        "outputId": "22e1bf88-8262-4f11-88ca-1c3760760f08"
      },
      "source": [
        "fy21.head()"
      ],
      "execution_count": 4,
      "outputs": [
        {
          "output_type": "execute_result",
          "data": {
            "text/html": [
              "<div>\n",
              "<style scoped>\n",
              "    .dataframe tbody tr th:only-of-type {\n",
              "        vertical-align: middle;\n",
              "    }\n",
              "\n",
              "    .dataframe tbody tr th {\n",
              "        vertical-align: top;\n",
              "    }\n",
              "\n",
              "    .dataframe thead th {\n",
              "        text-align: right;\n",
              "    }\n",
              "</style>\n",
              "<table border=\"1\" class=\"dataframe\">\n",
              "  <thead>\n",
              "    <tr style=\"text-align: right;\">\n",
              "      <th></th>\n",
              "      <th>No</th>\n",
              "      <th>Fiscal Year</th>\n",
              "      <th>Quarter</th>\n",
              "      <th>Tanggal Pelaksanaan</th>\n",
              "      <th>Durasi /Jam</th>\n",
              "      <th>Nama Kegiatan</th>\n",
              "      <th>Program</th>\n",
              "      <th>Segmen</th>\n",
              "      <th>Government Official</th>\n",
              "      <th>Non-Government Official</th>\n",
              "      <th>Total Peserta</th>\n",
              "      <th>Azure Higher Ed</th>\n",
              "      <th>Unnamed: 12</th>\n",
              "    </tr>\n",
              "  </thead>\n",
              "  <tbody>\n",
              "    <tr>\n",
              "      <th>0</th>\n",
              "      <td>1.0</td>\n",
              "      <td>2021.0</td>\n",
              "      <td>Q1</td>\n",
              "      <td>2020-09-15</td>\n",
              "      <td>4.0</td>\n",
              "      <td>Azure Fundamental for Higher Ed</td>\n",
              "      <td>Azure Higher Ed</td>\n",
              "      <td>Higher Ed</td>\n",
              "      <td>12.0</td>\n",
              "      <td>10.0</td>\n",
              "      <td>22</td>\n",
              "      <td>MAU</td>\n",
              "      <td>Higher Ed</td>\n",
              "    </tr>\n",
              "    <tr>\n",
              "      <th>1</th>\n",
              "      <td>2.0</td>\n",
              "      <td>2021.0</td>\n",
              "      <td>Q1</td>\n",
              "      <td>2020-09-22</td>\n",
              "      <td>4.0</td>\n",
              "      <td>Designing Azure for Academic Infrastructure</td>\n",
              "      <td>Azure Higher Ed</td>\n",
              "      <td>Higher Ed</td>\n",
              "      <td>22.0</td>\n",
              "      <td>31.0</td>\n",
              "      <td>53</td>\n",
              "      <td>TAU</td>\n",
              "      <td>Educator (K-12)</td>\n",
              "    </tr>\n",
              "    <tr>\n",
              "      <th>2</th>\n",
              "      <td>3.0</td>\n",
              "      <td>2021.0</td>\n",
              "      <td>Q1</td>\n",
              "      <td>2020-09-28</td>\n",
              "      <td>4.0</td>\n",
              "      <td>Designing Virtual Labs with Azure</td>\n",
              "      <td>Azure Higher Ed</td>\n",
              "      <td>Higher Ed</td>\n",
              "      <td>18.0</td>\n",
              "      <td>13.0</td>\n",
              "      <td>31</td>\n",
              "      <td>GTP</td>\n",
              "      <td>Professional</td>\n",
              "    </tr>\n",
              "    <tr>\n",
              "      <th>3</th>\n",
              "      <td>4.0</td>\n",
              "      <td>2021.0</td>\n",
              "      <td>Q1</td>\n",
              "      <td>2020-09-04</td>\n",
              "      <td>3.0</td>\n",
              "      <td>Creating A Virtual Classroom using Microsoft T...</td>\n",
              "      <td>GTP</td>\n",
              "      <td>Higher Ed</td>\n",
              "      <td>96.0</td>\n",
              "      <td>0.0</td>\n",
              "      <td>96</td>\n",
              "      <td>Premium</td>\n",
              "      <td>Public</td>\n",
              "    </tr>\n",
              "    <tr>\n",
              "      <th>4</th>\n",
              "      <td>5.0</td>\n",
              "      <td>2021.0</td>\n",
              "      <td>Q1</td>\n",
              "      <td>2020-09-28</td>\n",
              "      <td>6.0</td>\n",
              "      <td>Creating Smart Classroom with Microsoft 365</td>\n",
              "      <td>GTP</td>\n",
              "      <td>Higher Ed</td>\n",
              "      <td>39.0</td>\n",
              "      <td>0.0</td>\n",
              "      <td>39</td>\n",
              "      <td>NaN</td>\n",
              "      <td>NaN</td>\n",
              "    </tr>\n",
              "  </tbody>\n",
              "</table>\n",
              "</div>"
            ],
            "text/plain": [
              "    No  Fiscal Year Quarter  ... Total Peserta  Azure Higher Ed      Unnamed: 12\n",
              "0  1.0       2021.0      Q1  ...            22              MAU        Higher Ed\n",
              "1  2.0       2021.0      Q1  ...            53              TAU  Educator (K-12)\n",
              "2  3.0       2021.0      Q1  ...            31              GTP     Professional\n",
              "3  4.0       2021.0      Q1  ...            96          Premium           Public\n",
              "4  5.0       2021.0      Q1  ...            39              NaN              NaN\n",
              "\n",
              "[5 rows x 13 columns]"
            ]
          },
          "metadata": {},
          "execution_count": 4
        }
      ]
    },
    {
      "cell_type": "code",
      "metadata": {
        "colab": {
          "base_uri": "https://localhost:8080/"
        },
        "id": "0m3iGtgjo6sy",
        "outputId": "084ea152-631f-4bcf-d866-b109fa70f451"
      },
      "source": [
        "fy21.shape"
      ],
      "execution_count": 5,
      "outputs": [
        {
          "output_type": "execute_result",
          "data": {
            "text/plain": [
              "(155, 13)"
            ]
          },
          "metadata": {},
          "execution_count": 5
        }
      ]
    },
    {
      "cell_type": "code",
      "metadata": {
        "colab": {
          "base_uri": "https://localhost:8080/"
        },
        "id": "XFIG6bl_kLtV",
        "outputId": "aa934578-f838-4d7d-a090-1aabf965c225"
      },
      "source": [
        "# Checking for column names\n",
        "for col in fy21.columns:\n",
        "    print(col)\n",
        "\n",
        "# fy21.info()"
      ],
      "execution_count": 6,
      "outputs": [
        {
          "output_type": "stream",
          "name": "stdout",
          "text": [
            "No\n",
            "Fiscal Year\n",
            "Quarter\n",
            "Tanggal Pelaksanaan\n",
            "Durasi /Jam\n",
            "Nama Kegiatan\n",
            "Program\n",
            "Segmen\n",
            "Government Official \n",
            "Non-Government Official\n",
            "Total Peserta\n",
            "Azure Higher Ed\n",
            "Unnamed: 12\n"
          ]
        }
      ]
    },
    {
      "cell_type": "code",
      "metadata": {
        "id": "2aa7enavk8LH"
      },
      "source": [
        "# Dropping \"No\" column, cause we already have index to do so\n",
        "fy21 = fy21.drop(labels=[\"No\",\"Azure Higher Ed\", \"Unnamed: 12\"], axis=1)"
      ],
      "execution_count": 7,
      "outputs": []
    },
    {
      "cell_type": "code",
      "metadata": {
        "id": "UKZkkIKXlzeI"
      },
      "source": [
        "# Removing special character (Spaces)\n",
        "fy21.columns = fy21.columns.str.replace(' ', '')"
      ],
      "execution_count": 8,
      "outputs": []
    },
    {
      "cell_type": "code",
      "metadata": {
        "colab": {
          "base_uri": "https://localhost:8080/"
        },
        "id": "8Wkk582_m05P",
        "outputId": "31d220bf-0cb8-4f5f-dda1-72def1bd4281"
      },
      "source": [
        "# Checking the missing values\n",
        "fy21.isnull().sum()"
      ],
      "execution_count": 9,
      "outputs": [
        {
          "output_type": "execute_result",
          "data": {
            "text/plain": [
              "FiscalYear                  1\n",
              "Quarter                     1\n",
              "TanggalPelaksanaan          1\n",
              "Durasi/Jam                  1\n",
              "NamaKegiatan                1\n",
              "Program                     1\n",
              "Segmen                      1\n",
              "GovernmentOfficial        103\n",
              "Non-GovernmentOfficial     91\n",
              "TotalPeserta                0\n",
              "dtype: int64"
            ]
          },
          "metadata": {},
          "execution_count": 9
        }
      ]
    },
    {
      "cell_type": "code",
      "metadata": {
        "colab": {
          "base_uri": "https://localhost:8080/",
          "height": 78
        },
        "id": "2wON3MDZTQbT",
        "outputId": "6fdf4bc8-e669-4840-9d8f-f2d9586abd99"
      },
      "source": [
        "# creating bool series True for NaN values \n",
        "bool_series = pd.isnull(fy21[\"Quarter\"]) \n",
        "    \n",
        "# filtering data \n",
        "# displaying data only with the designated values = NaN \n",
        "fy21[bool_series] "
      ],
      "execution_count": 11,
      "outputs": [
        {
          "output_type": "execute_result",
          "data": {
            "text/html": [
              "<div>\n",
              "<style scoped>\n",
              "    .dataframe tbody tr th:only-of-type {\n",
              "        vertical-align: middle;\n",
              "    }\n",
              "\n",
              "    .dataframe tbody tr th {\n",
              "        vertical-align: top;\n",
              "    }\n",
              "\n",
              "    .dataframe thead th {\n",
              "        text-align: right;\n",
              "    }\n",
              "</style>\n",
              "<table border=\"1\" class=\"dataframe\">\n",
              "  <thead>\n",
              "    <tr style=\"text-align: right;\">\n",
              "      <th></th>\n",
              "      <th>FiscalYear</th>\n",
              "      <th>Quarter</th>\n",
              "      <th>TanggalPelaksanaan</th>\n",
              "      <th>Durasi/Jam</th>\n",
              "      <th>NamaKegiatan</th>\n",
              "      <th>Program</th>\n",
              "      <th>Segmen</th>\n",
              "      <th>GovernmentOfficial</th>\n",
              "      <th>Non-GovernmentOfficial</th>\n",
              "      <th>TotalPeserta</th>\n",
              "    </tr>\n",
              "  </thead>\n",
              "  <tbody>\n",
              "    <tr>\n",
              "      <th>154</th>\n",
              "      <td>NaN</td>\n",
              "      <td>NaN</td>\n",
              "      <td>NaT</td>\n",
              "      <td>NaN</td>\n",
              "      <td>NaN</td>\n",
              "      <td>NaN</td>\n",
              "      <td>NaN</td>\n",
              "      <td>2479.0</td>\n",
              "      <td>3013.0</td>\n",
              "      <td>8805</td>\n",
              "    </tr>\n",
              "  </tbody>\n",
              "</table>\n",
              "</div>"
            ],
            "text/plain": [
              "     FiscalYear Quarter  ... Non-GovernmentOfficial  TotalPeserta\n",
              "154         NaN     NaN  ...                 3013.0          8805\n",
              "\n",
              "[1 rows x 10 columns]"
            ]
          },
          "metadata": {},
          "execution_count": 11
        }
      ]
    },
    {
      "cell_type": "code",
      "metadata": {
        "id": "8AwInZu6T7Mv"
      },
      "source": [
        "fy21 = fy21.drop(154)"
      ],
      "execution_count": 13,
      "outputs": []
    },
    {
      "cell_type": "code",
      "metadata": {
        "colab": {
          "base_uri": "https://localhost:8080/",
          "height": 202
        },
        "id": "hwK9Wk2Yto0Y",
        "outputId": "8f9d8b44-5f26-4c33-a5df-99cba8804000"
      },
      "source": [
        "fy21.head()"
      ],
      "execution_count": 14,
      "outputs": [
        {
          "output_type": "execute_result",
          "data": {
            "text/html": [
              "<div>\n",
              "<style scoped>\n",
              "    .dataframe tbody tr th:only-of-type {\n",
              "        vertical-align: middle;\n",
              "    }\n",
              "\n",
              "    .dataframe tbody tr th {\n",
              "        vertical-align: top;\n",
              "    }\n",
              "\n",
              "    .dataframe thead th {\n",
              "        text-align: right;\n",
              "    }\n",
              "</style>\n",
              "<table border=\"1\" class=\"dataframe\">\n",
              "  <thead>\n",
              "    <tr style=\"text-align: right;\">\n",
              "      <th></th>\n",
              "      <th>FiscalYear</th>\n",
              "      <th>Quarter</th>\n",
              "      <th>TanggalPelaksanaan</th>\n",
              "      <th>Durasi/Jam</th>\n",
              "      <th>NamaKegiatan</th>\n",
              "      <th>Program</th>\n",
              "      <th>Segmen</th>\n",
              "      <th>GovernmentOfficial</th>\n",
              "      <th>Non-GovernmentOfficial</th>\n",
              "      <th>TotalPeserta</th>\n",
              "    </tr>\n",
              "  </thead>\n",
              "  <tbody>\n",
              "    <tr>\n",
              "      <th>0</th>\n",
              "      <td>2021.0</td>\n",
              "      <td>Q1</td>\n",
              "      <td>2020-09-15</td>\n",
              "      <td>4.0</td>\n",
              "      <td>Azure Fundamental for Higher Ed</td>\n",
              "      <td>Azure Higher Ed</td>\n",
              "      <td>Higher Ed</td>\n",
              "      <td>12.0</td>\n",
              "      <td>10.0</td>\n",
              "      <td>22</td>\n",
              "    </tr>\n",
              "    <tr>\n",
              "      <th>1</th>\n",
              "      <td>2021.0</td>\n",
              "      <td>Q1</td>\n",
              "      <td>2020-09-22</td>\n",
              "      <td>4.0</td>\n",
              "      <td>Designing Azure for Academic Infrastructure</td>\n",
              "      <td>Azure Higher Ed</td>\n",
              "      <td>Higher Ed</td>\n",
              "      <td>22.0</td>\n",
              "      <td>31.0</td>\n",
              "      <td>53</td>\n",
              "    </tr>\n",
              "    <tr>\n",
              "      <th>2</th>\n",
              "      <td>2021.0</td>\n",
              "      <td>Q1</td>\n",
              "      <td>2020-09-28</td>\n",
              "      <td>4.0</td>\n",
              "      <td>Designing Virtual Labs with Azure</td>\n",
              "      <td>Azure Higher Ed</td>\n",
              "      <td>Higher Ed</td>\n",
              "      <td>18.0</td>\n",
              "      <td>13.0</td>\n",
              "      <td>31</td>\n",
              "    </tr>\n",
              "    <tr>\n",
              "      <th>3</th>\n",
              "      <td>2021.0</td>\n",
              "      <td>Q1</td>\n",
              "      <td>2020-09-04</td>\n",
              "      <td>3.0</td>\n",
              "      <td>Creating A Virtual Classroom using Microsoft T...</td>\n",
              "      <td>GTP</td>\n",
              "      <td>Higher Ed</td>\n",
              "      <td>96.0</td>\n",
              "      <td>0.0</td>\n",
              "      <td>96</td>\n",
              "    </tr>\n",
              "    <tr>\n",
              "      <th>4</th>\n",
              "      <td>2021.0</td>\n",
              "      <td>Q1</td>\n",
              "      <td>2020-09-28</td>\n",
              "      <td>6.0</td>\n",
              "      <td>Creating Smart Classroom with Microsoft 365</td>\n",
              "      <td>GTP</td>\n",
              "      <td>Higher Ed</td>\n",
              "      <td>39.0</td>\n",
              "      <td>0.0</td>\n",
              "      <td>39</td>\n",
              "    </tr>\n",
              "  </tbody>\n",
              "</table>\n",
              "</div>"
            ],
            "text/plain": [
              "   FiscalYear Quarter  ... Non-GovernmentOfficial  TotalPeserta\n",
              "0      2021.0      Q1  ...                   10.0            22\n",
              "1      2021.0      Q1  ...                   31.0            53\n",
              "2      2021.0      Q1  ...                   13.0            31\n",
              "3      2021.0      Q1  ...                    0.0            96\n",
              "4      2021.0      Q1  ...                    0.0            39\n",
              "\n",
              "[5 rows x 10 columns]"
            ]
          },
          "metadata": {},
          "execution_count": 14
        }
      ]
    },
    {
      "cell_type": "markdown",
      "metadata": {
        "id": "CAx_9BrstrAT"
      },
      "source": [
        "## Visualizations for FY21"
      ]
    },
    {
      "cell_type": "code",
      "metadata": {
        "colab": {
          "base_uri": "https://localhost:8080/",
          "height": 353
        },
        "id": "vZsW6YyZoJwF",
        "outputId": "da35b13d-abf1-4a68-a325-c959113989bc"
      },
      "source": [
        "# Let's calculate the percentage of each segment category.\n",
        "print(fy21.Segmen.value_counts(normalize=True))\n",
        "\n",
        "# Plot the bar graph of percentage segment categories\n",
        "fy21.Segmen.value_counts(normalize=True).plot.barh()\n",
        "plt.show()"
      ],
      "execution_count": 15,
      "outputs": [
        {
          "output_type": "stream",
          "name": "stdout",
          "text": [
            "Higher Ed             0.422078\n",
            "K-12                  0.331169\n",
            "Higher Ed and K-12    0.233766\n",
            "Corporate             0.012987\n",
            "Name: Segmen, dtype: float64\n"
          ]
        },
        {
          "output_type": "display_data",
          "data": {
            "image/png": "[encoded data removed]",
            "text/plain": [
              "<Figure size 432x288 with 1 Axes>"
            ]
          },
          "metadata": {
            "needs_background": "light"
          }
        }
      ]
    },
    {
      "cell_type": "code",
      "metadata": {
        "colab": {
          "base_uri": "https://localhost:8080/",
          "height": 496
        },
        "id": "6A82OIyctUyr",
        "outputId": "b985035e-0556-457d-e419-1e4866de3fac"
      },
      "source": [
        "#calculate the percentage of each education category.\n",
        "print(fy21.Program.value_counts(normalize=True))\n",
        "\n",
        "#plot the pie chart of education categories\n",
        "fy21.Program.value_counts(normalize=True).plot.pie()\n",
        "plt.show()"
      ],
      "execution_count": 16,
      "outputs": [
        {
          "output_type": "stream",
          "name": "stdout",
          "text": [
            "MAU                  0.194805\n",
            "GTP                  0.181818\n",
            "GTP K12              0.129870\n",
            "Micro Credentials    0.097403\n",
            "Showcase School      0.084416\n",
            "Azure AI             0.058442\n",
            "Minecraft            0.058442\n",
            "Edvision             0.051948\n",
            "M365                 0.045455\n",
            "Teams Coaching       0.038961\n",
            "Merdeka Belajar      0.025974\n",
            "Azure Higher Ed      0.019481\n",
            "Premium Training     0.012987\n",
            "Name: Program, dtype: float64\n"
          ]
        },
        {
          "output_type": "display_data",
          "data": {
            "image/png": "[encoded data removed]",
            "text/plain": [
              "<Figure size 432x288 with 1 Axes>"
            ]
          },
          "metadata": {}
        }
      ]
    },
    {
      "cell_type": "code",
      "metadata": {
        "colab": {
          "base_uri": "https://localhost:8080/"
        },
        "id": "b08hmHH3txw0",
        "outputId": "db56ca33-a798-4463-df6c-24b280aeb935"
      },
      "source": [
        "fy21.TotalPeserta.describe()"
      ],
      "execution_count": 17,
      "outputs": [
        {
          "output_type": "execute_result",
          "data": {
            "text/plain": [
              "count    154.000000\n",
              "mean      57.175325\n",
              "std       65.050321\n",
              "min        1.000000\n",
              "25%       17.500000\n",
              "50%       36.000000\n",
              "75%       67.750000\n",
              "max      439.000000\n",
              "Name: TotalPeserta, dtype: float64"
            ]
          },
          "metadata": {},
          "execution_count": 17
        }
      ]
    },
    {
      "cell_type": "code",
      "metadata": {
        "colab": {
          "base_uri": "https://localhost:8080/",
          "height": 322
        },
        "id": "aqaK-BSmuEHD",
        "outputId": "696b3b00-1051-49a7-9f7d-8028055fe9e6"
      },
      "source": [
        "# Check if durasi has a correlation with the amount of people attending\n",
        "print(fy21[['Durasi/Jam','TotalPeserta']].corr())\n",
        "\n",
        "# Checks using a heatmap\n",
        "sns.heatmap(fy21[['Durasi/Jam','TotalPeserta']].corr(), annot=True, cmap = 'Reds')\n",
        "plt.show()"
      ],
      "execution_count": 18,
      "outputs": [
        {
          "output_type": "stream",
          "name": "stdout",
          "text": [
            "              Durasi/Jam  TotalPeserta\n",
            "Durasi/Jam      1.000000     -0.004262\n",
            "TotalPeserta   -0.004262      1.000000\n"
          ]
        },
        {
          "output_type": "display_data",
          "data": {
            "image/png": "[encoded data removed]",
            "text/plain": [
              "<Figure size 432x288 with 2 Axes>"
            ]
          },
          "metadata": {
            "needs_background": "light"
          }
        }
      ]
    },
    {
      "cell_type": "code",
      "metadata": {
        "id": "X9q7MaN_xucY"
      },
      "source": [
        "def visualizer(x, y, plot_type, title, xlabel, ylabel, rotation=False, rotation_value=60, figsize=(15,8)):\n",
        "    plt.figure(figsize=figsize)\n",
        "    \n",
        "    if plot_type == \"bar\":  \n",
        "        sns.barplot(x=x, y=y)\n",
        "    elif plot_type == \"count\":  \n",
        "        sns.countplot(x)\n",
        "    elif plot_type == \"reg\":  \n",
        "        sns.regplot(x=x,y=y)\n",
        "    plt.title(title, fontsize=15)\n",
        "    plt.xlabel(xlabel, fontsize=11)\n",
        "    plt.ylabel(ylabel, fontsize=11)\n",
        "    plt.yticks(fontsize=13)\n",
        "    if rotation == True:\n",
        "        plt.xticks(fontsize=11,rotation=rotation_value)\n",
        "    plt.show()"
      ],
      "execution_count": 19,
      "outputs": []
    },
    {
      "cell_type": "code",
      "metadata": {
        "colab": {
          "base_uri": "https://localhost:8080/",
          "height": 1000
        },
        "id": "imtB7WLDujxT",
        "outputId": "93560221-e995-4076-9208-6a30b403a799"
      },
      "source": [
        "fy21_participants_sorted = fy21.sort_values('TotalPeserta', ascending=False)\n",
        "subset_fy21_participants_sorted = fy21_participants_sorted[:10]\n",
        "\n",
        "visualizer(subset_fy21_participants_sorted.NamaKegiatan, subset_fy21_participants_sorted.TotalPeserta, \"bar\", \"Top 10 Activities Based on Participants \",\n",
        "          \"ACTIVITY NAME\", \"PARTICIPANTS (TOTAL)\", True, -88)"
      ],
      "execution_count": 20,
      "outputs": [
        {
          "output_type": "display_data",
          "data": {
            "image/png": "[encoded data removed]",
            "text/plain": [
              "<Figure size 1080x576 with 1 Axes>"
            ]
          },
          "metadata": {
            "needs_background": "light"
          }
        }
      ]
    },
    {
      "cell_type": "code",
      "metadata": {
        "id": "hSyoi1wMxq_t"
      },
      "source": [
        "# Need to filter out Null values in Government Official and Non-Government Official\n",
        "fy21_gov = fy21[fy21[\"GovernmentOfficial\"].notnull()]\n",
        "fy21_ngov = fy21[fy21[\"Non-GovernmentOfficial\"].notnull()]"
      ],
      "execution_count": 21,
      "outputs": []
    },
    {
      "cell_type": "code",
      "metadata": {
        "id": "TW-rAyqvpeQc",
        "colab": {
          "base_uri": "https://localhost:8080/",
          "height": 421
        },
        "outputId": "89970218-2497-4ec2-f677-1421c6cf0c2a"
      },
      "source": [
        "f= plt.figure(figsize=(12,4))\n",
        "\n",
        "ax=f.add_subplot(121)\n",
        "sns.distplot(fy21_gov['GovernmentOfficial'],bins=50,color='r',ax=ax)\n",
        "ax.set_title('Distribution of government official attendees')\n",
        "\n",
        "ax=f.add_subplot(122)\n",
        "print(sns.distplot(fy21_ngov['Non-GovernmentOfficial'],bins=50,color='b',ax=ax))\n",
        "ax.set_title('Distribution of non-government official attendees')"
      ],
      "execution_count": 22,
      "outputs": [
        {
          "output_type": "stream",
          "name": "stdout",
          "text": [
            "AxesSubplot(0.547727,0.125;0.352273x0.755)\n"
          ]
        },
        {
          "output_type": "stream",
          "name": "stderr",
          "text": [
            "/usr/local/lib/python3.7/dist-packages/seaborn/distributions.py:2619: FutureWarning: `distplot` is a deprecated function and will be removed in a future version. Please adapt your code to use either `displot` (a figure-level function with similar flexibility) or `histplot` (an axes-level function for histograms).\n",
            "  warnings.warn(msg, FutureWarning)\n",
            "/usr/local/lib/python3.7/dist-packages/seaborn/distributions.py:2619: FutureWarning: `distplot` is a deprecated function and will be removed in a future version. Please adapt your code to use either `displot` (a figure-level function with similar flexibility) or `histplot` (an axes-level function for histograms).\n",
            "  warnings.warn(msg, FutureWarning)\n"
          ]
        },
        {
          "output_type": "execute_result",
          "data": {
            "text/plain": [
              "Text(0.5, 1.0, 'Distribution of non-government official attendees')"
            ]
          },
          "metadata": {},
          "execution_count": 22
        },
        {
          "output_type": "display_data",
          "data": {
            "image/png": "[encoded data removed]",
            "text/plain": [
              "<Figure size 864x288 with 2 Axes>"
            ]
          },
          "metadata": {
            "needs_background": "light"
          }
        }
      ]
    },
    {
      "cell_type": "code",
      "metadata": {
        "id": "cqnlRRn6pfhH",
        "colab": {
          "base_uri": "https://localhost:8080/",
          "height": 322
        },
        "outputId": "eca264fd-d2cc-4f6f-cd64-05ba6b589e32"
      },
      "source": [
        "# Linear correlation of values\n",
        "# Check if durasi has a correlation with the amount of people attending\n",
        "print(fy21[['Durasi/Jam','TotalPeserta']].corr())\n",
        "\n",
        "# Checks using a heatmap\n",
        "sns.heatmap(fy21[['Durasi/Jam','TotalPeserta']].corr(), annot=True, cmap = 'Reds')\n",
        "plt.show()"
      ],
      "execution_count": 23,
      "outputs": [
        {
          "output_type": "stream",
          "name": "stdout",
          "text": [
            "              Durasi/Jam  TotalPeserta\n",
            "Durasi/Jam      1.000000     -0.004262\n",
            "TotalPeserta   -0.004262      1.000000\n"
          ]
        },
        {
          "output_type": "display_data",
          "data": {
            "image/png": "[encoded data removed]",
            "text/plain": [
              "<Figure size 432x288 with 2 Axes>"
            ]
          },
          "metadata": {
            "needs_background": "light"
          }
        }
      ]
    },
    {
      "cell_type": "code",
      "metadata": {
        "id": "YNhExKbuphHZ",
        "colab": {
          "base_uri": "https://localhost:8080/"
        },
        "outputId": "11fc1af7-f68b-4c3e-fe8c-75d24c09283d"
      },
      "source": [
        "fy21_ngc = fy21.drop(labels=[\"Non-GovernmentOfficial\",\"GovernmentOfficial\"], axis=1) # ngc stands for \"no governmental columns\"\n",
        "corr_fy21 = fy21_ngc.corr()\n",
        "corr_fy21[\"TotalPeserta\"].sort_values(ascending=False)\n",
        "\n",
        "# Turns out no correlation whatsoever with other columns, at least no visible ones, hence I will be adding in other variables"
      ],
      "execution_count": 24,
      "outputs": [
        {
          "output_type": "execute_result",
          "data": {
            "text/plain": [
              "TotalPeserta    1.000000\n",
              "Durasi/Jam     -0.004262\n",
              "FiscalYear           NaN\n",
              "Name: TotalPeserta, dtype: float64"
            ]
          },
          "metadata": {},
          "execution_count": 24
        }
      ]
    },
    {
      "cell_type": "code",
      "metadata": {
        "id": "X8c7-IjmpikZ",
        "colab": {
          "base_uri": "https://localhost:8080/",
          "height": 514
        },
        "outputId": "5b1d6ce8-575a-46aa-d770-813f42b9626e"
      },
      "source": [
        "visualizer(fy21_ngc[\"Durasi/Jam\"], fy21_ngc[\"TotalPeserta\"], \"reg\", \n",
        "          \"Correlation of duration and total participants\", \"Durasi / Jam\",\n",
        "          \"Total Peserta\", False)"
      ],
      "execution_count": 25,
      "outputs": [
        {
          "output_type": "display_data",
          "data": {
            "image/png": "[encoded data removed]",
            "text/plain": [
              "<Figure size 1080x576 with 1 Axes>"
            ]
          },
          "metadata": {
            "needs_background": "light"
          }
        }
      ]
    },
    {
      "cell_type": "code",
      "metadata": {
        "colab": {
          "base_uri": "https://localhost:8080/"
        },
        "id": "56ZBuNxXUMcl",
        "outputId": "4e156684-6f71-4dd3-c03c-ace165ebd4b9"
      },
      "source": [
        "pip install category_encoders"
      ],
      "execution_count": 27,
      "outputs": [
        {
          "output_type": "stream",
          "name": "stdout",
          "text": [
            "Collecting category_encoders\n",
            "  Downloading category_encoders-2.3.0-py2.py3-none-any.whl (82 kB)\n",
            "\u001b[?25l\r\u001b[K     |████                            | 10 kB 29.6 MB/s eta 0:00:01\r\u001b[K     |████████                        | 20 kB 37.8 MB/s eta 0:00:01\r\u001b[K     |████████████                    | 30 kB 43.4 MB/s eta 0:00:01\r\u001b[K     |████████████████                | 40 kB 41.6 MB/s eta 0:00:01\r\u001b[K     |████████████████████            | 51 kB 44.7 MB/s eta 0:00:01\r\u001b[K     |████████████████████████        | 61 kB 46.1 MB/s eta 0:00:01\r\u001b[K     |████████████████████████████    | 71 kB 14.4 MB/s eta 0:00:01\r\u001b[K     |███████████████████████████████▉| 81 kB 15.7 MB/s eta 0:00:01\r\u001b[K     |████████████████████████████████| 82 kB 377 kB/s \n",
            "\u001b[?25hRequirement already satisfied: scikit-learn>=0.20.0 in /usr/local/lib/python3.7/dist-packages (from category_encoders) (1.0.1)\n",
            "Requirement already satisfied: statsmodels>=0.9.0 in /usr/local/lib/python3.7/dist-packages (from category_encoders) (0.10.2)\n",
            "Requirement already satisfied: patsy>=0.5.1 in /usr/local/lib/python3.7/dist-packages (from category_encoders) (0.5.2)\n",
            "Requirement already satisfied: pandas>=0.21.1 in /usr/local/lib/python3.7/dist-packages (from category_encoders) (1.1.5)\n",
            "Requirement already satisfied: scipy>=1.0.0 in /usr/local/lib/python3.7/dist-packages (from category_encoders) (1.4.1)\n",
            "Requirement already satisfied: numpy>=1.14.0 in /usr/local/lib/python3.7/dist-packages (from category_encoders) (1.19.5)\n",
            "Requirement already satisfied: python-dateutil>=2.7.3 in /usr/local/lib/python3.7/dist-packages (from pandas>=0.21.1->category_encoders) (2.8.2)\n",
            "Requirement already satisfied: pytz>=2017.2 in /usr/local/lib/python3.7/dist-packages (from pandas>=0.21.1->category_encoders) (2018.9)\n",
            "Requirement already satisfied: six in /usr/local/lib/python3.7/dist-packages (from patsy>=0.5.1->category_encoders) (1.15.0)\n",
            "Requirement already satisfied: joblib>=0.11 in /usr/local/lib/python3.7/dist-packages (from scikit-learn>=0.20.0->category_encoders) (1.1.0)\n",
            "Requirement already satisfied: threadpoolctl>=2.0.0 in /usr/local/lib/python3.7/dist-packages (from scikit-learn>=0.20.0->category_encoders) (3.0.0)\n",
            "Installing collected packages: category-encoders\n",
            "Successfully installed category-encoders-2.3.0\n"
          ]
        }
      ]
    },
    {
      "cell_type": "code",
      "metadata": {
        "id": "HfNqDetypkBN",
        "colab": {
          "base_uri": "https://localhost:8080/"
        },
        "outputId": "c09cd9f3-6725-4582-a672-b7cdb84c3ffa"
      },
      "source": [
        "import category_encoders as ce\n",
        "\n",
        "# Categorical Data Encoding \n",
        "# Quarter (One Hot Encoding) because not ordered\n",
        "print(\"Quarter unique values = \", fy21[\"Quarter\"].unique())\n",
        "fy21_clean_sample = fy21\n",
        "\n",
        "#Create object for one-hot encoding\n",
        "encoder=ce.OneHotEncoder(cols='Quarter',handle_unknown='return_nan',return_df=True,use_cat_names=True)\n",
        "\n",
        "#Original Data fy21_clean_sample"
      ],
      "execution_count": 29,
      "outputs": [
        {
          "output_type": "stream",
          "name": "stdout",
          "text": [
            "Quarter unique values =  ['Q1' 'Q2' 'AY21']\n"
          ]
        }
      ]
    },
    {
      "cell_type": "code",
      "metadata": {
        "id": "Rgm2BKFoplVa",
        "colab": {
          "base_uri": "https://localhost:8080/",
          "height": 414
        },
        "outputId": "ed0554e0-f991-42de-ce27-72e8f84d7078"
      },
      "source": [
        "#Fit and transform Data\n",
        "fy21_encoded = encoder.fit_transform(fy21_clean_sample)\n",
        "quarter_encoded = fy21_encoded[[\"Quarter_Q1\",\"Quarter_Q2\",\"Quarter_AY21\"]]\n",
        "quarter_encoded"
      ],
      "execution_count": 30,
      "outputs": [
        {
          "output_type": "execute_result",
          "data": {
            "text/html": [
              "<div>\n",
              "<style scoped>\n",
              "    .dataframe tbody tr th:only-of-type {\n",
              "        vertical-align: middle;\n",
              "    }\n",
              "\n",
              "    .dataframe tbody tr th {\n",
              "        vertical-align: top;\n",
              "    }\n",
              "\n",
              "    .dataframe thead th {\n",
              "        text-align: right;\n",
              "    }\n",
              "</style>\n",
              "<table border=\"1\" class=\"dataframe\">\n",
              "  <thead>\n",
              "    <tr style=\"text-align: right;\">\n",
              "      <th></th>\n",
              "      <th>Quarter_Q1</th>\n",
              "      <th>Quarter_Q2</th>\n",
              "      <th>Quarter_AY21</th>\n",
              "    </tr>\n",
              "  </thead>\n",
              "  <tbody>\n",
              "    <tr>\n",
              "      <th>0</th>\n",
              "      <td>1.0</td>\n",
              "      <td>0.0</td>\n",
              "      <td>0.0</td>\n",
              "    </tr>\n",
              "    <tr>\n",
              "      <th>1</th>\n",
              "      <td>1.0</td>\n",
              "      <td>0.0</td>\n",
              "      <td>0.0</td>\n",
              "    </tr>\n",
              "    <tr>\n",
              "      <th>2</th>\n",
              "      <td>1.0</td>\n",
              "      <td>0.0</td>\n",
              "      <td>0.0</td>\n",
              "    </tr>\n",
              "    <tr>\n",
              "      <th>3</th>\n",
              "      <td>1.0</td>\n",
              "      <td>0.0</td>\n",
              "      <td>0.0</td>\n",
              "    </tr>\n",
              "    <tr>\n",
              "      <th>4</th>\n",
              "      <td>1.0</td>\n",
              "      <td>0.0</td>\n",
              "      <td>0.0</td>\n",
              "    </tr>\n",
              "    <tr>\n",
              "      <th>...</th>\n",
              "      <td>...</td>\n",
              "      <td>...</td>\n",
              "      <td>...</td>\n",
              "    </tr>\n",
              "    <tr>\n",
              "      <th>149</th>\n",
              "      <td>0.0</td>\n",
              "      <td>0.0</td>\n",
              "      <td>1.0</td>\n",
              "    </tr>\n",
              "    <tr>\n",
              "      <th>150</th>\n",
              "      <td>0.0</td>\n",
              "      <td>0.0</td>\n",
              "      <td>1.0</td>\n",
              "    </tr>\n",
              "    <tr>\n",
              "      <th>151</th>\n",
              "      <td>0.0</td>\n",
              "      <td>0.0</td>\n",
              "      <td>1.0</td>\n",
              "    </tr>\n",
              "    <tr>\n",
              "      <th>152</th>\n",
              "      <td>0.0</td>\n",
              "      <td>0.0</td>\n",
              "      <td>1.0</td>\n",
              "    </tr>\n",
              "    <tr>\n",
              "      <th>153</th>\n",
              "      <td>0.0</td>\n",
              "      <td>0.0</td>\n",
              "      <td>1.0</td>\n",
              "    </tr>\n",
              "  </tbody>\n",
              "</table>\n",
              "<p>154 rows × 3 columns</p>\n",
              "</div>"
            ],
            "text/plain": [
              "     Quarter_Q1  Quarter_Q2  Quarter_AY21\n",
              "0           1.0         0.0           0.0\n",
              "1           1.0         0.0           0.0\n",
              "2           1.0         0.0           0.0\n",
              "3           1.0         0.0           0.0\n",
              "4           1.0         0.0           0.0\n",
              "..          ...         ...           ...\n",
              "149         0.0         0.0           1.0\n",
              "150         0.0         0.0           1.0\n",
              "151         0.0         0.0           1.0\n",
              "152         0.0         0.0           1.0\n",
              "153         0.0         0.0           1.0\n",
              "\n",
              "[154 rows x 3 columns]"
            ]
          },
          "metadata": {},
          "execution_count": 30
        }
      ]
    },
    {
      "cell_type": "code",
      "metadata": {
        "id": "0aCPtbwUpmqJ",
        "colab": {
          "base_uri": "https://localhost:8080/"
        },
        "outputId": "6764aab4-00ea-4455-9819-d31e966e98b8"
      },
      "source": [
        "# Segmen (One Hot Encoding) because also not ordered\n",
        "print(\"Segment unique values = \", fy21[\"Segmen\"].unique())\n",
        "\n",
        "encoder_second=ce.OneHotEncoder(cols='Segmen',handle_unknown='return_nan',return_df=True,use_cat_names=True)"
      ],
      "execution_count": 31,
      "outputs": [
        {
          "output_type": "stream",
          "name": "stdout",
          "text": [
            "Segment unique values =  ['Higher Ed' 'Higher Ed and K-12' 'K-12' 'Corporate']\n"
          ]
        }
      ]
    },
    {
      "cell_type": "code",
      "metadata": {
        "id": "r4wCYtHBpn7X",
        "colab": {
          "base_uri": "https://localhost:8080/",
          "height": 884
        },
        "outputId": "53e8f954-12b1-4b6e-cbd5-81972cebc259"
      },
      "source": [
        "#Fit and transform Data\n",
        "fy21_encoded = encoder_second.fit_transform(fy21_clean_sample)\n",
        "fy21_encoded"
      ],
      "execution_count": 32,
      "outputs": [
        {
          "output_type": "execute_result",
          "data": {
            "text/html": [
              "<div>\n",
              "<style scoped>\n",
              "    .dataframe tbody tr th:only-of-type {\n",
              "        vertical-align: middle;\n",
              "    }\n",
              "\n",
              "    .dataframe tbody tr th {\n",
              "        vertical-align: top;\n",
              "    }\n",
              "\n",
              "    .dataframe thead th {\n",
              "        text-align: right;\n",
              "    }\n",
              "</style>\n",
              "<table border=\"1\" class=\"dataframe\">\n",
              "  <thead>\n",
              "    <tr style=\"text-align: right;\">\n",
              "      <th></th>\n",
              "      <th>FiscalYear</th>\n",
              "      <th>Quarter</th>\n",
              "      <th>TanggalPelaksanaan</th>\n",
              "      <th>Durasi/Jam</th>\n",
              "      <th>NamaKegiatan</th>\n",
              "      <th>Program</th>\n",
              "      <th>Segmen_Higher Ed</th>\n",
              "      <th>Segmen_Higher Ed and K-12</th>\n",
              "      <th>Segmen_K-12</th>\n",
              "      <th>Segmen_Corporate</th>\n",
              "      <th>GovernmentOfficial</th>\n",
              "      <th>Non-GovernmentOfficial</th>\n",
              "      <th>TotalPeserta</th>\n",
              "    </tr>\n",
              "  </thead>\n",
              "  <tbody>\n",
              "    <tr>\n",
              "      <th>0</th>\n",
              "      <td>2021.0</td>\n",
              "      <td>Q1</td>\n",
              "      <td>2020-09-15</td>\n",
              "      <td>4.0</td>\n",
              "      <td>Azure Fundamental for Higher Ed</td>\n",
              "      <td>Azure Higher Ed</td>\n",
              "      <td>1.0</td>\n",
              "      <td>0.0</td>\n",
              "      <td>0.0</td>\n",
              "      <td>0.0</td>\n",
              "      <td>12.0</td>\n",
              "      <td>10.0</td>\n",
              "      <td>22</td>\n",
              "    </tr>\n",
              "    <tr>\n",
              "      <th>1</th>\n",
              "      <td>2021.0</td>\n",
              "      <td>Q1</td>\n",
              "      <td>2020-09-22</td>\n",
              "      <td>4.0</td>\n",
              "      <td>Designing Azure for Academic Infrastructure</td>\n",
              "      <td>Azure Higher Ed</td>\n",
              "      <td>1.0</td>\n",
              "      <td>0.0</td>\n",
              "      <td>0.0</td>\n",
              "      <td>0.0</td>\n",
              "      <td>22.0</td>\n",
              "      <td>31.0</td>\n",
              "      <td>53</td>\n",
              "    </tr>\n",
              "    <tr>\n",
              "      <th>2</th>\n",
              "      <td>2021.0</td>\n",
              "      <td>Q1</td>\n",
              "      <td>2020-09-28</td>\n",
              "      <td>4.0</td>\n",
              "      <td>Designing Virtual Labs with Azure</td>\n",
              "      <td>Azure Higher Ed</td>\n",
              "      <td>1.0</td>\n",
              "      <td>0.0</td>\n",
              "      <td>0.0</td>\n",
              "      <td>0.0</td>\n",
              "      <td>18.0</td>\n",
              "      <td>13.0</td>\n",
              "      <td>31</td>\n",
              "    </tr>\n",
              "    <tr>\n",
              "      <th>3</th>\n",
              "      <td>2021.0</td>\n",
              "      <td>Q1</td>\n",
              "      <td>2020-09-04</td>\n",
              "      <td>3.0</td>\n",
              "      <td>Creating A Virtual Classroom using Microsoft T...</td>\n",
              "      <td>GTP</td>\n",
              "      <td>1.0</td>\n",
              "      <td>0.0</td>\n",
              "      <td>0.0</td>\n",
              "      <td>0.0</td>\n",
              "      <td>96.0</td>\n",
              "      <td>0.0</td>\n",
              "      <td>96</td>\n",
              "    </tr>\n",
              "    <tr>\n",
              "      <th>4</th>\n",
              "      <td>2021.0</td>\n",
              "      <td>Q1</td>\n",
              "      <td>2020-09-28</td>\n",
              "      <td>6.0</td>\n",
              "      <td>Creating Smart Classroom with Microsoft 365</td>\n",
              "      <td>GTP</td>\n",
              "      <td>1.0</td>\n",
              "      <td>0.0</td>\n",
              "      <td>0.0</td>\n",
              "      <td>0.0</td>\n",
              "      <td>39.0</td>\n",
              "      <td>0.0</td>\n",
              "      <td>39</td>\n",
              "    </tr>\n",
              "    <tr>\n",
              "      <th>...</th>\n",
              "      <td>...</td>\n",
              "      <td>...</td>\n",
              "      <td>...</td>\n",
              "      <td>...</td>\n",
              "      <td>...</td>\n",
              "      <td>...</td>\n",
              "      <td>...</td>\n",
              "      <td>...</td>\n",
              "      <td>...</td>\n",
              "      <td>...</td>\n",
              "      <td>...</td>\n",
              "      <td>...</td>\n",
              "      <td>...</td>\n",
              "    </tr>\n",
              "    <tr>\n",
              "      <th>149</th>\n",
              "      <td>2021.0</td>\n",
              "      <td>AY21</td>\n",
              "      <td>2021-06-15</td>\n",
              "      <td>3.0</td>\n",
              "      <td>Showcase Schools – Session 2: SD Al Azhar 31 Y...</td>\n",
              "      <td>Showcase School</td>\n",
              "      <td>0.0</td>\n",
              "      <td>0.0</td>\n",
              "      <td>1.0</td>\n",
              "      <td>0.0</td>\n",
              "      <td>NaN</td>\n",
              "      <td>28.0</td>\n",
              "      <td>28</td>\n",
              "    </tr>\n",
              "    <tr>\n",
              "      <th>150</th>\n",
              "      <td>2021.0</td>\n",
              "      <td>AY21</td>\n",
              "      <td>2021-06-18</td>\n",
              "      <td>3.0</td>\n",
              "      <td>Showcase Schools – Session 3: SD Al Azhar 31 Y...</td>\n",
              "      <td>Showcase School</td>\n",
              "      <td>0.0</td>\n",
              "      <td>0.0</td>\n",
              "      <td>1.0</td>\n",
              "      <td>0.0</td>\n",
              "      <td>NaN</td>\n",
              "      <td>25.0</td>\n",
              "      <td>25</td>\n",
              "    </tr>\n",
              "    <tr>\n",
              "      <th>151</th>\n",
              "      <td>2021.0</td>\n",
              "      <td>AY21</td>\n",
              "      <td>2021-06-24</td>\n",
              "      <td>3.0</td>\n",
              "      <td>Showcase Schools – Session 2: SMAK BPK Penabur...</td>\n",
              "      <td>Showcase School</td>\n",
              "      <td>0.0</td>\n",
              "      <td>0.0</td>\n",
              "      <td>1.0</td>\n",
              "      <td>0.0</td>\n",
              "      <td>NaN</td>\n",
              "      <td>26.0</td>\n",
              "      <td>26</td>\n",
              "    </tr>\n",
              "    <tr>\n",
              "      <th>152</th>\n",
              "      <td>2021.0</td>\n",
              "      <td>AY21</td>\n",
              "      <td>2021-04-01</td>\n",
              "      <td>24.0</td>\n",
              "      <td>Pelatihan Power BI Vads</td>\n",
              "      <td>Premium Training</td>\n",
              "      <td>0.0</td>\n",
              "      <td>0.0</td>\n",
              "      <td>0.0</td>\n",
              "      <td>1.0</td>\n",
              "      <td>NaN</td>\n",
              "      <td>15.0</td>\n",
              "      <td>15</td>\n",
              "    </tr>\n",
              "    <tr>\n",
              "      <th>153</th>\n",
              "      <td>2021.0</td>\n",
              "      <td>AY21</td>\n",
              "      <td>2021-06-15</td>\n",
              "      <td>15.0</td>\n",
              "      <td>Pelatihan Power BI Unilever</td>\n",
              "      <td>Premium Training</td>\n",
              "      <td>0.0</td>\n",
              "      <td>0.0</td>\n",
              "      <td>0.0</td>\n",
              "      <td>1.0</td>\n",
              "      <td>NaN</td>\n",
              "      <td>3.0</td>\n",
              "      <td>3</td>\n",
              "    </tr>\n",
              "  </tbody>\n",
              "</table>\n",
              "<p>154 rows × 13 columns</p>\n",
              "</div>"
            ],
            "text/plain": [
              "     FiscalYear Quarter  ... Non-GovernmentOfficial  TotalPeserta\n",
              "0        2021.0      Q1  ...                   10.0            22\n",
              "1        2021.0      Q1  ...                   31.0            53\n",
              "2        2021.0      Q1  ...                   13.0            31\n",
              "3        2021.0      Q1  ...                    0.0            96\n",
              "4        2021.0      Q1  ...                    0.0            39\n",
              "..          ...     ...  ...                    ...           ...\n",
              "149      2021.0    AY21  ...                   28.0            28\n",
              "150      2021.0    AY21  ...                   25.0            25\n",
              "151      2021.0    AY21  ...                   26.0            26\n",
              "152      2021.0    AY21  ...                   15.0            15\n",
              "153      2021.0    AY21  ...                    3.0             3\n",
              "\n",
              "[154 rows x 13 columns]"
            ]
          },
          "metadata": {},
          "execution_count": 32
        }
      ]
    },
    {
      "cell_type": "code",
      "metadata": {
        "id": "p44c8gN6pplA",
        "colab": {
          "base_uri": "https://localhost:8080/"
        },
        "outputId": "522adbb1-ce74-4fd4-da7b-1e40edbd5cdc"
      },
      "source": [
        "# Append \n",
        "fy21_encoded = fy21_encoded.drop(\"Quarter\", axis=1)\n",
        "fy21_encoded = fy21_encoded.append(quarter_encoded)\n",
        "print(fy21_encoded.head(10))\n"
      ],
      "execution_count": 33,
      "outputs": [
        {
          "output_type": "stream",
          "name": "stdout",
          "text": [
            "   FiscalYear TanggalPelaksanaan  ...  Quarter_Q2 Quarter_AY21\n",
            "0      2021.0         2020-09-15  ...         NaN          NaN\n",
            "1      2021.0         2020-09-22  ...         NaN          NaN\n",
            "2      2021.0         2020-09-28  ...         NaN          NaN\n",
            "3      2021.0         2020-09-04  ...         NaN          NaN\n",
            "4      2021.0         2020-09-28  ...         NaN          NaN\n",
            "5      2021.0         2020-09-29  ...         NaN          NaN\n",
            "6      2021.0         2020-09-30  ...         NaN          NaN\n",
            "7      2021.0         2020-09-17  ...         NaN          NaN\n",
            "8      2021.0         2020-09-18  ...         NaN          NaN\n",
            "9      2021.0         2020-09-24  ...         NaN          NaN\n",
            "\n",
            "[10 rows x 15 columns]\n"
          ]
        }
      ]
    },
    {
      "cell_type": "code",
      "metadata": {
        "id": "cCQ7RZ5wptqC",
        "colab": {
          "base_uri": "https://localhost:8080/"
        },
        "outputId": "d080d7af-222e-402b-e017-6e17dd1cd0a3"
      },
      "source": [
        "#fy21_encoded = fy21_encoded.append(quarter_encoded)\n",
        "#print(fy21_encoded.head(10))\n",
        "\n",
        "# fy21_encoded.to_excel(\"FY21_ENCODED_SAMPLE.xlsx\")\n",
        "# Then tidied up already via excel "
      ],
      "execution_count": 34,
      "outputs": [
        {
          "output_type": "stream",
          "name": "stdout",
          "text": [
            "   FiscalYear TanggalPelaksanaan  ...  Quarter_Q2 Quarter_AY21\n",
            "0      2021.0         2020-09-15  ...         NaN          NaN\n",
            "1      2021.0         2020-09-22  ...         NaN          NaN\n",
            "2      2021.0         2020-09-28  ...         NaN          NaN\n",
            "3      2021.0         2020-09-04  ...         NaN          NaN\n",
            "4      2021.0         2020-09-28  ...         NaN          NaN\n",
            "5      2021.0         2020-09-29  ...         NaN          NaN\n",
            "6      2021.0         2020-09-30  ...         NaN          NaN\n",
            "7      2021.0         2020-09-17  ...         NaN          NaN\n",
            "8      2021.0         2020-09-18  ...         NaN          NaN\n",
            "9      2021.0         2020-09-24  ...         NaN          NaN\n",
            "\n",
            "[10 rows x 15 columns]\n"
          ]
        }
      ]
    },
    {
      "cell_type": "code",
      "metadata": {
        "id": "POFJScFLUfvt"
      },
      "source": [
        ""
      ],
      "execution_count": null,
      "outputs": []
    }
  ]
}
