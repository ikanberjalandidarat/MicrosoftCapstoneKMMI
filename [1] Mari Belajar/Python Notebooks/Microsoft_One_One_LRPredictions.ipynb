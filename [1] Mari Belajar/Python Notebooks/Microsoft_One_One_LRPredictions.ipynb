{
  "nbformat": 4,
  "nbformat_minor": 0,
  "metadata": {
    "colab": {
      "name": "Microsoft - One/One LRPredictions.ipynb",
      "provenance": []
    },
    "kernelspec": {
      "name": "python3",
      "display_name": "Python 3"
    },
    "language_info": {
      "name": "python"
    }
  },
  "cells": [
    {
      "cell_type": "markdown",
      "metadata": {
        "id": "2WZwui3hmIip"
      },
      "source": [
        "## Microsoft Capstone for MariBelajar.org\n",
        "**Subtheme: Education**\n",
        "\n",
        "Driver file 2 for FY21 ✈ \n",
        "- Contains encoded and cleaned FY21 data \n",
        "- Data will be featured to **only have one independent variable** (its duration), and dependent will remain as total participants.\n",
        "- Will be using a **simple linear regression model** due to the simplicity of the features and low cardinality "
      ]
    },
    {
      "cell_type": "code",
      "metadata": {
        "colab": {
          "base_uri": "https://localhost:8080/"
        },
        "id": "BE6vRulfmCjP",
        "outputId": "534255cd-18a5-4030-938a-6dac43d3d9d5"
      },
      "source": [
        "from google.colab import drive\n",
        "drive.mount('/content/drive')"
      ],
      "execution_count": null,
      "outputs": [
        {
          "output_type": "stream",
          "name": "stdout",
          "text": [
            "Mounted at /content/drive\n"
          ]
        }
      ]
    },
    {
      "cell_type": "code",
      "metadata": {
        "id": "uior6-Kvmhxq"
      },
      "source": [
        "import numpy as np\n",
        "import pandas as pd\n",
        "import seaborn as sns\n",
        "import matplotlib.pyplot as plt\n",
        "%matplotlib inline\n",
        "from sklearn.model_selection import train_test_split\n",
        "from sklearn.metrics import accuracy_score, confusion_matrix, classification_report\n",
        "from sklearn import metrics\n",
        "from sklearn import preprocessing\n",
        "from sklearn.neighbors import KNeighborsRegressor\n",
        "from sklearn.ensemble import RandomForestRegressor\n",
        "from sklearn.model_selection import train_test_split"
      ],
      "execution_count": null,
      "outputs": []
    },
    {
      "cell_type": "code",
      "metadata": {
        "id": "MDk_Rs7fmiEW"
      },
      "source": [
        "# Loading excel to dataframe\n",
        "fy21_cleaned_encoded = pd.read_excel('/content/drive/My Drive/MariBelajar/FY21_Encoded.xlsx')"
      ],
      "execution_count": null,
      "outputs": []
    },
    {
      "cell_type": "code",
      "metadata": {
        "id": "c_02l6OpmzIf"
      },
      "source": [
        "fy21_cleaned_encoded = fy21_cleaned_encoded[:154]"
      ],
      "execution_count": null,
      "outputs": []
    },
    {
      "cell_type": "code",
      "metadata": {
        "colab": {
          "base_uri": "https://localhost:8080/",
          "height": 362
        },
        "id": "TQGcgvMqm0i1",
        "outputId": "e7c13297-eef2-418b-c9e7-ef3fc4e4ff78"
      },
      "source": [
        "fy21_cleaned_encoded.head()"
      ],
      "execution_count": null,
      "outputs": [
        {
          "output_type": "execute_result",
          "data": {
            "text/html": [
              "<div>\n",
              "<style scoped>\n",
              "    .dataframe tbody tr th:only-of-type {\n",
              "        vertical-align: middle;\n",
              "    }\n",
              "\n",
              "    .dataframe tbody tr th {\n",
              "        vertical-align: top;\n",
              "    }\n",
              "\n",
              "    .dataframe thead th {\n",
              "        text-align: right;\n",
              "    }\n",
              "</style>\n",
              "<table border=\"1\" class=\"dataframe\">\n",
              "  <thead>\n",
              "    <tr style=\"text-align: right;\">\n",
              "      <th></th>\n",
              "      <th>Unnamed: 0</th>\n",
              "      <th>FiscalYear</th>\n",
              "      <th>Quarter_Q1</th>\n",
              "      <th>Quarter_Q2</th>\n",
              "      <th>Quarter_AY21</th>\n",
              "      <th>TanggalPelaksanaan</th>\n",
              "      <th>Durasi/Jam</th>\n",
              "      <th>NamaKegiatan</th>\n",
              "      <th>Program</th>\n",
              "      <th>Segmen_HE</th>\n",
              "      <th>Segmen_HEK12</th>\n",
              "      <th>Segmen_K12</th>\n",
              "      <th>Segmen_Corporate</th>\n",
              "      <th>GovernmentOfficial</th>\n",
              "      <th>Non-GovernmentOfficial</th>\n",
              "      <th>TotalPeserta</th>\n",
              "    </tr>\n",
              "  </thead>\n",
              "  <tbody>\n",
              "    <tr>\n",
              "      <th>0</th>\n",
              "      <td>0</td>\n",
              "      <td>2021.0</td>\n",
              "      <td>1.0</td>\n",
              "      <td>0.0</td>\n",
              "      <td>0.0</td>\n",
              "      <td>2020-09-15</td>\n",
              "      <td>4.0</td>\n",
              "      <td>Azure Fundamental for Higher Ed</td>\n",
              "      <td>Azure Higher Ed</td>\n",
              "      <td>1.0</td>\n",
              "      <td>0.0</td>\n",
              "      <td>0.0</td>\n",
              "      <td>0.0</td>\n",
              "      <td>12.0</td>\n",
              "      <td>10.0</td>\n",
              "      <td>22.0</td>\n",
              "    </tr>\n",
              "    <tr>\n",
              "      <th>1</th>\n",
              "      <td>1</td>\n",
              "      <td>2021.0</td>\n",
              "      <td>1.0</td>\n",
              "      <td>0.0</td>\n",
              "      <td>0.0</td>\n",
              "      <td>2020-09-22</td>\n",
              "      <td>4.0</td>\n",
              "      <td>Designing Azure for Academic Infrastructure</td>\n",
              "      <td>Azure Higher Ed</td>\n",
              "      <td>1.0</td>\n",
              "      <td>0.0</td>\n",
              "      <td>0.0</td>\n",
              "      <td>0.0</td>\n",
              "      <td>22.0</td>\n",
              "      <td>31.0</td>\n",
              "      <td>53.0</td>\n",
              "    </tr>\n",
              "    <tr>\n",
              "      <th>2</th>\n",
              "      <td>2</td>\n",
              "      <td>2021.0</td>\n",
              "      <td>1.0</td>\n",
              "      <td>0.0</td>\n",
              "      <td>0.0</td>\n",
              "      <td>2020-09-28</td>\n",
              "      <td>4.0</td>\n",
              "      <td>Designing Virtual Labs with Azure</td>\n",
              "      <td>Azure Higher Ed</td>\n",
              "      <td>1.0</td>\n",
              "      <td>0.0</td>\n",
              "      <td>0.0</td>\n",
              "      <td>0.0</td>\n",
              "      <td>18.0</td>\n",
              "      <td>13.0</td>\n",
              "      <td>31.0</td>\n",
              "    </tr>\n",
              "    <tr>\n",
              "      <th>3</th>\n",
              "      <td>3</td>\n",
              "      <td>2021.0</td>\n",
              "      <td>1.0</td>\n",
              "      <td>0.0</td>\n",
              "      <td>0.0</td>\n",
              "      <td>2020-09-04</td>\n",
              "      <td>3.0</td>\n",
              "      <td>Creating A Virtual Classroom using Microsoft T...</td>\n",
              "      <td>GTP</td>\n",
              "      <td>1.0</td>\n",
              "      <td>0.0</td>\n",
              "      <td>0.0</td>\n",
              "      <td>0.0</td>\n",
              "      <td>96.0</td>\n",
              "      <td>0.0</td>\n",
              "      <td>96.0</td>\n",
              "    </tr>\n",
              "    <tr>\n",
              "      <th>4</th>\n",
              "      <td>4</td>\n",
              "      <td>2021.0</td>\n",
              "      <td>1.0</td>\n",
              "      <td>0.0</td>\n",
              "      <td>0.0</td>\n",
              "      <td>2020-09-28</td>\n",
              "      <td>6.0</td>\n",
              "      <td>Creating Smart Classroom with Microsoft 365</td>\n",
              "      <td>GTP</td>\n",
              "      <td>1.0</td>\n",
              "      <td>0.0</td>\n",
              "      <td>0.0</td>\n",
              "      <td>0.0</td>\n",
              "      <td>39.0</td>\n",
              "      <td>0.0</td>\n",
              "      <td>39.0</td>\n",
              "    </tr>\n",
              "  </tbody>\n",
              "</table>\n",
              "</div>"
            ],
            "text/plain": [
              "   Unnamed: 0  FiscalYear  ...  Non-GovernmentOfficial  TotalPeserta\n",
              "0           0      2021.0  ...                    10.0          22.0\n",
              "1           1      2021.0  ...                    31.0          53.0\n",
              "2           2      2021.0  ...                    13.0          31.0\n",
              "3           3      2021.0  ...                     0.0          96.0\n",
              "4           4      2021.0  ...                     0.0          39.0\n",
              "\n",
              "[5 rows x 16 columns]"
            ]
          },
          "metadata": {},
          "execution_count": 6
        }
      ]
    },
    {
      "cell_type": "code",
      "metadata": {
        "id": "EiO7Ji7Rm2Ai"
      },
      "source": [
        "X = fy21_cleaned_encoded['Durasi/Jam'] # Independent variable\n",
        "y = fy21_cleaned_encoded['TotalPeserta'] # dependent variable\n",
        "\n",
        "X_train, X_test, y_train, y_test = train_test_split(X,y,test_size=0.3,random_state=24)"
      ],
      "execution_count": null,
      "outputs": []
    },
    {
      "cell_type": "code",
      "metadata": {
        "colab": {
          "base_uri": "https://localhost:8080/"
        },
        "id": "o7i6UiRBm9sM",
        "outputId": "2ec2ef06-5242-4369-bb54-4b00e71143f8"
      },
      "source": [
        "import statsmodels.api as sm"
      ],
      "execution_count": null,
      "outputs": [
        {
          "output_type": "stream",
          "name": "stderr",
          "text": [
            "/usr/local/lib/python3.7/dist-packages/statsmodels/tools/_testing.py:19: FutureWarning: pandas.util.testing is deprecated. Use the functions in the public API at pandas.testing instead.\n",
            "  import pandas.util.testing as tm\n"
          ]
        }
      ]
    },
    {
      "cell_type": "code",
      "metadata": {
        "id": "FSm23iZ5nBYz"
      },
      "source": [
        "# Add a constant to get an intercept\n",
        "X_train_sm = sm.add_constant(X_train)\n",
        "\n",
        "# Fit the resgression line using 'OLS'\n",
        "lr = sm.OLS(y_train, X_train_sm).fit()"
      ],
      "execution_count": null,
      "outputs": []
    },
    {
      "cell_type": "code",
      "metadata": {
        "colab": {
          "base_uri": "https://localhost:8080/"
        },
        "id": "0bN-Gox4nC5q",
        "outputId": "f1658eab-f82f-4d35-ab84-ad1479bdf4f2"
      },
      "source": [
        "# Print the parameters, i.e. the intercept and the slope of the regression line fitted\n",
        "lr.params"
      ],
      "execution_count": null,
      "outputs": [
        {
          "output_type": "execute_result",
          "data": {
            "text/plain": [
              "const         33.744732\n",
              "Durasi/Jam    10.383880\n",
              "dtype: float64"
            ]
          },
          "metadata": {},
          "execution_count": 10
        }
      ]
    },
    {
      "cell_type": "code",
      "metadata": {
        "colab": {
          "base_uri": "https://localhost:8080/"
        },
        "id": "v7FPAhlMnEw1",
        "outputId": "46059071-fdfb-4073-85d7-ca0cf15e895c"
      },
      "source": [
        "# Performing a summary operation lists out all the different parameters of the regression line fitted\n",
        "print(lr.summary())"
      ],
      "execution_count": null,
      "outputs": [
        {
          "output_type": "stream",
          "name": "stdout",
          "text": [
            "                            OLS Regression Results                            \n",
            "==============================================================================\n",
            "Dep. Variable:           TotalPeserta   R-squared:                       0.021\n",
            "Model:                            OLS   Adj. R-squared:                  0.012\n",
            "Method:                 Least Squares   F-statistic:                     2.280\n",
            "Date:                Thu, 25 Nov 2021   Prob (F-statistic):              0.134\n",
            "Time:                        15:00:07   Log-Likelihood:                -592.35\n",
            "No. Observations:                 107   AIC:                             1189.\n",
            "Df Residuals:                     105   BIC:                             1194.\n",
            "Df Model:                           1                                         \n",
            "Covariance Type:            nonrobust                                         \n",
            "==============================================================================\n",
            "                 coef    std err          t      P>|t|      [0.025      0.975]\n",
            "------------------------------------------------------------------------------\n",
            "const         33.7447     17.359      1.944      0.055      -0.675      68.164\n",
            "Durasi/Jam    10.3839      6.877      1.510      0.134      -3.252      24.020\n",
            "==============================================================================\n",
            "Omnibus:                       52.155   Durbin-Watson:                   1.957\n",
            "Prob(Omnibus):                  0.000   Jarque-Bera (JB):              125.338\n",
            "Skew:                           1.945   Prob(JB):                     6.07e-28\n",
            "Kurtosis:                       6.603   Cond. No.                         8.34\n",
            "==============================================================================\n",
            "\n",
            "Warnings:\n",
            "[1] Standard Errors assume that the covariance matrix of the errors is correctly specified.\n"
          ]
        }
      ]
    },
    {
      "cell_type": "code",
      "metadata": {
        "id": "Z4WcWGGunGIR"
      },
      "source": [
        "y_train_pred = lr.predict(X_train_sm)\n",
        "res = (y_train - y_train_pred)"
      ],
      "execution_count": null,
      "outputs": []
    },
    {
      "cell_type": "code",
      "metadata": {
        "colab": {
          "base_uri": "https://localhost:8080/",
          "height": 369
        },
        "id": "XwcJ479JnOML",
        "outputId": "14ac41d1-c420-41ae-d40f-a84c3f542777"
      },
      "source": [
        "fig = plt.figure()\n",
        "sns.distplot(res, bins = 15)\n",
        "fig.suptitle('Error Terms', fontsize = 15)                  # Plot heading \n",
        "plt.xlabel('y_train - y_train_pred', fontsize = 15)         # X-label\n",
        "plt.show()"
      ],
      "execution_count": null,
      "outputs": [
        {
          "output_type": "stream",
          "name": "stderr",
          "text": [
            "/usr/local/lib/python3.7/dist-packages/seaborn/distributions.py:2619: FutureWarning: `distplot` is a deprecated function and will be removed in a future version. Please adapt your code to use either `displot` (a figure-level function with similar flexibility) or `histplot` (an axes-level function for histograms).\n",
            "  warnings.warn(msg, FutureWarning)\n"
          ]
        },
        {
          "output_type": "display_data",
          "data": {
            "image/png": "[encoded data removed]",
            "text/plain": [
              "<Figure size 432x288 with 1 Axes>"
            ]
          },
          "metadata": {
            "needs_background": "light"
          }
        }
      ]
    },
    {
      "cell_type": "code",
      "metadata": {
        "id": "JZ3fzYaAnPjB"
      },
      "source": [
        "# Add a constant to X_test\n",
        "X_test_sm = sm.add_constant(X_test)\n",
        "\n",
        "# Predict the y values corresponding to X_test_sm\n",
        "y_pred = lr.predict(X_test_sm)"
      ],
      "execution_count": null,
      "outputs": []
    },
    {
      "cell_type": "code",
      "metadata": {
        "colab": {
          "base_uri": "https://localhost:8080/"
        },
        "id": "uMLrIDr5nROE",
        "outputId": "480effd2-6ab4-4b78-c37b-87a0830b505c"
      },
      "source": [
        "y_pred.head()"
      ],
      "execution_count": null,
      "outputs": [
        {
          "output_type": "execute_result",
          "data": {
            "text/plain": [
              "48     54.512493\n",
              "57     54.512493\n",
              "19     64.896373\n",
              "125    54.512493\n",
              "110    54.512493\n",
              "dtype: float64"
            ]
          },
          "metadata": {},
          "execution_count": 15
        }
      ]
    },
    {
      "cell_type": "code",
      "metadata": {
        "id": "eRumbP5DnY2G"
      },
      "source": [
        "from sklearn.metrics import mean_squared_error\n",
        "from sklearn.metrics import r2_score"
      ],
      "execution_count": null,
      "outputs": []
    },
    {
      "cell_type": "code",
      "metadata": {
        "colab": {
          "base_uri": "https://localhost:8080/"
        },
        "id": "YlFkK6nNnTHt",
        "outputId": "80b8814d-e188-4a1a-9665-50214d331cd7"
      },
      "source": [
        "#Returns the mean squared error; we'll take a square root\n",
        "np.sqrt(mean_squared_error(y_test, y_pred))"
      ],
      "execution_count": null,
      "outputs": [
        {
          "output_type": "execute_result",
          "data": {
            "text/plain": [
              "83.38956666102314"
            ]
          },
          "metadata": {},
          "execution_count": 19
        }
      ]
    },
    {
      "cell_type": "code",
      "metadata": {
        "colab": {
          "base_uri": "https://localhost:8080/"
        },
        "id": "ummWf69nnWMa",
        "outputId": "474ab281-2934-424e-e40e-604b2f0a07f0"
      },
      "source": [
        "r_squared = r2_score(y_test, y_pred)\n",
        "r_squared"
      ],
      "execution_count": null,
      "outputs": [
        {
          "output_type": "execute_result",
          "data": {
            "text/plain": [
              "-0.38999654150748686"
            ]
          },
          "metadata": {},
          "execution_count": 18
        }
      ]
    },
    {
      "cell_type": "markdown",
      "metadata": {
        "id": "ZPvehULcnnRH"
      },
      "source": [
        "To conclude, the error rates are still off by a lot even when reducing the features to the only one with negative correlation to the dependent variable. \n",
        "\n",
        "Hence, the data is:\n",
        "- Not suitable for machine learning regression predictions, as variables does not have significant correlation; are not statistically significant \n",
        "- Lacks number in data (Only 154 entries roughly) which isn't enough for a good model to train itself\n",
        "\n",
        "What MariBelajar.org can do to solve this issue ✈\n",
        "- Increase the data acquisition, or bring other relevant data to the table\n",
        "- A different data science solution, such as not a machine learning / predictive analytics approach. **Instead, recommending: dashboarding, descriptive analytics, reporting, business intelligence insights**"
      ]
    },
    {
      "cell_type": "code",
      "metadata": {
        "id": "q1voWcIencOF"
      },
      "source": [
        ""
      ],
      "execution_count": null,
      "outputs": []
    }
  ]
}