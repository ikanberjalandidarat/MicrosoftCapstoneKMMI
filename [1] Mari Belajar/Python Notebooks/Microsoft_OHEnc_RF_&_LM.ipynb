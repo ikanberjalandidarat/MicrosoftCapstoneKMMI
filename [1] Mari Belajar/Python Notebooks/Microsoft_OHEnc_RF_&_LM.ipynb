{
  "nbformat": 4,
  "nbformat_minor": 0,
  "metadata": {
    "colab": {
      "name": "Microsoft - OHEnc - RF & LM.ipynb",
      "provenance": [],
      "collapsed_sections": []
    },
    "kernelspec": {
      "name": "python3",
      "display_name": "Python 3"
    },
    "language_info": {
      "name": "python"
    }
  },
  "cells": [
    {
      "cell_type": "markdown",
      "metadata": {
        "id": "WpOUVHuTfEL6"
      },
      "source": [
        "## Microsoft Capstone for MariBelajar.org\n",
        "**Subtheme: Education**\n",
        "\n",
        "Driver file 1 for FY21 ✈ \n",
        "- Contains encoded and cleaned FY21 data \n",
        "- Data columns are used from the feature selection and engineering \n",
        "- Data will then be used for **RF** models to process moving forward"
      ]
    },
    {
      "cell_type": "code",
      "metadata": {
        "colab": {
          "base_uri": "https://localhost:8080/"
        },
        "id": "VQN0YxCOdsnn",
        "outputId": "7b118005-b2c0-4192-df0a-01d7df622598"
      },
      "source": [
        "from google.colab import drive\n",
        "drive.mount('/content/drive')"
      ],
      "execution_count": null,
      "outputs": [
        {
          "output_type": "stream",
          "name": "stdout",
          "text": [
            "Mounted at /content/drive\n"
          ]
        }
      ]
    },
    {
      "cell_type": "code",
      "metadata": {
        "id": "DLSAgLwGdvv0"
      },
      "source": [
        "import numpy as np\n",
        "import pandas as pd\n",
        "import seaborn as sns\n",
        "import matplotlib.pyplot as plt\n",
        "%matplotlib inline"
      ],
      "execution_count": null,
      "outputs": []
    },
    {
      "cell_type": "code",
      "metadata": {
        "id": "9MNVagwidyWT"
      },
      "source": [
        "from sklearn.model_selection import train_test_split\n",
        "from sklearn.metrics import accuracy_score, confusion_matrix, classification_report"
      ],
      "execution_count": null,
      "outputs": []
    },
    {
      "cell_type": "code",
      "metadata": {
        "id": "lw4BfCkqhZF2"
      },
      "source": [
        "from sklearn import metrics\n",
        "from sklearn import preprocessing\n",
        "from sklearn.neighbors import KNeighborsRegressor\n",
        "from sklearn.ensemble import RandomForestRegressor\n",
        "from sklearn.model_selection import train_test_split"
      ],
      "execution_count": null,
      "outputs": []
    },
    {
      "cell_type": "code",
      "metadata": {
        "colab": {
          "base_uri": "https://localhost:8080/"
        },
        "id": "Ue78TKoqd1fa",
        "outputId": "08820164-c441-4a2e-accd-27109c4b141b"
      },
      "source": [
        "pip install category_encoders"
      ],
      "execution_count": null,
      "outputs": [
        {
          "output_type": "stream",
          "name": "stdout",
          "text": [
            "Collecting category_encoders\n",
            "  Downloading category_encoders-2.3.0-py2.py3-none-any.whl (82 kB)\n",
            "\u001b[?25l\r\u001b[K     |████                            | 10 kB 20.9 MB/s eta 0:00:01\r\u001b[K     |████████                        | 20 kB 26.5 MB/s eta 0:00:01\r\u001b[K     |████████████                    | 30 kB 12.3 MB/s eta 0:00:01\r\u001b[K     |████████████████                | 40 kB 9.3 MB/s eta 0:00:01\r\u001b[K     |████████████████████            | 51 kB 5.0 MB/s eta 0:00:01\r\u001b[K     |████████████████████████        | 61 kB 5.3 MB/s eta 0:00:01\r\u001b[K     |████████████████████████████    | 71 kB 5.7 MB/s eta 0:00:01\r\u001b[K     |███████████████████████████████▉| 81 kB 6.4 MB/s eta 0:00:01\r\u001b[K     |████████████████████████████████| 82 kB 327 kB/s \n",
            "\u001b[?25hRequirement already satisfied: pandas>=0.21.1 in /usr/local/lib/python3.7/dist-packages (from category_encoders) (1.1.5)\n",
            "Requirement already satisfied: scipy>=1.0.0 in /usr/local/lib/python3.7/dist-packages (from category_encoders) (1.4.1)\n",
            "Requirement already satisfied: patsy>=0.5.1 in /usr/local/lib/python3.7/dist-packages (from category_encoders) (0.5.2)\n",
            "Requirement already satisfied: statsmodels>=0.9.0 in /usr/local/lib/python3.7/dist-packages (from category_encoders) (0.10.2)\n",
            "Requirement already satisfied: numpy>=1.14.0 in /usr/local/lib/python3.7/dist-packages (from category_encoders) (1.19.5)\n",
            "Requirement already satisfied: scikit-learn>=0.20.0 in /usr/local/lib/python3.7/dist-packages (from category_encoders) (1.0.1)\n",
            "Requirement already satisfied: python-dateutil>=2.7.3 in /usr/local/lib/python3.7/dist-packages (from pandas>=0.21.1->category_encoders) (2.8.2)\n",
            "Requirement already satisfied: pytz>=2017.2 in /usr/local/lib/python3.7/dist-packages (from pandas>=0.21.1->category_encoders) (2018.9)\n",
            "Requirement already satisfied: six in /usr/local/lib/python3.7/dist-packages (from patsy>=0.5.1->category_encoders) (1.15.0)\n",
            "Requirement already satisfied: threadpoolctl>=2.0.0 in /usr/local/lib/python3.7/dist-packages (from scikit-learn>=0.20.0->category_encoders) (3.0.0)\n",
            "Requirement already satisfied: joblib>=0.11 in /usr/local/lib/python3.7/dist-packages (from scikit-learn>=0.20.0->category_encoders) (1.1.0)\n",
            "Installing collected packages: category-encoders\n",
            "Successfully installed category-encoders-2.3.0\n"
          ]
        }
      ]
    },
    {
      "cell_type": "code",
      "metadata": {
        "id": "ox-Um-H1dhaq"
      },
      "source": [
        "# Loading excel to dataframe\n",
        "fy21_cleaned_encoded = pd.read_excel('/content/drive/My Drive/MariBelajar/FY21_Encoded.xlsx')"
      ],
      "execution_count": null,
      "outputs": []
    },
    {
      "cell_type": "code",
      "metadata": {
        "colab": {
          "base_uri": "https://localhost:8080/"
        },
        "id": "jekSiz3rh4Mu",
        "outputId": "f454903a-ea4e-4a9e-f700-8154ea26d026"
      },
      "source": [
        "fy21_cleaned_encoded.shape"
      ],
      "execution_count": null,
      "outputs": [
        {
          "output_type": "execute_result",
          "data": {
            "text/plain": [
              "(308, 16)"
            ]
          },
          "metadata": {},
          "execution_count": 30
        }
      ]
    },
    {
      "cell_type": "code",
      "metadata": {
        "id": "YRcuJBC7iBDz"
      },
      "source": [
        "fy21_samp = fy21_cleaned_encoded[:154]\n",
        "fy21_samp.shape"
      ],
      "execution_count": null,
      "outputs": []
    },
    {
      "cell_type": "code",
      "metadata": {
        "id": "4oFo61lPiE43"
      },
      "source": [
        "fy21_cleaned_encoded = fy21_samp"
      ],
      "execution_count": null,
      "outputs": []
    },
    {
      "cell_type": "code",
      "metadata": {
        "colab": {
          "base_uri": "https://localhost:8080/",
          "height": 469
        },
        "id": "s4MvDXQfd4YS",
        "outputId": "59077ff5-35cf-4625-c0b5-fbf56e58f0c6"
      },
      "source": [
        "fy21_cleaned_encoded.head()"
      ],
      "execution_count": null,
      "outputs": [
        {
          "output_type": "execute_result",
          "data": {
            "text/html": [
              "<div>\n",
              "<style scoped>\n",
              "    .dataframe tbody tr th:only-of-type {\n",
              "        vertical-align: middle;\n",
              "    }\n",
              "\n",
              "    .dataframe tbody tr th {\n",
              "        vertical-align: top;\n",
              "    }\n",
              "\n",
              "    .dataframe thead th {\n",
              "        text-align: right;\n",
              "    }\n",
              "</style>\n",
              "<table border=\"1\" class=\"dataframe\">\n",
              "  <thead>\n",
              "    <tr style=\"text-align: right;\">\n",
              "      <th></th>\n",
              "      <th>Unnamed: 0</th>\n",
              "      <th>FiscalYear</th>\n",
              "      <th>Quarter_Q1</th>\n",
              "      <th>Quarter_Q2</th>\n",
              "      <th>Quarter_AY21</th>\n",
              "      <th>TanggalPelaksanaan</th>\n",
              "      <th>Durasi/Jam</th>\n",
              "      <th>NamaKegiatan</th>\n",
              "      <th>Program</th>\n",
              "      <th>Segmen_HE</th>\n",
              "      <th>Segmen_HEK12</th>\n",
              "      <th>Segmen_K12</th>\n",
              "      <th>Segmen_Corporate</th>\n",
              "      <th>GovernmentOfficial</th>\n",
              "      <th>Non-GovernmentOfficial</th>\n",
              "      <th>TotalPeserta</th>\n",
              "    </tr>\n",
              "  </thead>\n",
              "  <tbody>\n",
              "    <tr>\n",
              "      <th>0</th>\n",
              "      <td>0</td>\n",
              "      <td>2021.0</td>\n",
              "      <td>1.0</td>\n",
              "      <td>0.0</td>\n",
              "      <td>0.0</td>\n",
              "      <td>2020-09-15</td>\n",
              "      <td>4.0</td>\n",
              "      <td>Azure Fundamental for Higher Ed</td>\n",
              "      <td>Azure Higher Ed</td>\n",
              "      <td>1.0</td>\n",
              "      <td>0.0</td>\n",
              "      <td>0.0</td>\n",
              "      <td>0.0</td>\n",
              "      <td>12.0</td>\n",
              "      <td>10.0</td>\n",
              "      <td>22.0</td>\n",
              "    </tr>\n",
              "    <tr>\n",
              "      <th>1</th>\n",
              "      <td>1</td>\n",
              "      <td>2021.0</td>\n",
              "      <td>1.0</td>\n",
              "      <td>0.0</td>\n",
              "      <td>0.0</td>\n",
              "      <td>2020-09-22</td>\n",
              "      <td>4.0</td>\n",
              "      <td>Designing Azure for Academic Infrastructure</td>\n",
              "      <td>Azure Higher Ed</td>\n",
              "      <td>1.0</td>\n",
              "      <td>0.0</td>\n",
              "      <td>0.0</td>\n",
              "      <td>0.0</td>\n",
              "      <td>22.0</td>\n",
              "      <td>31.0</td>\n",
              "      <td>53.0</td>\n",
              "    </tr>\n",
              "    <tr>\n",
              "      <th>2</th>\n",
              "      <td>2</td>\n",
              "      <td>2021.0</td>\n",
              "      <td>1.0</td>\n",
              "      <td>0.0</td>\n",
              "      <td>0.0</td>\n",
              "      <td>2020-09-28</td>\n",
              "      <td>4.0</td>\n",
              "      <td>Designing Virtual Labs with Azure</td>\n",
              "      <td>Azure Higher Ed</td>\n",
              "      <td>1.0</td>\n",
              "      <td>0.0</td>\n",
              "      <td>0.0</td>\n",
              "      <td>0.0</td>\n",
              "      <td>18.0</td>\n",
              "      <td>13.0</td>\n",
              "      <td>31.0</td>\n",
              "    </tr>\n",
              "    <tr>\n",
              "      <th>3</th>\n",
              "      <td>3</td>\n",
              "      <td>2021.0</td>\n",
              "      <td>1.0</td>\n",
              "      <td>0.0</td>\n",
              "      <td>0.0</td>\n",
              "      <td>2020-09-04</td>\n",
              "      <td>3.0</td>\n",
              "      <td>Creating A Virtual Classroom using Microsoft T...</td>\n",
              "      <td>GTP</td>\n",
              "      <td>1.0</td>\n",
              "      <td>0.0</td>\n",
              "      <td>0.0</td>\n",
              "      <td>0.0</td>\n",
              "      <td>96.0</td>\n",
              "      <td>0.0</td>\n",
              "      <td>96.0</td>\n",
              "    </tr>\n",
              "    <tr>\n",
              "      <th>4</th>\n",
              "      <td>4</td>\n",
              "      <td>2021.0</td>\n",
              "      <td>1.0</td>\n",
              "      <td>0.0</td>\n",
              "      <td>0.0</td>\n",
              "      <td>2020-09-28</td>\n",
              "      <td>6.0</td>\n",
              "      <td>Creating Smart Classroom with Microsoft 365</td>\n",
              "      <td>GTP</td>\n",
              "      <td>1.0</td>\n",
              "      <td>0.0</td>\n",
              "      <td>0.0</td>\n",
              "      <td>0.0</td>\n",
              "      <td>39.0</td>\n",
              "      <td>0.0</td>\n",
              "      <td>39.0</td>\n",
              "    </tr>\n",
              "  </tbody>\n",
              "</table>\n",
              "</div>"
            ],
            "text/plain": [
              "   Unnamed: 0  FiscalYear  ...  Non-GovernmentOfficial  TotalPeserta\n",
              "0           0      2021.0  ...                    10.0          22.0\n",
              "1           1      2021.0  ...                    31.0          53.0\n",
              "2           2      2021.0  ...                    13.0          31.0\n",
              "3           3      2021.0  ...                     0.0          96.0\n",
              "4           4      2021.0  ...                     0.0          39.0\n",
              "\n",
              "[5 rows x 16 columns]"
            ]
          },
          "metadata": {},
          "execution_count": 34
        }
      ]
    },
    {
      "cell_type": "markdown",
      "metadata": {
        "id": "TwsIj84mgTD4"
      },
      "source": [
        "## Choosing which features for the prediction"
      ]
    },
    {
      "cell_type": "markdown",
      "metadata": {
        "id": "5pNB76wfgVbl"
      },
      "source": [
        "Manually without any feature selection algorithms:"
      ]
    },
    {
      "cell_type": "code",
      "metadata": {
        "id": "HLbUDg_Ef769"
      },
      "source": [
        "X = fy21_cleaned_encoded.drop(labels=['Unnamed: 0', 'TotalPeserta','NamaKegiatan','Program','TanggalPelaksanaan','FiscalYear','GovernmentOfficial','Non-GovernmentOfficial'],axis=1) # Independent variable\n",
        "y = fy21_cleaned_encoded['TotalPeserta'] # dependent variable\n",
        "\n",
        "X_train, X_test, y_train, y_test = train_test_split(X,y,test_size=0.3,random_state=24)"
      ],
      "execution_count": null,
      "outputs": []
    },
    {
      "cell_type": "code",
      "metadata": {
        "colab": {
          "base_uri": "https://localhost:8080/",
          "height": 206
        },
        "id": "p1SlLC7ofBIQ",
        "outputId": "d2c77cea-f301-469a-aba1-5e723661d65a"
      },
      "source": [
        "X.head()"
      ],
      "execution_count": null,
      "outputs": [
        {
          "output_type": "execute_result",
          "data": {
            "text/html": [
              "<div>\n",
              "<style scoped>\n",
              "    .dataframe tbody tr th:only-of-type {\n",
              "        vertical-align: middle;\n",
              "    }\n",
              "\n",
              "    .dataframe tbody tr th {\n",
              "        vertical-align: top;\n",
              "    }\n",
              "\n",
              "    .dataframe thead th {\n",
              "        text-align: right;\n",
              "    }\n",
              "</style>\n",
              "<table border=\"1\" class=\"dataframe\">\n",
              "  <thead>\n",
              "    <tr style=\"text-align: right;\">\n",
              "      <th></th>\n",
              "      <th>Quarter_Q1</th>\n",
              "      <th>Quarter_Q2</th>\n",
              "      <th>Quarter_AY21</th>\n",
              "      <th>Durasi/Jam</th>\n",
              "      <th>Segmen_HE</th>\n",
              "      <th>Segmen_HEK12</th>\n",
              "      <th>Segmen_K12</th>\n",
              "      <th>Segmen_Corporate</th>\n",
              "    </tr>\n",
              "  </thead>\n",
              "  <tbody>\n",
              "    <tr>\n",
              "      <th>0</th>\n",
              "      <td>1.0</td>\n",
              "      <td>0.0</td>\n",
              "      <td>0.0</td>\n",
              "      <td>4.0</td>\n",
              "      <td>1.0</td>\n",
              "      <td>0.0</td>\n",
              "      <td>0.0</td>\n",
              "      <td>0.0</td>\n",
              "    </tr>\n",
              "    <tr>\n",
              "      <th>1</th>\n",
              "      <td>1.0</td>\n",
              "      <td>0.0</td>\n",
              "      <td>0.0</td>\n",
              "      <td>4.0</td>\n",
              "      <td>1.0</td>\n",
              "      <td>0.0</td>\n",
              "      <td>0.0</td>\n",
              "      <td>0.0</td>\n",
              "    </tr>\n",
              "    <tr>\n",
              "      <th>2</th>\n",
              "      <td>1.0</td>\n",
              "      <td>0.0</td>\n",
              "      <td>0.0</td>\n",
              "      <td>4.0</td>\n",
              "      <td>1.0</td>\n",
              "      <td>0.0</td>\n",
              "      <td>0.0</td>\n",
              "      <td>0.0</td>\n",
              "    </tr>\n",
              "    <tr>\n",
              "      <th>3</th>\n",
              "      <td>1.0</td>\n",
              "      <td>0.0</td>\n",
              "      <td>0.0</td>\n",
              "      <td>3.0</td>\n",
              "      <td>1.0</td>\n",
              "      <td>0.0</td>\n",
              "      <td>0.0</td>\n",
              "      <td>0.0</td>\n",
              "    </tr>\n",
              "    <tr>\n",
              "      <th>4</th>\n",
              "      <td>1.0</td>\n",
              "      <td>0.0</td>\n",
              "      <td>0.0</td>\n",
              "      <td>6.0</td>\n",
              "      <td>1.0</td>\n",
              "      <td>0.0</td>\n",
              "      <td>0.0</td>\n",
              "      <td>0.0</td>\n",
              "    </tr>\n",
              "  </tbody>\n",
              "</table>\n",
              "</div>"
            ],
            "text/plain": [
              "   Quarter_Q1  Quarter_Q2  ...  Segmen_K12  Segmen_Corporate\n",
              "0         1.0         0.0  ...         0.0               0.0\n",
              "1         1.0         0.0  ...         0.0               0.0\n",
              "2         1.0         0.0  ...         0.0               0.0\n",
              "3         1.0         0.0  ...         0.0               0.0\n",
              "4         1.0         0.0  ...         0.0               0.0\n",
              "\n",
              "[5 rows x 8 columns]"
            ]
          },
          "metadata": {},
          "execution_count": 36
        }
      ]
    },
    {
      "cell_type": "code",
      "metadata": {
        "colab": {
          "base_uri": "https://localhost:8080/"
        },
        "id": "u57j5K1RgOYI",
        "outputId": "ea905d16-4bc5-4f1c-e1e6-ff6081c19f7a"
      },
      "source": [
        "y.head()"
      ],
      "execution_count": null,
      "outputs": [
        {
          "output_type": "execute_result",
          "data": {
            "text/plain": [
              "0    22.0\n",
              "1    53.0\n",
              "2    31.0\n",
              "3    96.0\n",
              "4    39.0\n",
              "Name: TotalPeserta, dtype: float64"
            ]
          },
          "metadata": {},
          "execution_count": 37
        }
      ]
    },
    {
      "cell_type": "code",
      "metadata": {
        "colab": {
          "base_uri": "https://localhost:8080/"
        },
        "id": "u_h6bc-4gRC_",
        "outputId": "7ebfef1a-7159-44a8-beed-e114629b9099"
      },
      "source": [
        "X.dtypes.sample()"
      ],
      "execution_count": null,
      "outputs": [
        {
          "output_type": "execute_result",
          "data": {
            "text/plain": [
              "Segmen_Corporate    float64\n",
              "dtype: object"
            ]
          },
          "metadata": {},
          "execution_count": 38
        }
      ]
    },
    {
      "cell_type": "code",
      "metadata": {
        "colab": {
          "base_uri": "https://localhost:8080/",
          "height": 424
        },
        "id": "p3Z5HVNwhw-Q",
        "outputId": "7f66ac38-7743-4b54-862b-99721a20d71d"
      },
      "source": [
        "np.isnan(X)"
      ],
      "execution_count": null,
      "outputs": [
        {
          "output_type": "execute_result",
          "data": {
            "text/html": [
              "<div>\n",
              "<style scoped>\n",
              "    .dataframe tbody tr th:only-of-type {\n",
              "        vertical-align: middle;\n",
              "    }\n",
              "\n",
              "    .dataframe tbody tr th {\n",
              "        vertical-align: top;\n",
              "    }\n",
              "\n",
              "    .dataframe thead th {\n",
              "        text-align: right;\n",
              "    }\n",
              "</style>\n",
              "<table border=\"1\" class=\"dataframe\">\n",
              "  <thead>\n",
              "    <tr style=\"text-align: right;\">\n",
              "      <th></th>\n",
              "      <th>Quarter_Q1</th>\n",
              "      <th>Quarter_Q2</th>\n",
              "      <th>Quarter_AY21</th>\n",
              "      <th>Durasi/Jam</th>\n",
              "      <th>Segmen_HE</th>\n",
              "      <th>Segmen_HEK12</th>\n",
              "      <th>Segmen_K12</th>\n",
              "      <th>Segmen_Corporate</th>\n",
              "    </tr>\n",
              "  </thead>\n",
              "  <tbody>\n",
              "    <tr>\n",
              "      <th>0</th>\n",
              "      <td>False</td>\n",
              "      <td>False</td>\n",
              "      <td>False</td>\n",
              "      <td>False</td>\n",
              "      <td>False</td>\n",
              "      <td>False</td>\n",
              "      <td>False</td>\n",
              "      <td>False</td>\n",
              "    </tr>\n",
              "    <tr>\n",
              "      <th>1</th>\n",
              "      <td>False</td>\n",
              "      <td>False</td>\n",
              "      <td>False</td>\n",
              "      <td>False</td>\n",
              "      <td>False</td>\n",
              "      <td>False</td>\n",
              "      <td>False</td>\n",
              "      <td>False</td>\n",
              "    </tr>\n",
              "    <tr>\n",
              "      <th>2</th>\n",
              "      <td>False</td>\n",
              "      <td>False</td>\n",
              "      <td>False</td>\n",
              "      <td>False</td>\n",
              "      <td>False</td>\n",
              "      <td>False</td>\n",
              "      <td>False</td>\n",
              "      <td>False</td>\n",
              "    </tr>\n",
              "    <tr>\n",
              "      <th>3</th>\n",
              "      <td>False</td>\n",
              "      <td>False</td>\n",
              "      <td>False</td>\n",
              "      <td>False</td>\n",
              "      <td>False</td>\n",
              "      <td>False</td>\n",
              "      <td>False</td>\n",
              "      <td>False</td>\n",
              "    </tr>\n",
              "    <tr>\n",
              "      <th>4</th>\n",
              "      <td>False</td>\n",
              "      <td>False</td>\n",
              "      <td>False</td>\n",
              "      <td>False</td>\n",
              "      <td>False</td>\n",
              "      <td>False</td>\n",
              "      <td>False</td>\n",
              "      <td>False</td>\n",
              "    </tr>\n",
              "    <tr>\n",
              "      <th>...</th>\n",
              "      <td>...</td>\n",
              "      <td>...</td>\n",
              "      <td>...</td>\n",
              "      <td>...</td>\n",
              "      <td>...</td>\n",
              "      <td>...</td>\n",
              "      <td>...</td>\n",
              "      <td>...</td>\n",
              "    </tr>\n",
              "    <tr>\n",
              "      <th>149</th>\n",
              "      <td>False</td>\n",
              "      <td>False</td>\n",
              "      <td>False</td>\n",
              "      <td>False</td>\n",
              "      <td>False</td>\n",
              "      <td>False</td>\n",
              "      <td>False</td>\n",
              "      <td>False</td>\n",
              "    </tr>\n",
              "    <tr>\n",
              "      <th>150</th>\n",
              "      <td>False</td>\n",
              "      <td>False</td>\n",
              "      <td>False</td>\n",
              "      <td>False</td>\n",
              "      <td>False</td>\n",
              "      <td>False</td>\n",
              "      <td>False</td>\n",
              "      <td>False</td>\n",
              "    </tr>\n",
              "    <tr>\n",
              "      <th>151</th>\n",
              "      <td>False</td>\n",
              "      <td>False</td>\n",
              "      <td>False</td>\n",
              "      <td>False</td>\n",
              "      <td>False</td>\n",
              "      <td>False</td>\n",
              "      <td>False</td>\n",
              "      <td>False</td>\n",
              "    </tr>\n",
              "    <tr>\n",
              "      <th>152</th>\n",
              "      <td>False</td>\n",
              "      <td>False</td>\n",
              "      <td>False</td>\n",
              "      <td>False</td>\n",
              "      <td>False</td>\n",
              "      <td>False</td>\n",
              "      <td>False</td>\n",
              "      <td>False</td>\n",
              "    </tr>\n",
              "    <tr>\n",
              "      <th>153</th>\n",
              "      <td>False</td>\n",
              "      <td>False</td>\n",
              "      <td>False</td>\n",
              "      <td>False</td>\n",
              "      <td>False</td>\n",
              "      <td>False</td>\n",
              "      <td>False</td>\n",
              "      <td>False</td>\n",
              "    </tr>\n",
              "  </tbody>\n",
              "</table>\n",
              "<p>154 rows × 8 columns</p>\n",
              "</div>"
            ],
            "text/plain": [
              "     Quarter_Q1  Quarter_Q2  ...  Segmen_K12  Segmen_Corporate\n",
              "0         False       False  ...       False             False\n",
              "1         False       False  ...       False             False\n",
              "2         False       False  ...       False             False\n",
              "3         False       False  ...       False             False\n",
              "4         False       False  ...       False             False\n",
              "..          ...         ...  ...         ...               ...\n",
              "149       False       False  ...       False             False\n",
              "150       False       False  ...       False             False\n",
              "151       False       False  ...       False             False\n",
              "152       False       False  ...       False             False\n",
              "153       False       False  ...       False             False\n",
              "\n",
              "[154 rows x 8 columns]"
            ]
          },
          "metadata": {},
          "execution_count": 39
        }
      ]
    },
    {
      "cell_type": "markdown",
      "metadata": {
        "id": "UIcxyUFYin2Z"
      },
      "source": [
        "Using Random Forest:"
      ]
    },
    {
      "cell_type": "code",
      "metadata": {
        "colab": {
          "base_uri": "https://localhost:8080/",
          "height": 350
        },
        "id": "kwx1OJORgzMg",
        "outputId": "36d7d741-0416-4655-a1d4-c28018c27ffd"
      },
      "source": [
        "model = RandomForestRegressor(n_jobs=-1)\n",
        "\n",
        "# Try different numbers of n_estimators - this will take a minute or so\n",
        "estimators = np.arange(10, 450, 10)\n",
        "scores = []\n",
        "for n in estimators:\n",
        "    model.set_params(n_estimators=n)\n",
        "    model.fit(X_train, y_train)\n",
        "    scores.append(model.score(X_test, y_test))\n",
        "plt.figure(figsize=(7, 5))\n",
        "plt.title(\"Effect of Estimators\")\n",
        "plt.xlabel(\"no. estimator\")\n",
        "plt.ylabel(\"score\")\n",
        "plt.plot(estimators, scores)\n",
        "results = list(zip(estimators,scores))\n"
      ],
      "execution_count": null,
      "outputs": [
        {
          "output_type": "display_data",
          "data": {
            "image/png": "[encoded data removed]",
            "text/plain": [
              "<Figure size 504x360 with 1 Axes>"
            ]
          },
          "metadata": {
            "needs_background": "light"
          }
        }
      ]
    },
    {
      "cell_type": "code",
      "metadata": {
        "colab": {
          "base_uri": "https://localhost:8080/",
          "height": 1000
        },
        "id": "x96lE58xhWgA",
        "outputId": "d97893d8-1e12-4c32-9da2-555736be5acb"
      },
      "source": [
        "predictions = model.predict(X_test)\n",
        "'Mean Absolute Error:', metrics.mean_absolute_error(y_test, predictions)\n",
        "\n",
        "'Mean Squared Error:', metrics.mean_squared_error(y_test, predictions)\n",
        "\n",
        "'Root Mean Squared Error:', np.sqrt(metrics.mean_squared_error(y_test, predictions))\n",
        "\n",
        "\n",
        "model = RandomForestRegressor(n_estimators=10, \n",
        "                               bootstrap = True)\n",
        "# Fit on training data\n",
        "model.fit(X_train, y_train)\n",
        "\n",
        "# Actual class predictions\n",
        "rf_predictions = model.predict(X_test)\n",
        "\n",
        "comparison_fy21= y_test.to_frame()\n",
        "comparison_fy21.columns = ['Actual_Participants']\n",
        "comparison_fy21['Predicted_Participants'] = rf_predictions\n",
        "comparison_fy21\n"
      ],
      "execution_count": null,
      "outputs": [
        {
          "output_type": "execute_result",
          "data": {
            "text/html": [
              "<div>\n",
              "<style scoped>\n",
              "    .dataframe tbody tr th:only-of-type {\n",
              "        vertical-align: middle;\n",
              "    }\n",
              "\n",
              "    .dataframe tbody tr th {\n",
              "        vertical-align: top;\n",
              "    }\n",
              "\n",
              "    .dataframe thead th {\n",
              "        text-align: right;\n",
              "    }\n",
              "</style>\n",
              "<table border=\"1\" class=\"dataframe\">\n",
              "  <thead>\n",
              "    <tr style=\"text-align: right;\">\n",
              "      <th></th>\n",
              "      <th>Actual_Participants</th>\n",
              "      <th>Predicted_Participants</th>\n",
              "    </tr>\n",
              "  </thead>\n",
              "  <tbody>\n",
              "    <tr>\n",
              "      <th>48</th>\n",
              "      <td>33.0</td>\n",
              "      <td>90.061896</td>\n",
              "    </tr>\n",
              "    <tr>\n",
              "      <th>57</th>\n",
              "      <td>127.0</td>\n",
              "      <td>90.061896</td>\n",
              "    </tr>\n",
              "    <tr>\n",
              "      <th>19</th>\n",
              "      <td>87.0</td>\n",
              "      <td>34.560224</td>\n",
              "    </tr>\n",
              "    <tr>\n",
              "      <th>125</th>\n",
              "      <td>80.0</td>\n",
              "      <td>44.460989</td>\n",
              "    </tr>\n",
              "    <tr>\n",
              "      <th>110</th>\n",
              "      <td>5.0</td>\n",
              "      <td>87.602974</td>\n",
              "    </tr>\n",
              "    <tr>\n",
              "      <th>11</th>\n",
              "      <td>43.0</td>\n",
              "      <td>48.294444</td>\n",
              "    </tr>\n",
              "    <tr>\n",
              "      <th>26</th>\n",
              "      <td>47.0</td>\n",
              "      <td>34.560224</td>\n",
              "    </tr>\n",
              "    <tr>\n",
              "      <th>49</th>\n",
              "      <td>23.0</td>\n",
              "      <td>90.061896</td>\n",
              "    </tr>\n",
              "    <tr>\n",
              "      <th>30</th>\n",
              "      <td>67.0</td>\n",
              "      <td>34.560224</td>\n",
              "    </tr>\n",
              "    <tr>\n",
              "      <th>99</th>\n",
              "      <td>439.0</td>\n",
              "      <td>137.382143</td>\n",
              "    </tr>\n",
              "    <tr>\n",
              "      <th>31</th>\n",
              "      <td>55.0</td>\n",
              "      <td>34.560224</td>\n",
              "    </tr>\n",
              "    <tr>\n",
              "      <th>58</th>\n",
              "      <td>116.0</td>\n",
              "      <td>90.061896</td>\n",
              "    </tr>\n",
              "    <tr>\n",
              "      <th>136</th>\n",
              "      <td>87.0</td>\n",
              "      <td>64.456131</td>\n",
              "    </tr>\n",
              "    <tr>\n",
              "      <th>116</th>\n",
              "      <td>74.0</td>\n",
              "      <td>44.460989</td>\n",
              "    </tr>\n",
              "    <tr>\n",
              "      <th>104</th>\n",
              "      <td>153.0</td>\n",
              "      <td>64.456131</td>\n",
              "    </tr>\n",
              "    <tr>\n",
              "      <th>14</th>\n",
              "      <td>56.0</td>\n",
              "      <td>34.560224</td>\n",
              "    </tr>\n",
              "    <tr>\n",
              "      <th>78</th>\n",
              "      <td>3.0</td>\n",
              "      <td>15.496430</td>\n",
              "    </tr>\n",
              "    <tr>\n",
              "      <th>29</th>\n",
              "      <td>36.0</td>\n",
              "      <td>34.560224</td>\n",
              "    </tr>\n",
              "    <tr>\n",
              "      <th>59</th>\n",
              "      <td>21.0</td>\n",
              "      <td>25.484167</td>\n",
              "    </tr>\n",
              "    <tr>\n",
              "      <th>109</th>\n",
              "      <td>4.0</td>\n",
              "      <td>225.290000</td>\n",
              "    </tr>\n",
              "    <tr>\n",
              "      <th>92</th>\n",
              "      <td>53.0</td>\n",
              "      <td>137.382143</td>\n",
              "    </tr>\n",
              "    <tr>\n",
              "      <th>117</th>\n",
              "      <td>31.0</td>\n",
              "      <td>44.460989</td>\n",
              "    </tr>\n",
              "    <tr>\n",
              "      <th>150</th>\n",
              "      <td>25.0</td>\n",
              "      <td>64.456131</td>\n",
              "    </tr>\n",
              "    <tr>\n",
              "      <th>113</th>\n",
              "      <td>7.0</td>\n",
              "      <td>144.183333</td>\n",
              "    </tr>\n",
              "    <tr>\n",
              "      <th>53</th>\n",
              "      <td>19.0</td>\n",
              "      <td>90.061896</td>\n",
              "    </tr>\n",
              "    <tr>\n",
              "      <th>140</th>\n",
              "      <td>35.0</td>\n",
              "      <td>64.456131</td>\n",
              "    </tr>\n",
              "    <tr>\n",
              "      <th>1</th>\n",
              "      <td>53.0</td>\n",
              "      <td>41.900000</td>\n",
              "    </tr>\n",
              "    <tr>\n",
              "      <th>153</th>\n",
              "      <td>3.0</td>\n",
              "      <td>49.892689</td>\n",
              "    </tr>\n",
              "    <tr>\n",
              "      <th>81</th>\n",
              "      <td>46.0</td>\n",
              "      <td>15.496430</td>\n",
              "    </tr>\n",
              "    <tr>\n",
              "      <th>51</th>\n",
              "      <td>51.0</td>\n",
              "      <td>90.061896</td>\n",
              "    </tr>\n",
              "    <tr>\n",
              "      <th>114</th>\n",
              "      <td>4.0</td>\n",
              "      <td>225.290000</td>\n",
              "    </tr>\n",
              "    <tr>\n",
              "      <th>77</th>\n",
              "      <td>8.0</td>\n",
              "      <td>15.496430</td>\n",
              "    </tr>\n",
              "    <tr>\n",
              "      <th>17</th>\n",
              "      <td>8.0</td>\n",
              "      <td>34.560224</td>\n",
              "    </tr>\n",
              "    <tr>\n",
              "      <th>79</th>\n",
              "      <td>46.0</td>\n",
              "      <td>15.496430</td>\n",
              "    </tr>\n",
              "    <tr>\n",
              "      <th>95</th>\n",
              "      <td>226.0</td>\n",
              "      <td>137.382143</td>\n",
              "    </tr>\n",
              "    <tr>\n",
              "      <th>91</th>\n",
              "      <td>65.0</td>\n",
              "      <td>137.382143</td>\n",
              "    </tr>\n",
              "    <tr>\n",
              "      <th>141</th>\n",
              "      <td>15.0</td>\n",
              "      <td>64.456131</td>\n",
              "    </tr>\n",
              "    <tr>\n",
              "      <th>126</th>\n",
              "      <td>39.0</td>\n",
              "      <td>44.460989</td>\n",
              "    </tr>\n",
              "    <tr>\n",
              "      <th>9</th>\n",
              "      <td>45.0</td>\n",
              "      <td>48.294444</td>\n",
              "    </tr>\n",
              "    <tr>\n",
              "      <th>152</th>\n",
              "      <td>15.0</td>\n",
              "      <td>49.892689</td>\n",
              "    </tr>\n",
              "    <tr>\n",
              "      <th>61</th>\n",
              "      <td>11.0</td>\n",
              "      <td>25.484167</td>\n",
              "    </tr>\n",
              "    <tr>\n",
              "      <th>108</th>\n",
              "      <td>63.0</td>\n",
              "      <td>28.730000</td>\n",
              "    </tr>\n",
              "    <tr>\n",
              "      <th>112</th>\n",
              "      <td>7.0</td>\n",
              "      <td>34.560224</td>\n",
              "    </tr>\n",
              "    <tr>\n",
              "      <th>22</th>\n",
              "      <td>35.0</td>\n",
              "      <td>80.800000</td>\n",
              "    </tr>\n",
              "    <tr>\n",
              "      <th>15</th>\n",
              "      <td>39.0</td>\n",
              "      <td>34.560224</td>\n",
              "    </tr>\n",
              "    <tr>\n",
              "      <th>20</th>\n",
              "      <td>41.0</td>\n",
              "      <td>34.560224</td>\n",
              "    </tr>\n",
              "    <tr>\n",
              "      <th>88</th>\n",
              "      <td>16.0</td>\n",
              "      <td>15.496430</td>\n",
              "    </tr>\n",
              "  </tbody>\n",
              "</table>\n",
              "</div>"
            ],
            "text/plain": [
              "     Actual_Participants  Predicted_Participants\n",
              "48                  33.0               90.061896\n",
              "57                 127.0               90.061896\n",
              "19                  87.0               34.560224\n",
              "125                 80.0               44.460989\n",
              "110                  5.0               87.602974\n",
              "11                  43.0               48.294444\n",
              "26                  47.0               34.560224\n",
              "49                  23.0               90.061896\n",
              "30                  67.0               34.560224\n",
              "99                 439.0              137.382143\n",
              "31                  55.0               34.560224\n",
              "58                 116.0               90.061896\n",
              "136                 87.0               64.456131\n",
              "116                 74.0               44.460989\n",
              "104                153.0               64.456131\n",
              "14                  56.0               34.560224\n",
              "78                   3.0               15.496430\n",
              "29                  36.0               34.560224\n",
              "59                  21.0               25.484167\n",
              "109                  4.0              225.290000\n",
              "92                  53.0              137.382143\n",
              "117                 31.0               44.460989\n",
              "150                 25.0               64.456131\n",
              "113                  7.0              144.183333\n",
              "53                  19.0               90.061896\n",
              "140                 35.0               64.456131\n",
              "1                   53.0               41.900000\n",
              "153                  3.0               49.892689\n",
              "81                  46.0               15.496430\n",
              "51                  51.0               90.061896\n",
              "114                  4.0              225.290000\n",
              "77                   8.0               15.496430\n",
              "17                   8.0               34.560224\n",
              "79                  46.0               15.496430\n",
              "95                 226.0              137.382143\n",
              "91                  65.0              137.382143\n",
              "141                 15.0               64.456131\n",
              "126                 39.0               44.460989\n",
              "9                   45.0               48.294444\n",
              "152                 15.0               49.892689\n",
              "61                  11.0               25.484167\n",
              "108                 63.0               28.730000\n",
              "112                  7.0               34.560224\n",
              "22                  35.0               80.800000\n",
              "15                  39.0               34.560224\n",
              "20                  41.0               34.560224\n",
              "88                  16.0               15.496430"
            ]
          },
          "metadata": {},
          "execution_count": 58
        }
      ]
    },
    {
      "cell_type": "markdown",
      "metadata": {
        "id": "zvD5_sjUiq38"
      },
      "source": [
        "Using a Linear Model:"
      ]
    },
    {
      "cell_type": "code",
      "metadata": {
        "colab": {
          "base_uri": "https://localhost:8080/"
        },
        "id": "UnAGUDSpicF0",
        "outputId": "7bd82f90-d411-4e73-df46-e7bff5e3dbe4"
      },
      "source": [
        "import statsmodels.api as sm"
      ],
      "execution_count": null,
      "outputs": [
        {
          "output_type": "stream",
          "name": "stderr",
          "text": [
            "/usr/local/lib/python3.7/dist-packages/statsmodels/tools/_testing.py:19: FutureWarning: pandas.util.testing is deprecated. Use the functions in the public API at pandas.testing instead.\n",
            "  import pandas.util.testing as tm\n"
          ]
        }
      ]
    },
    {
      "cell_type": "code",
      "metadata": {
        "id": "IvXkv6fbivEI"
      },
      "source": [
        "# Add a constant to get an intercept\n",
        "X_train_sm = sm.add_constant(X_train)\n",
        "\n",
        "# Fit the resgression line using 'OLS'\n",
        "lr = sm.OLS(y_train, X_train_sm).fit()"
      ],
      "execution_count": null,
      "outputs": []
    },
    {
      "cell_type": "code",
      "metadata": {
        "colab": {
          "base_uri": "https://localhost:8080/"
        },
        "id": "LvaHeBa-i1UC",
        "outputId": "86b2c712-c4bd-4d9e-b1ad-5b17b025dfb4"
      },
      "source": [
        "# Print the parameters, i.e. the intercept and the slope of the regression line fitted\n",
        "lr.params"
      ],
      "execution_count": null,
      "outputs": [
        {
          "output_type": "execute_result",
          "data": {
            "text/plain": [
              "const               28.219349\n",
              "Quarter_Q1          11.132096\n",
              "Quarter_Q2          -0.559574\n",
              "Quarter_AY21        17.646827\n",
              "Durasi/Jam           5.349697\n",
              "Segmen_HE            8.427553\n",
              "Segmen_HEK12         5.194755\n",
              "Segmen_K12          14.597041\n",
              "Segmen_Corporate     0.000000\n",
              "dtype: float64"
            ]
          },
          "metadata": {},
          "execution_count": 45
        }
      ]
    },
    {
      "cell_type": "code",
      "metadata": {
        "colab": {
          "base_uri": "https://localhost:8080/"
        },
        "id": "lgktG9fui134",
        "outputId": "445d5019-0dee-444a-e357-4374dac8c6b3"
      },
      "source": [
        "# Performing a summary operation lists out all the different parameters of the regression line fitted\n",
        "print(lr.summary())"
      ],
      "execution_count": null,
      "outputs": [
        {
          "output_type": "stream",
          "name": "stdout",
          "text": [
            "                            OLS Regression Results                            \n",
            "==============================================================================\n",
            "Dep. Variable:           TotalPeserta   R-squared:                       0.043\n",
            "Model:                            OLS   Adj. R-squared:                 -0.005\n",
            "Method:                 Least Squares   F-statistic:                    0.8969\n",
            "Date:                Thu, 25 Nov 2021   Prob (F-statistic):              0.486\n",
            "Time:                        14:41:46   Log-Likelihood:                -591.17\n",
            "No. Observations:                 107   AIC:                             1194.\n",
            "Df Residuals:                     101   BIC:                             1210.\n",
            "Df Model:                           5                                         \n",
            "Covariance Type:            nonrobust                                         \n",
            "====================================================================================\n",
            "                       coef    std err          t      P>|t|      [0.025      0.975]\n",
            "------------------------------------------------------------------------------------\n",
            "const               28.2193     14.529      1.942      0.055      -0.603      57.042\n",
            "Quarter_Q1          11.1321     17.947      0.620      0.536     -24.470      46.734\n",
            "Quarter_Q2          -0.5596      8.842     -0.063      0.950     -18.100      16.981\n",
            "Quarter_AY21        17.6468     10.206      1.729      0.087      -2.599      37.892\n",
            "Durasi/Jam           5.3497      9.196      0.582      0.562     -12.892      23.591\n",
            "Segmen_HE            8.4276     11.451      0.736      0.463     -14.288      31.143\n",
            "Segmen_HEK12         5.1948     10.355      0.502      0.617     -15.346      25.736\n",
            "Segmen_K12          14.5970     12.472      1.170      0.245     -10.143      39.337\n",
            "Segmen_Corporate          0          0        nan        nan           0           0\n",
            "==============================================================================\n",
            "Omnibus:                       51.580   Durbin-Watson:                   1.924\n",
            "Prob(Omnibus):                  0.000   Jarque-Bera (JB):              123.377\n",
            "Skew:                           1.922   Prob(JB):                     1.62e-27\n",
            "Kurtosis:                       6.592   Cond. No.                          inf\n",
            "==============================================================================\n",
            "\n",
            "Warnings:\n",
            "[1] Standard Errors assume that the covariance matrix of the errors is correctly specified.\n",
            "[2] The smallest eigenvalue is      0. This might indicate that there are\n",
            "strong multicollinearity problems or that the design matrix is singular.\n"
          ]
        },
        {
          "output_type": "stream",
          "name": "stderr",
          "text": [
            "/usr/local/lib/python3.7/dist-packages/statsmodels/regression/linear_model.py:1755: RuntimeWarning: divide by zero encountered in double_scalars\n",
            "  return np.sqrt(eigvals[0]/eigvals[-1])\n",
            "/usr/local/lib/python3.7/dist-packages/statsmodels/base/model.py:1294: RuntimeWarning: invalid value encountered in true_divide\n",
            "  return self.params / self.bse\n"
          ]
        }
      ]
    },
    {
      "cell_type": "markdown",
      "metadata": {
        "id": "lF4lJK33kdpj"
      },
      "source": [
        "Looking at some key statistics from the summary\n",
        "The values we are concerned with are -\n",
        "\n",
        "The coefficients and significance (p-values)\n",
        "R-squared\n",
        "F statistic and its significance\n",
        "\n",
        "1. The coefficient for Durasi/Jam is 5.3497, with a very low p value of 0.562\n",
        "The coefficient is statistically significant. So the association may not be purely by chance if we can divide the independent variable to just purely be Durasi/Jam.\n",
        "\n",
        "\n",
        "2. R - squared is 0.043\n",
        "Meaning that only 4% of the variance in peserta is explained by the independent variables, Quarter, Segmen, and Durasi/Jam. \n",
        "\n",
        "This is a **NOT** a good R-squared value."
      ]
    },
    {
      "cell_type": "code",
      "metadata": {
        "id": "8Sb3eRyoi5Iu"
      },
      "source": [
        "y_train_pred = lr.predict(X_train_sm)\n",
        "res = (y_train - y_train_pred)"
      ],
      "execution_count": null,
      "outputs": []
    },
    {
      "cell_type": "code",
      "metadata": {
        "colab": {
          "base_uri": "https://localhost:8080/",
          "height": 369
        },
        "id": "d2gYce3Mi-LH",
        "outputId": "24b538ef-33a2-487b-b9b0-c0629a4e3ea1"
      },
      "source": [
        "fig = plt.figure()\n",
        "sns.distplot(res, bins = 15)\n",
        "fig.suptitle('Error Terms', fontsize = 15)                  # Plot heading \n",
        "plt.xlabel('y_train - y_train_pred', fontsize = 15)         # X-label\n",
        "plt.show()"
      ],
      "execution_count": null,
      "outputs": [
        {
          "output_type": "stream",
          "name": "stderr",
          "text": [
            "/usr/local/lib/python3.7/dist-packages/seaborn/distributions.py:2619: FutureWarning: `distplot` is a deprecated function and will be removed in a future version. Please adapt your code to use either `displot` (a figure-level function with similar flexibility) or `histplot` (an axes-level function for histograms).\n",
            "  warnings.warn(msg, FutureWarning)\n"
          ]
        },
        {
          "output_type": "display_data",
          "data": {
            "image/png": "[encoded data removed]",
            "text/plain": [
              "<Figure size 432x288 with 1 Axes>"
            ]
          },
          "metadata": {
            "needs_background": "light"
          }
        }
      ]
    },
    {
      "cell_type": "code",
      "metadata": {
        "id": "uoIjmY5EjUNa"
      },
      "source": [
        "# Add a constant to X_test\n",
        "X_test_sm = sm.add_constant(X_test)\n",
        "\n",
        "# Predict the y values corresponding to X_test_sm\n",
        "y_pred = lr.predict(X_test_sm)"
      ],
      "execution_count": null,
      "outputs": []
    },
    {
      "cell_type": "code",
      "metadata": {
        "colab": {
          "base_uri": "https://localhost:8080/"
        },
        "id": "mQgNumBqjaAq",
        "outputId": "2b8f4808-f559-41a3-cd2d-d764f43c885c"
      },
      "source": [
        "y_pred.head()"
      ],
      "execution_count": null,
      "outputs": [
        {
          "output_type": "execute_result",
          "data": {
            "text/plain": [
              "48     52.956210\n",
              "57     52.956210\n",
              "19     52.136419\n",
              "125    64.993123\n",
              "110    46.786722\n",
              "dtype: float64"
            ]
          },
          "metadata": {},
          "execution_count": 54
        }
      ]
    },
    {
      "cell_type": "code",
      "metadata": {
        "id": "-WMBRSUxjfdE"
      },
      "source": [
        "from sklearn.metrics import mean_squared_error\n",
        "from sklearn.metrics import r2_score"
      ],
      "execution_count": null,
      "outputs": []
    },
    {
      "cell_type": "code",
      "metadata": {
        "colab": {
          "base_uri": "https://localhost:8080/"
        },
        "id": "5DaW3ycujitu",
        "outputId": "6992f979-3cec-499d-eb36-f0041b93ff35"
      },
      "source": [
        "#Returns the mean squared error; we'll take a square root\n",
        "np.sqrt(mean_squared_error(y_test, y_pred))"
      ],
      "execution_count": null,
      "outputs": [
        {
          "output_type": "execute_result",
          "data": {
            "text/plain": [
              "72.65617593394187"
            ]
          },
          "metadata": {},
          "execution_count": 56
        }
      ]
    },
    {
      "cell_type": "code",
      "metadata": {
        "colab": {
          "base_uri": "https://localhost:8080/"
        },
        "id": "cFpfVMOqjk6h",
        "outputId": "65ce2855-1e19-4625-a0f0-d43428a6d576"
      },
      "source": [
        "r_squared = r2_score(y_test, y_pred)\n",
        "r_squared"
      ],
      "execution_count": null,
      "outputs": [
        {
          "output_type": "execute_result",
          "data": {
            "text/plain": [
              "-0.055201398274515645"
            ]
          },
          "metadata": {},
          "execution_count": 57
        }
      ]
    },
    {
      "cell_type": "markdown",
      "metadata": {
        "id": "yQQz8cZljtfh"
      },
      "source": [
        "To conclude, the results are bad with this dataset even with one hot encoding.\n",
        "Hypothesis is because the independent variables have almost zero correlation to the dependent variable. "
      ]
    }
  ]
}
